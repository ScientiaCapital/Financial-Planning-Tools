{
 "cells": [
  {
   "cell_type": "markdown",
   "metadata": {},
   "source": [
    "# Financial Planning with APIs and Simulations\n",
    "\n",
    "In this Challenge, you’ll create two financial analysis tools by using a single Jupyter notebook:\n",
    "\n",
    "Part 1: A financial planner for emergencies. The members will be able to use this tool to visualize their current savings. The members can then determine if they have enough reserves for an emergency fund.\n",
    "\n",
    "Part 2: A financial planner for retirement. This tool will forecast the performance of their retirement portfolio in 30 years. To do this, the tool will make an Alpaca API call via the Alpaca SDK to get historical price data for use in Monte Carlo simulations.\n",
    "\n",
    "You’ll use the information from the Monte Carlo simulation to answer questions about the portfolio in your Jupyter notebook.\n",
    "\n"
   ]
  },
  {
   "cell_type": "code",
   "execution_count": 1,
   "metadata": {},
   "outputs": [],
   "source": [
    "# Import the required libraries and dependencies\n",
    "import os\n",
    "import requests\n",
    "import json\n",
    "import pandas as pd\n",
    "from dotenv import load_dotenv\n",
    "import alpaca_trade_api as tradeapi\n",
    "from MCForecastTools import MCSimulation\n",
    "\n",
    "%matplotlib inline"
   ]
  },
  {
   "cell_type": "code",
   "execution_count": 2,
   "metadata": {},
   "outputs": [
    {
     "data": {
      "text/plain": [
       "True"
      ]
     },
     "execution_count": 2,
     "metadata": {},
     "output_type": "execute_result"
    }
   ],
   "source": [
    "# Load the environment variables from the .env file\n",
    "#by calling the load_dotenv function\n",
    "load_dotenv()"
   ]
  },
  {
   "cell_type": "markdown",
   "metadata": {},
   "source": [
    "## Part 1: Create a Financial Planner for Emergencies"
   ]
  },
  {
   "cell_type": "markdown",
   "metadata": {},
   "source": [
    "### Evaluate the Cryptocurrency Wallet by Using the Requests Library\n",
    "\n",
    "In this section, you’ll determine the current value of a member’s cryptocurrency wallet. You’ll collect the current prices for the Bitcoin and Ethereum cryptocurrencies by using the Python Requests library. For the prototype, you’ll assume that the member holds the 1.2 Bitcoins (BTC) and 5.3 Ethereum coins (ETH). To do all this, complete the following steps:\n",
    "\n",
    "1. Create a variable named `monthly_income`, and set its value to `12000`.\n",
    "\n",
    "2. Use the Requests library to get the current price (in US dollars) of Bitcoin (BTC) and Ethereum (ETH) by using the API endpoints that the starter code supplies.\n",
    "\n",
    "3. Navigate the JSON response object to access the current price of each coin, and store each in a variable.\n",
    "\n",
    "    > **Hint** Note the specific identifier for each cryptocurrency in the API JSON response. The Bitcoin identifier is `1`, and the Ethereum identifier is `1027`.\n",
    "\n",
    "4. Calculate the value, in US dollars, of the current amount of each cryptocurrency and of the entire cryptocurrency wallet.\n",
    "\n"
   ]
  },
  {
   "cell_type": "code",
   "execution_count": 3,
   "metadata": {},
   "outputs": [],
   "source": [
    "# The current number of coins for each cryptocurrency asset held in the portfolio.\n",
    "btc_coins = 1.2\n",
    "eth_coins = 5.3"
   ]
  },
  {
   "cell_type": "markdown",
   "metadata": {},
   "source": [
    "#### Step 1: Create a variable named `monthly_income`, and set its value to `12000`."
   ]
  },
  {
   "cell_type": "code",
   "execution_count": 4,
   "metadata": {},
   "outputs": [],
   "source": [
    "# The monthly amount for the member's household income\n",
    "monthly_income = 12000\n"
   ]
  },
  {
   "cell_type": "markdown",
   "metadata": {},
   "source": [
    "#### Review the endpoint URLs for the API calls to Free Crypto API in order to get the current pricing information for both BTC and ETH."
   ]
  },
  {
   "cell_type": "code",
   "execution_count": 5,
   "metadata": {},
   "outputs": [],
   "source": [
    "# The Free Crypto API Call endpoint URLs for the held cryptocurrency assets\n",
    "btc_url = \"https://api.alternative.me/v2/ticker/Bitcoin/?convert=USD\"\n",
    "eth_url = \"https://api.alternative.me/v2/ticker/Ethereum/?convert=USD\""
   ]
  },
  {
   "cell_type": "markdown",
   "metadata": {},
   "source": [
    "#### Step 2. Use the Requests library to get the current price (in US dollars) of Bitcoin (BTC) and Ethereum (ETH) by using the API endpoints that the starter code supplied."
   ]
  },
  {
   "cell_type": "code",
   "execution_count": 7,
   "metadata": {},
   "outputs": [
    {
     "name": "stdout",
     "output_type": "stream",
     "text": [
      "{\n",
      "    \"data\": {\n",
      "        \"1\": {\n",
      "            \"circulating_supply\": 18615075,\n",
      "            \"id\": 1,\n",
      "            \"last_updated\": 1612059265,\n",
      "            \"max_supply\": 21000000,\n",
      "            \"name\": \"Bitcoin\",\n",
      "            \"quotes\": {\n",
      "                \"USD\": {\n",
      "                    \"market_cap\": 634783151669,\n",
      "                    \"percent_change_1h\": 0.106531841343968,\n",
      "                    \"percent_change_24h\": 0.602861176865107,\n",
      "                    \"percent_change_7d\": 6.02705446902067,\n",
      "                    \"percentage_change_1h\": 0.106531841343968,\n",
      "                    \"percentage_change_24h\": 0.602861176865107,\n",
      "                    \"percentage_change_7d\": 6.02705446902067,\n",
      "                    \"price\": 34001.0,\n",
      "                    \"volume_24h\": 50840729738\n",
      "                }\n",
      "            },\n",
      "            \"rank\": 1,\n",
      "            \"symbol\": \"BTC\",\n",
      "            \"total_supply\": 18615075,\n",
      "            \"website_slug\": \"bitcoin\"\n",
      "        }\n",
      "    },\n",
      "    \"metadata\": {\n",
      "        \"error\": null,\n",
      "        \"num_cryptocurrencies\": 1371,\n",
      "        \"timestamp\": 1612059265\n",
      "    }\n",
      "}\n"
     ]
    }
   ],
   "source": [
    "# Using the Python requests library, make an API call to access the current price of BTC\n",
    "btc_response = requests.get(btc_url).json()\n",
    "\n",
    "# Use the json.dumps function to review the response data from the API call\n",
    "# Use the indent and sort_keys parameters to make the response object readable\n",
    "print(json.dumps(btc_response, indent = 4, sort_keys = True))"
   ]
  },
  {
   "cell_type": "code",
   "execution_count": 8,
   "metadata": {},
   "outputs": [
    {
     "name": "stdout",
     "output_type": "stream",
     "text": [
      "{\n",
      "    \"data\": {\n",
      "        \"1027\": {\n",
      "            \"circulating_supply\": 114471817,\n",
      "            \"id\": 1027,\n",
      "            \"last_updated\": 1612059188,\n",
      "            \"max_supply\": 0,\n",
      "            \"name\": \"Ethereum\",\n",
      "            \"quotes\": {\n",
      "                \"USD\": {\n",
      "                    \"market_cap\": 157206518728,\n",
      "                    \"percent_change_1h\": 0.134566508850757,\n",
      "                    \"percent_change_24h\": -0.292613175688169,\n",
      "                    \"percent_change_7d\": 11.0268230286847,\n",
      "                    \"percentage_change_1h\": 0.134566508850757,\n",
      "                    \"percentage_change_24h\": -0.292613175688169,\n",
      "                    \"percentage_change_7d\": 11.0268230286847,\n",
      "                    \"price\": 1366.94,\n",
      "                    \"volume_24h\": 28383856646\n",
      "                }\n",
      "            },\n",
      "            \"rank\": 2,\n",
      "            \"symbol\": \"ETH\",\n",
      "            \"total_supply\": 114471817,\n",
      "            \"website_slug\": \"ethereum\"\n",
      "        }\n",
      "    },\n",
      "    \"metadata\": {\n",
      "        \"error\": null,\n",
      "        \"num_cryptocurrencies\": 1371,\n",
      "        \"timestamp\": 1612059188\n",
      "    }\n",
      "}\n"
     ]
    }
   ],
   "source": [
    "# Using the Python requests library, make an API call to access the current price ETH\n",
    "eth_response = requests.get(eth_url).json()\n",
    "\n",
    "# Use the json.dumps function to review the response data from the API call\n",
    "# Use the indent and sort_keys parameters to make the response object readable\n",
    "print(json.dumps(eth_response, indent = 4, sort_keys = True))"
   ]
  },
  {
   "cell_type": "markdown",
   "metadata": {},
   "source": [
    "#### Step 3: Navigate the JSON response object to access the current price of each coin, and store each in a variable."
   ]
  },
  {
   "cell_type": "code",
   "execution_count": 9,
   "metadata": {},
   "outputs": [
    {
     "name": "stdout",
     "output_type": "stream",
     "text": [
      "The price for BTC is $34,001.00\n"
     ]
    }
   ],
   "source": [
    "# Navigate the BTC response object to access the current price of BTC\n",
    "btc_price = btc_response['data']['1']['quotes']['USD']['price']\n",
    "\n",
    "# Print the current price of BTC\n",
    "print(f\"The price for BTC is ${btc_price:,.2f}\")"
   ]
  },
  {
   "cell_type": "code",
   "execution_count": 10,
   "metadata": {},
   "outputs": [
    {
     "name": "stdout",
     "output_type": "stream",
     "text": [
      "The price for ETH is $1,366.94\n"
     ]
    }
   ],
   "source": [
    "# Navigate the BTC response object to access the current price of ETH\n",
    "eth_price = eth_response['data']['1027']['quotes']['USD']['price']\n",
    "\n",
    "# Print the current price of ETH\n",
    "print(f\"The price for ETH is ${eth_price:,.2f}\")"
   ]
  },
  {
   "cell_type": "markdown",
   "metadata": {},
   "source": [
    "### Step 4: Calculate the value, in US dollars, of the current amount of each cryptocurrency and of the entire cryptocurrency wallet."
   ]
  },
  {
   "cell_type": "code",
   "execution_count": 11,
   "metadata": {},
   "outputs": [
    {
     "name": "stdout",
     "output_type": "stream",
     "text": [
      "The current value of the total Bitcoin (BTC) holding is $40,801.20\n"
     ]
    }
   ],
   "source": [
    "# Compute the current value of the BTC holding \n",
    "btc_value = btc_coins * btc_price\n",
    "\n",
    "# Print current value of your holding in BTC\n",
    "print(f\"The current value of the total Bitcoin (BTC) holding is ${btc_value:,.2f}\")"
   ]
  },
  {
   "cell_type": "code",
   "execution_count": 12,
   "metadata": {},
   "outputs": [
    {
     "name": "stdout",
     "output_type": "stream",
     "text": [
      "The current value of the total Ethereum (ETH) holding is $7,244.78\n"
     ]
    }
   ],
   "source": [
    "# Compute the current value of the ETH holding \n",
    "eth_value = eth_coins * eth_price\n",
    "\n",
    "# Print current value of your holding in ETH\n",
    "print(f\"The current value of the total Ethereum (ETH) holding is ${eth_value:,.2f}\")"
   ]
  },
  {
   "cell_type": "code",
   "execution_count": 13,
   "metadata": {},
   "outputs": [
    {
     "name": "stdout",
     "output_type": "stream",
     "text": [
      "The total value of the entire cryptocurrency wallet is $48,045.98\n"
     ]
    }
   ],
   "source": [
    "# Compute the total value of the cryptocurrency wallet\n",
    "# Add the value of the BTC holding to the value of the ETH holding\n",
    "total_crypto_wallet = btc_value + eth_value\n",
    "\n",
    "# Print current cryptocurrency wallet balance\n",
    "print(f\"The total value of the entire cryptocurrency wallet is ${total_crypto_wallet:,.2f}\")"
   ]
  },
  {
   "cell_type": "markdown",
   "metadata": {},
   "source": [
    "### Evaluate the Stock and Bond Holdings by Using the Alpaca SDK\n",
    "\n",
    "In this section, you’ll determine the current value of a member’s stock and bond holdings. You’ll make an API call to Alpaca via the Alpaca SDK to get the current closing prices of the SPDR S&P 500 ETF Trust (ticker: SPY) and of the iShares Core US Aggregate Bond ETF (ticker: AGG). For the prototype, assume that the member holds 110 shares of SPY, which represents the stock portion of their portfolio, and 200 shares of AGG, which represents the bond portion. To do all this, complete the following steps:\n",
    "\n",
    "1. In the `Starter_Code` folder, create an environment file (`.env`) to store the values of your Alpaca API key and Alpaca secret key.\n",
    "\n",
    "2. Set the variables for the Alpaca API and secret keys. Using the Alpaca SDK, create the Alpaca `tradeapi.REST` object. In this object, include the parameters for the Alpaca API key, the secret key, and the version number.\n",
    "\n",
    "3. Set the following parameters for the Alpaca API call:\n",
    "\n",
    "    - `tickers`: Use the tickers for the member’s stock and bond holdings.\n",
    "\n",
    "    - `timeframe`: Use a time frame of one day.\n",
    "\n",
    "    - `start_date` and `end_date`: Use the same date for these parameters, and format them with the date of the previous weekday (or `2020-08-07`). This is because you want the one closing price for the most-recent trading day.\n",
    "\n",
    "4. Get the current closing prices for `SPY` and `AGG` by using the Alpaca `get_barset` function. Format the response as a Pandas DataFrame by including the `df` property at the end of the `get_barset` function.\n",
    "\n",
    "5. Navigating the Alpaca response DataFrame, select the `SPY` and `AGG` closing prices, and store them as variables.\n",
    "\n",
    "6. Calculate the value, in US dollars, of the current amount of shares in each of the stock and bond portions of the portfolio, and print the results.\n"
   ]
  },
  {
   "cell_type": "markdown",
   "metadata": {},
   "source": [
    "#### Review the total number of shares held in both (SPY) and (AGG)."
   ]
  },
  {
   "cell_type": "code",
   "execution_count": 14,
   "metadata": {},
   "outputs": [],
   "source": [
    "# Current amount of shares held in both the stock (SPY) and bond (AGG) portion of the portfolio.\n",
    "spy_shares = 110\n",
    "agg_shares = 200\n"
   ]
  },
  {
   "cell_type": "markdown",
   "metadata": {},
   "source": [
    "#### Step 1: In the `Starter_Code` folder, create an environment file (`.env`) to store the values of your Alpaca API key and Alpaca secret key."
   ]
  },
  {
   "cell_type": "markdown",
   "metadata": {},
   "source": [
    "#### Step 2: Set the variables for the Alpaca API and secret keys. Using the Alpaca SDK, create the Alpaca `tradeapi.REST` object. In this object, include the parameters for the Alpaca API key, the secret key, and the version number."
   ]
  },
  {
   "cell_type": "code",
   "execution_count": 15,
   "metadata": {},
   "outputs": [
    {
     "data": {
      "text/plain": [
       "str"
      ]
     },
     "metadata": {},
     "output_type": "display_data"
    },
    {
     "data": {
      "text/plain": [
       "str"
      ]
     },
     "metadata": {},
     "output_type": "display_data"
    }
   ],
   "source": [
    "# Set the variables for the Alpaca API and secret keys\n",
    "alpaca_api_key = os.getenv(\"ALPACA_API_KEY\")\n",
    "alpaca_secret_key = os.getenv(\"ALPACA_SECRET_KEY\")\n",
    "\n",
    "# Check the values were imported correctly by evaluating the type of each\n",
    "display(type(alpaca_api_key))\n",
    "display(type(alpaca_secret_key))\n",
    "\n",
    "# Create the Alpaca tradeapi.REST object\n",
    "alpaca = tradeapi.REST(\n",
    "    alpaca_api_key,\n",
    "    alpaca_secret_key,\n",
    "    api_version = \"v2\"\n",
    ")"
   ]
  },
  {
   "cell_type": "markdown",
   "metadata": {},
   "source": [
    "#### Step 3: Set the following parameters for the Alpaca API call:\n",
    "\n",
    "- `tickers`: Use the tickers for the member’s stock and bond holdings.\n",
    "\n",
    "- `timeframe`: Use a time frame of one day.\n",
    "\n",
    "- `start_date` and `end_date`: Use the same date for these parameters, and format them with the date of the previous weekday (or `2020-08-07`). This is because you want the one closing price for the most-recent trading day.\n"
   ]
  },
  {
   "cell_type": "code",
   "execution_count": 18,
   "metadata": {},
   "outputs": [],
   "source": [
    "# Set the tickers for both the bond and stock portion of the portfolio\n",
    "# YOUR CODE HERE\n",
    "tickers = [\"SPY\", \"AGG\"]\n",
    "\n",
    "# Set timeframe to 1D \n",
    "timeframe = \"1D\"\n",
    "\n",
    "# Format current date as ISO format\n",
    "# Set both the start and end date at the date of your prior weekday \n",
    "# This will give you the closing price of the previous trading day\n",
    "# Alternatively you can use a start and end date of 2020-08-07\n",
    "start_date = pd.Timestamp(\"2021-01-26\", tz=\"America/New_York\").isoformat()\n",
    "end_date = pd.Timestamp(\"2021-01-26\", tz=\"America/New_York\").isoformat()\n"
   ]
  },
  {
   "cell_type": "markdown",
   "metadata": {},
   "source": [
    "#### Step 4: Get the current closing prices for `SPY` and `AGG` by using the Alpaca `get_barset` function. Format the response as a Pandas DataFrame by including the `df` property at the end of the `get_barset` function."
   ]
  },
  {
   "cell_type": "code",
   "execution_count": 19,
   "metadata": {},
   "outputs": [
    {
     "data": {
      "text/html": [
       "<div>\n",
       "<style scoped>\n",
       "    .dataframe tbody tr th:only-of-type {\n",
       "        vertical-align: middle;\n",
       "    }\n",
       "\n",
       "    .dataframe tbody tr th {\n",
       "        vertical-align: top;\n",
       "    }\n",
       "\n",
       "    .dataframe thead tr th {\n",
       "        text-align: left;\n",
       "    }\n",
       "\n",
       "    .dataframe thead tr:last-of-type th {\n",
       "        text-align: right;\n",
       "    }\n",
       "</style>\n",
       "<table border=\"1\" class=\"dataframe\">\n",
       "  <thead>\n",
       "    <tr>\n",
       "      <th></th>\n",
       "      <th colspan=\"5\" halign=\"left\">AGG</th>\n",
       "      <th colspan=\"5\" halign=\"left\">SPY</th>\n",
       "    </tr>\n",
       "    <tr>\n",
       "      <th></th>\n",
       "      <th>open</th>\n",
       "      <th>high</th>\n",
       "      <th>low</th>\n",
       "      <th>close</th>\n",
       "      <th>volume</th>\n",
       "      <th>open</th>\n",
       "      <th>high</th>\n",
       "      <th>low</th>\n",
       "      <th>close</th>\n",
       "      <th>volume</th>\n",
       "    </tr>\n",
       "    <tr>\n",
       "      <th>time</th>\n",
       "      <th></th>\n",
       "      <th></th>\n",
       "      <th></th>\n",
       "      <th></th>\n",
       "      <th></th>\n",
       "      <th></th>\n",
       "      <th></th>\n",
       "      <th></th>\n",
       "      <th></th>\n",
       "      <th></th>\n",
       "    </tr>\n",
       "  </thead>\n",
       "  <tbody>\n",
       "    <tr>\n",
       "      <th>2021-01-26 00:00:00-05:00</th>\n",
       "      <td>117.46</td>\n",
       "      <td>117.585</td>\n",
       "      <td>117.4255</td>\n",
       "      <td>117.51</td>\n",
       "      <td>3451493</td>\n",
       "      <td>385.41</td>\n",
       "      <td>385.85</td>\n",
       "      <td>383.54</td>\n",
       "      <td>383.83</td>\n",
       "      <td>36871235</td>\n",
       "    </tr>\n",
       "  </tbody>\n",
       "</table>\n",
       "</div>"
      ],
      "text/plain": [
       "                              AGG                                         SPY  \\\n",
       "                             open     high       low   close   volume    open   \n",
       "time                                                                            \n",
       "2021-01-26 00:00:00-05:00  117.46  117.585  117.4255  117.51  3451493  385.41   \n",
       "\n",
       "                                                             \n",
       "                             high     low   close    volume  \n",
       "time                                                         \n",
       "2021-01-26 00:00:00-05:00  385.85  383.54  383.83  36871235  "
      ]
     },
     "execution_count": 19,
     "metadata": {},
     "output_type": "execute_result"
    }
   ],
   "source": [
    "# Use the Alpaca get_barset function to get current closing prices the portfolio\n",
    "# Be sure to set the `df` property after the function to format the response object as a DataFrame\n",
    "prices_df = alpaca.get_barset(\n",
    "    tickers,\n",
    "    timeframe,\n",
    "    start=start_date,\n",
    "    end=end_date\n",
    ").df\n",
    "\n",
    "# Review the first 5 rows of the Alpaca DataFrame \n",
    "prices_df.head()"
   ]
  },
  {
   "cell_type": "markdown",
   "metadata": {},
   "source": [
    "#### Step 5: Navigating the Alpaca response DataFrame, select the `SPY` and `AGG` closing prices, and store them as variables."
   ]
  },
  {
   "cell_type": "code",
   "execution_count": 20,
   "metadata": {},
   "outputs": [
    {
     "name": "stdout",
     "output_type": "stream",
     "text": [
      "AGG    $ 117.51\n",
      "<class 'float'>\n"
     ]
    }
   ],
   "source": [
    "# Access the closing price for AGG from the Alpaca DataFrame\n",
    "# Converting the value to a floating point number\n",
    "agg_close_price = float(prices_df[\"AGG\"][\"close\"])\n",
    "\n",
    "# Print the AGG closing price\n",
    "print(f\"AGG    ${agg_close_price: .2f}\")\n",
    "print(type(agg_close_price))"
   ]
  },
  {
   "cell_type": "code",
   "execution_count": 21,
   "metadata": {},
   "outputs": [
    {
     "name": "stdout",
     "output_type": "stream",
     "text": [
      "SPY    $ 383.83\n",
      "<class 'float'>\n"
     ]
    }
   ],
   "source": [
    "# Access the closing price for SPY from the Alpaca DataFrame\n",
    "# Converting the value to a floating point number\n",
    "spy_close_price = float(prices_df[\"SPY\"][\"close\"])\n",
    "\n",
    "# Print the SPY closing price\n",
    "print(f\"SPY    ${spy_close_price: .2f}\")\n",
    "print(type(spy_close_price))"
   ]
  },
  {
   "cell_type": "markdown",
   "metadata": {},
   "source": [
    "#### Step 6: Calculate the value, in US dollars, of the current amount of shares in each of the stock and bond portions of the portfolio, and print the results."
   ]
  },
  {
   "cell_type": "code",
   "execution_count": 22,
   "metadata": {},
   "outputs": [
    {
     "name": "stdout",
     "output_type": "stream",
     "text": [
      "Current Value of the Bond Portfolio:            $23,502.00\n"
     ]
    }
   ],
   "source": [
    "\n",
    "# Calculate the current value of the bond portion of the portfolio\n",
    "agg_value = agg_close_price * agg_shares\n",
    "\n",
    "# Print the current value of the bond portfolio\n",
    "print(f\"Current Value of the Bond Portfolio:            ${agg_value:,.2f}\")"
   ]
  },
  {
   "cell_type": "code",
   "execution_count": 23,
   "metadata": {},
   "outputs": [
    {
     "name": "stdout",
     "output_type": "stream",
     "text": [
      "Current Value of the Stock Portfolio:            $42,221.30\n"
     ]
    }
   ],
   "source": [
    "\n",
    "# Calculate the current value of the stock portion of the portfolio\n",
    "spy_value = spy_close_price * spy_shares\n",
    "\n",
    "# Print the current value of the stock portfolio\n",
    "print(f\"Current Value of the Stock Portfolio:            ${spy_value:,.2f}\")"
   ]
  },
  {
   "cell_type": "code",
   "execution_count": 24,
   "metadata": {},
   "outputs": [
    {
     "name": "stdout",
     "output_type": "stream",
     "text": [
      "Total Value of the Stock/Bond Portion of the Portfolio:            $65,723.30\n"
     ]
    }
   ],
   "source": [
    "# Calculate the total value of the stock and bond portion of the portfolio\n",
    "total_stocks_bonds = agg_value + spy_value\n",
    "\n",
    "# Print the current balance of the stock and bond portion of the portfolio\n",
    "print(f\"Total Value of the Stock/Bond Portion of the Portfolio:            ${total_stocks_bonds:,.2f}\")"
   ]
  },
  {
   "cell_type": "code",
   "execution_count": 25,
   "metadata": {},
   "outputs": [
    {
     "name": "stdout",
     "output_type": "stream",
     "text": [
      "Total Value of Entire Portfolio (Stocks/Bonds & Crypto):            $113,769.28\n"
     ]
    }
   ],
   "source": [
    "# Calculate the total value of the member's entire savings portfolio\n",
    "# Add the value of the cryptocurrency walled to the value of the total stocks and bonds\n",
    "total_portfolio = total_crypto_wallet + total_stocks_bonds\n",
    "\n",
    "# Print current cryptocurrency wallet balance\n",
    "# YOUR CODE HERE\n",
    "print(f\"Total Value of Entire Portfolio (Stocks/Bonds & Crypto):            ${total_portfolio:,.2f}\")"
   ]
  },
  {
   "cell_type": "markdown",
   "metadata": {},
   "source": [
    "### Evaluate the Emergency Fund\n",
    "\n",
    "In this section, you’ll use the valuations for the cryptocurrency wallet and for the stock and bond portions of the portfolio to determine if the credit union member has enough savings to build an emergency fund into their financial plan. To do this, complete the following steps:\n",
    "\n",
    "1. Create a Python list named `savings_data` that has two elements. The first element contains the total value of the cryptocurrency wallet. The second element contains the total value of the stock and bond portions of the portfolio.\n",
    "\n",
    "2. Use the `savings_data` list to create a Pandas DataFrame named `savings_df`, and then display this DataFrame. The function to create the DataFrame should take the following three parameters:\n",
    "\n",
    "    - `savings_data`: Use the list that you just created.\n",
    "\n",
    "    - `columns`: Set this parameter equal to a Python list with a single value called `amount`.\n",
    "\n",
    "    - `index`: Set this parameter equal to a Python list with the values of `crypto` and `stock/bond`.\n",
    "\n",
    "3. Use the `savings_df` DataFrame to plot a pie chart that visualizes the composition of the member’s portfolio. The y-axis of the pie chart uses `amount`. Be sure to add a title.\n",
    "\n",
    "4. Using Python, determine if the current portfolio has enough to create an emergency fund as part of the member’s financial plan. Ideally, an emergency fund should equal to three times the member’s monthly income. To do this, implement the following steps:\n",
    "\n",
    "    1. Create a variable named `emergency_fund_value`, and set it equal to three times the value of the member’s `monthly_income` of $12000. (You set this earlier in Part 1).\n",
    "\n",
    "    2. Create a series of three if statements to determine if the member’s total portfolio is large enough to fund the emergency portfolio:\n",
    "\n",
    "        1. If the total portfolio value is greater than the emergency fund value, display a message congratulating the member for having enough money in this fund.\n",
    "\n",
    "        2. Else if the total portfolio value is equal to the emergency fund value, display a message congratulating the member on reaching this important financial goal.\n",
    "\n",
    "        3. Else the total portfolio is less than the emergency fund value, so display a message showing how many dollars away the member is from reaching the goal. (Subtract the total portfolio value from the emergency fund value.)\n"
   ]
  },
  {
   "cell_type": "markdown",
   "metadata": {},
   "source": [
    "#### Step 1: Create a Python list named `savings_data` that has two elements. The first element contains the total value of the cryptocurrency wallet. The second element contains the total value of the stock and bond portions of the portfolio."
   ]
  },
  {
   "cell_type": "code",
   "execution_count": 26,
   "metadata": {},
   "outputs": [
    {
     "data": {
      "text/plain": [
       "['Crypto', 'Stock/Bond']"
      ]
     },
     "execution_count": 26,
     "metadata": {},
     "output_type": "execute_result"
    }
   ],
   "source": [
    "# Consolidate financial assets data into a Python list\n",
    "savings_data = [\"Crypto\", \"Stock/Bond\"] \n",
    "\n",
    "# Review the Python list savings_data\n",
    "savings_data  "
   ]
  },
  {
   "cell_type": "markdown",
   "metadata": {},
   "source": [
    "#### Step 2: Use the `savings_data` list to create a Pandas DataFrame named `savings_df`, and then display this DataFrame. The function to create the DataFrame should take the following three parameters:\n",
    "\n",
    "- `savings_data`: Use the list that you just created.\n",
    "\n",
    "- `columns`: Set this parameter equal to a Python list with a single value called `amount`.\n",
    "\n",
    "- `index`: Set this parameter equal to a Python list with the values of `crypto` and `stock/bond`.\n"
   ]
  },
  {
   "cell_type": "code",
   "execution_count": 27,
   "metadata": {},
   "outputs": [
    {
     "data": {
      "text/html": [
       "<div>\n",
       "<style scoped>\n",
       "    .dataframe tbody tr th:only-of-type {\n",
       "        vertical-align: middle;\n",
       "    }\n",
       "\n",
       "    .dataframe tbody tr th {\n",
       "        vertical-align: top;\n",
       "    }\n",
       "\n",
       "    .dataframe thead th {\n",
       "        text-align: right;\n",
       "    }\n",
       "</style>\n",
       "<table border=\"1\" class=\"dataframe\">\n",
       "  <thead>\n",
       "    <tr style=\"text-align: right;\">\n",
       "      <th></th>\n",
       "      <th>Amount</th>\n",
       "    </tr>\n",
       "  </thead>\n",
       "  <tbody>\n",
       "    <tr>\n",
       "      <th>Crypto</th>\n",
       "      <td>48045.982</td>\n",
       "    </tr>\n",
       "    <tr>\n",
       "      <th>Stock/Bond</th>\n",
       "      <td>65723.300</td>\n",
       "    </tr>\n",
       "  </tbody>\n",
       "</table>\n",
       "</div>"
      ],
      "text/plain": [
       "               Amount\n",
       "Crypto      48045.982\n",
       "Stock/Bond  65723.300"
      ]
     },
     "execution_count": 27,
     "metadata": {},
     "output_type": "execute_result"
    }
   ],
   "source": [
    "# Create a Pandas DataFrame called savings_df \n",
    "savings_df = pd.DataFrame(\n",
    "    {'Amount':[total_crypto_wallet, total_stocks_bonds]},\n",
    "    index=savings_data\n",
    ")\n",
    "\n",
    "# Display the savings_df DataFrame\n",
    "savings_df"
   ]
  },
  {
   "cell_type": "markdown",
   "metadata": {},
   "source": [
    "#### Step 3: Use the `savings_df` DataFrame to plot a pie chart that visualizes the composition of the member’s portfolio. The y-axis of the pie chart uses `amount`. Be sure to add a title."
   ]
  },
  {
   "cell_type": "code",
   "execution_count": 28,
   "metadata": {},
   "outputs": [
    {
     "data": {
      "text/plain": [
       "<AxesSubplot:title={'center':'Portfolio: Crypto v. Stock/Bond Holdings'}, ylabel='Amount'>"
      ]
     },
     "execution_count": 28,
     "metadata": {},
     "output_type": "execute_result"
    },
    {
     "data": {
      "image/png": "[encoded data removed]",
      "text/plain": [
       "<Figure size 432x288 with 1 Axes>"
      ]
     },
     "metadata": {},
     "output_type": "display_data"
    }
   ],
   "source": [
    "# Plot the total value of the member's portfolio (crypto and stock/bond) in a pie chart\n",
    "savings_df.plot.pie(y='Amount', title='Portfolio: Crypto v. Stock/Bond Holdings')"
   ]
  },
  {
   "cell_type": "markdown",
   "metadata": {},
   "source": [
    "#### Step 4: Using Python, determine if the current portfolio has enough to create an emergency fund as part of the member’s financial plan. Ideally, an emergency fund should equal to three times the member’s monthly income. To do this, implement the following steps:\n",
    "\n",
    "Step 1. Create a variable named `emergency_fund_value`, and set it equal to three times the value of the member’s `monthly_income` of 12000. (You set this earlier in Part 1).\n",
    "\n",
    "Step 2. Create a series of three if statements to determine if the member’s total portfolio is large enough to fund the emergency portfolio:\n",
    "\n",
    "* If the total portfolio value is greater than the emergency fund value, display a message congratulating the member for having enough money in this fund.\n",
    "\n",
    "* Else if the total portfolio value is equal to the emergency fund value, display a message congratulating the member on reaching this important financial goal.\n",
    "\n",
    "* Else the total portfolio is less than the emergency fund value, so display a message showing how many dollars away the member is from reaching the goal. (Subtract the total portfolio value from the emergency fund value.)\n"
   ]
  },
  {
   "cell_type": "markdown",
   "metadata": {},
   "source": [
    "##### Step 4-1: Create a variable named `emergency_fund_value`, and set it equal to three times the value of the member’s `monthly_income` of 12000. (You set this earlier in Part 1)."
   ]
  },
  {
   "cell_type": "code",
   "execution_count": 29,
   "metadata": {},
   "outputs": [
    {
     "data": {
      "text/plain": [
       "36000"
      ]
     },
     "execution_count": 29,
     "metadata": {},
     "output_type": "execute_result"
    }
   ],
   "source": [
    "reserve_months = 3\n",
    "\n",
    "# Create a variable named emergency_fund_value\n",
    "emergency_fund_value = monthly_income * reserve_months\n",
    "\n",
    "emergency_fund_value"
   ]
  },
  {
   "cell_type": "markdown",
   "metadata": {},
   "source": [
    "##### Step 4-2: Create a series of three if statements to determine if the member’s total portfolio is large enough to fund the emergency portfolio:\n",
    "\n",
    "* If the total portfolio value is greater than the emergency fund value, display a message congratulating the member for having enough money in this fund.\n",
    "\n",
    "* Else if the total portfolio value is equal to the emergency fund value, display a message congratulating the member on reaching this important financial goal.\n",
    "\n",
    "* Else the total portfolio is less than the emergency fund value, so display a message showing how many dollars away the member is from reaching the goal. (Subtract the total portfolio value from the emergency fund value.)"
   ]
  },
  {
   "cell_type": "code",
   "execution_count": 30,
   "metadata": {},
   "outputs": [
    {
     "name": "stdout",
     "output_type": "stream",
     "text": [
      "Congratulations!!! You have enough money in this fund for your goal of a 3 month reserve, plus an additional 6.48 months.\n"
     ]
    }
   ],
   "source": [
    "# Evaluate the possibility of creating an emergency fund with 3 conditions:\n",
    "if total_portfolio > emergency_fund_value:\n",
    "    print(f\"Congratulations!!! You have enough money in this fund for your goal of a {reserve_months} month reserve, plus an additional {((total_portfolio / monthly_income) - reserve_months):,.2f} months.\")\n",
    "if total_portfolio == emergency_fund_value: \n",
    "    print(f\"Great Work!! You've reached this important financial goal of having a {reserve_months} month reserve.\")\n",
    "if total_portfolio < emergency_fund_value:\n",
    "    print(f\"Way to go! Only ${(emergency_fund_value - total_portfolio):,.2f} away from reaching your goal of having {reserve_months} months' expenses for an emergency fund.\")"
   ]
  },
  {
   "cell_type": "markdown",
   "metadata": {},
   "source": [
    "## Part 2: Create a Financial Planner for Retirement"
   ]
  },
  {
   "cell_type": "markdown",
   "metadata": {},
   "source": [
    "### Create the Monte Carlo Simulation\n",
    "\n",
    "In this section, you’ll use the MCForecastTools library to create a Monte Carlo simulation for the member’s savings portfolio. To do this, complete the following steps:\n",
    "\n",
    "1. Make an API call via the Alpaca SDK to get 10 years of historical closing prices for a traditional 60/40 portfolio split: 60% stocks (SPY) and 40% bonds (AGG).\n",
    "\n",
    "2. Run a Monte Carlo simulation of 500 samples and 30 years for the 60/40 portfolio, and then plot the results.The following image shows the overlay line plot resulting from a simulation with these characteristics. However, because a random number generator is used to run each live Monte Carlo simulation, your image will differ slightly from this exact image:\n",
    "\n",
    "![A screenshot depicts the resulting plot.](Images/5-4-monte-carlo-line-plot.png)\n",
    "\n",
    "3. Plot the probability distribution of the Monte Carlo simulation. Plot the probability distribution of the Monte Carlo simulation. The following image shows the histogram plot resulting from a simulation with these characteristics. However, because a random number generator is used to run each live Monte Carlo simulation, your image will differ slightly from this exact image:\n",
    "\n",
    "![A screenshot depicts the histogram plot.](Images/5-4-monte-carlo-histogram.png)\n",
    "\n",
    "4. Generate the summary statistics for the Monte Carlo simulation.\n",
    "\n"
   ]
  },
  {
   "cell_type": "markdown",
   "metadata": {},
   "source": [
    "#### Step 1: Make an API call via the Alpaca SDK to get 10 years of historical closing prices for a traditional 60/40 portfolio split: 60% stocks (SPY) and 40% bonds (AGG)."
   ]
  },
  {
   "cell_type": "code",
   "execution_count": 31,
   "metadata": {},
   "outputs": [],
   "source": [
    "# Set start and end dates of 10 years back from your current date\n",
    "# Alternatively, you can use an end date of 2020-08-07 and work 10 years back from that date \n",
    "start_date = pd.Timestamp(\"2011-01-26\", tz=\"America/New_York\").isoformat()\n",
    "end_date = pd.Timestamp(\"2021-01-26\", tz=\"America/New_York\").isoformat()\n",
    "\n",
    "# today_date = str(datetime.datetime.now()).split()[0]\n",
    "# one_year_ago = str(datetime.datetime.now() - datetime.timedelta(days=1*365)).split()[0]\n",
    "# three_year_ago = str(datetime.datetime.now() - datetime.timedelta(days=3*365)).split()[0]"
   ]
  },
  {
   "cell_type": "code",
   "execution_count": 32,
   "metadata": {},
   "outputs": [
    {
     "data": {
      "text/html": [
       "<div>\n",
       "<style scoped>\n",
       "    .dataframe tbody tr th:only-of-type {\n",
       "        vertical-align: middle;\n",
       "    }\n",
       "\n",
       "    .dataframe tbody tr th {\n",
       "        vertical-align: top;\n",
       "    }\n",
       "\n",
       "    .dataframe thead tr th {\n",
       "        text-align: left;\n",
       "    }\n",
       "\n",
       "    .dataframe thead tr:last-of-type th {\n",
       "        text-align: right;\n",
       "    }\n",
       "</style>\n",
       "<table border=\"1\" class=\"dataframe\">\n",
       "  <thead>\n",
       "    <tr>\n",
       "      <th></th>\n",
       "      <th colspan=\"5\" halign=\"left\">AGG</th>\n",
       "      <th colspan=\"5\" halign=\"left\">SPY</th>\n",
       "    </tr>\n",
       "    <tr>\n",
       "      <th></th>\n",
       "      <th>open</th>\n",
       "      <th>high</th>\n",
       "      <th>low</th>\n",
       "      <th>close</th>\n",
       "      <th>volume</th>\n",
       "      <th>open</th>\n",
       "      <th>high</th>\n",
       "      <th>low</th>\n",
       "      <th>close</th>\n",
       "      <th>volume</th>\n",
       "    </tr>\n",
       "    <tr>\n",
       "      <th>time</th>\n",
       "      <th></th>\n",
       "      <th></th>\n",
       "      <th></th>\n",
       "      <th></th>\n",
       "      <th></th>\n",
       "      <th></th>\n",
       "      <th></th>\n",
       "      <th></th>\n",
       "      <th></th>\n",
       "      <th></th>\n",
       "    </tr>\n",
       "  </thead>\n",
       "  <tbody>\n",
       "    <tr>\n",
       "      <th>2011-01-26 00:00:00-05:00</th>\n",
       "      <td>105.74</td>\n",
       "      <td>105.7800</td>\n",
       "      <td>105.51</td>\n",
       "      <td>105.557</td>\n",
       "      <td>542836</td>\n",
       "      <td>129.49</td>\n",
       "      <td>130.05</td>\n",
       "      <td>129.2300</td>\n",
       "      <td>129.67</td>\n",
       "      <td>115993932</td>\n",
       "    </tr>\n",
       "    <tr>\n",
       "      <th>2011-01-27 00:00:00-05:00</th>\n",
       "      <td>105.64</td>\n",
       "      <td>105.7501</td>\n",
       "      <td>105.52</td>\n",
       "      <td>105.730</td>\n",
       "      <td>422093</td>\n",
       "      <td>129.70</td>\n",
       "      <td>130.21</td>\n",
       "      <td>129.4700</td>\n",
       "      <td>130.02</td>\n",
       "      <td>100169887</td>\n",
       "    </tr>\n",
       "    <tr>\n",
       "      <th>2011-01-28 00:00:00-05:00</th>\n",
       "      <td>105.59</td>\n",
       "      <td>105.9700</td>\n",
       "      <td>105.58</td>\n",
       "      <td>105.840</td>\n",
       "      <td>607012</td>\n",
       "      <td>130.14</td>\n",
       "      <td>130.35</td>\n",
       "      <td>127.5100</td>\n",
       "      <td>127.69</td>\n",
       "      <td>235476101</td>\n",
       "    </tr>\n",
       "    <tr>\n",
       "      <th>2011-01-31 00:00:00-05:00</th>\n",
       "      <td>105.85</td>\n",
       "      <td>105.9400</td>\n",
       "      <td>105.59</td>\n",
       "      <td>105.670</td>\n",
       "      <td>1514824</td>\n",
       "      <td>128.07</td>\n",
       "      <td>128.78</td>\n",
       "      <td>127.7500</td>\n",
       "      <td>128.67</td>\n",
       "      <td>125255715</td>\n",
       "    </tr>\n",
       "    <tr>\n",
       "      <th>2011-02-01 00:00:00-05:00</th>\n",
       "      <td>105.26</td>\n",
       "      <td>105.2600</td>\n",
       "      <td>105.03</td>\n",
       "      <td>105.120</td>\n",
       "      <td>629903</td>\n",
       "      <td>129.46</td>\n",
       "      <td>130.97</td>\n",
       "      <td>129.3801</td>\n",
       "      <td>130.75</td>\n",
       "      <td>134943648</td>\n",
       "    </tr>\n",
       "  </tbody>\n",
       "</table>\n",
       "</div>"
      ],
      "text/plain": [
       "                              AGG                                         SPY  \\\n",
       "                             open      high     low    close   volume    open   \n",
       "time                                                                            \n",
       "2011-01-26 00:00:00-05:00  105.74  105.7800  105.51  105.557   542836  129.49   \n",
       "2011-01-27 00:00:00-05:00  105.64  105.7501  105.52  105.730   422093  129.70   \n",
       "2011-01-28 00:00:00-05:00  105.59  105.9700  105.58  105.840   607012  130.14   \n",
       "2011-01-31 00:00:00-05:00  105.85  105.9400  105.59  105.670  1514824  128.07   \n",
       "2011-02-01 00:00:00-05:00  105.26  105.2600  105.03  105.120   629903  129.46   \n",
       "\n",
       "                                                                \n",
       "                             high       low   close     volume  \n",
       "time                                                            \n",
       "2011-01-26 00:00:00-05:00  130.05  129.2300  129.67  115993932  \n",
       "2011-01-27 00:00:00-05:00  130.21  129.4700  130.02  100169887  \n",
       "2011-01-28 00:00:00-05:00  130.35  127.5100  127.69  235476101  \n",
       "2011-01-31 00:00:00-05:00  128.78  127.7500  128.67  125255715  \n",
       "2011-02-01 00:00:00-05:00  130.97  129.3801  130.75  134943648  "
      ]
     },
     "metadata": {},
     "output_type": "display_data"
    },
    {
     "data": {
      "text/html": [
       "<div>\n",
       "<style scoped>\n",
       "    .dataframe tbody tr th:only-of-type {\n",
       "        vertical-align: middle;\n",
       "    }\n",
       "\n",
       "    .dataframe tbody tr th {\n",
       "        vertical-align: top;\n",
       "    }\n",
       "\n",
       "    .dataframe thead tr th {\n",
       "        text-align: left;\n",
       "    }\n",
       "\n",
       "    .dataframe thead tr:last-of-type th {\n",
       "        text-align: right;\n",
       "    }\n",
       "</style>\n",
       "<table border=\"1\" class=\"dataframe\">\n",
       "  <thead>\n",
       "    <tr>\n",
       "      <th></th>\n",
       "      <th colspan=\"5\" halign=\"left\">AGG</th>\n",
       "      <th colspan=\"5\" halign=\"left\">SPY</th>\n",
       "    </tr>\n",
       "    <tr>\n",
       "      <th></th>\n",
       "      <th>open</th>\n",
       "      <th>high</th>\n",
       "      <th>low</th>\n",
       "      <th>close</th>\n",
       "      <th>volume</th>\n",
       "      <th>open</th>\n",
       "      <th>high</th>\n",
       "      <th>low</th>\n",
       "      <th>close</th>\n",
       "      <th>volume</th>\n",
       "    </tr>\n",
       "    <tr>\n",
       "      <th>time</th>\n",
       "      <th></th>\n",
       "      <th></th>\n",
       "      <th></th>\n",
       "      <th></th>\n",
       "      <th></th>\n",
       "      <th></th>\n",
       "      <th></th>\n",
       "      <th></th>\n",
       "      <th></th>\n",
       "      <th></th>\n",
       "    </tr>\n",
       "  </thead>\n",
       "  <tbody>\n",
       "    <tr>\n",
       "      <th>2021-01-20 00:00:00-05:00</th>\n",
       "      <td>117.35</td>\n",
       "      <td>117.4300</td>\n",
       "      <td>117.3100</td>\n",
       "      <td>117.40</td>\n",
       "      <td>3877734</td>\n",
       "      <td>381.11</td>\n",
       "      <td>384.7900</td>\n",
       "      <td>380.690</td>\n",
       "      <td>383.86</td>\n",
       "      <td>53064901</td>\n",
       "    </tr>\n",
       "    <tr>\n",
       "      <th>2021-01-21 00:00:00-05:00</th>\n",
       "      <td>117.22</td>\n",
       "      <td>117.2985</td>\n",
       "      <td>117.1400</td>\n",
       "      <td>117.26</td>\n",
       "      <td>5801029</td>\n",
       "      <td>384.49</td>\n",
       "      <td>384.9500</td>\n",
       "      <td>383.250</td>\n",
       "      <td>384.20</td>\n",
       "      <td>41800991</td>\n",
       "    </tr>\n",
       "    <tr>\n",
       "      <th>2021-01-22 00:00:00-05:00</th>\n",
       "      <td>117.29</td>\n",
       "      <td>117.3200</td>\n",
       "      <td>117.1900</td>\n",
       "      <td>117.26</td>\n",
       "      <td>3469745</td>\n",
       "      <td>382.25</td>\n",
       "      <td>384.1256</td>\n",
       "      <td>381.835</td>\n",
       "      <td>382.86</td>\n",
       "      <td>39108239</td>\n",
       "    </tr>\n",
       "    <tr>\n",
       "      <th>2021-01-25 00:00:00-05:00</th>\n",
       "      <td>117.39</td>\n",
       "      <td>117.5600</td>\n",
       "      <td>117.3600</td>\n",
       "      <td>117.54</td>\n",
       "      <td>3977366</td>\n",
       "      <td>383.67</td>\n",
       "      <td>384.7700</td>\n",
       "      <td>378.460</td>\n",
       "      <td>384.40</td>\n",
       "      <td>61090775</td>\n",
       "    </tr>\n",
       "    <tr>\n",
       "      <th>2021-01-26 00:00:00-05:00</th>\n",
       "      <td>117.46</td>\n",
       "      <td>117.5850</td>\n",
       "      <td>117.4255</td>\n",
       "      <td>117.51</td>\n",
       "      <td>3451493</td>\n",
       "      <td>385.41</td>\n",
       "      <td>385.8500</td>\n",
       "      <td>383.540</td>\n",
       "      <td>383.83</td>\n",
       "      <td>36871235</td>\n",
       "    </tr>\n",
       "  </tbody>\n",
       "</table>\n",
       "</div>"
      ],
      "text/plain": [
       "                              AGG                                       \\\n",
       "                             open      high       low   close   volume   \n",
       "time                                                                     \n",
       "2021-01-20 00:00:00-05:00  117.35  117.4300  117.3100  117.40  3877734   \n",
       "2021-01-21 00:00:00-05:00  117.22  117.2985  117.1400  117.26  5801029   \n",
       "2021-01-22 00:00:00-05:00  117.29  117.3200  117.1900  117.26  3469745   \n",
       "2021-01-25 00:00:00-05:00  117.39  117.5600  117.3600  117.54  3977366   \n",
       "2021-01-26 00:00:00-05:00  117.46  117.5850  117.4255  117.51  3451493   \n",
       "\n",
       "                              SPY                                       \n",
       "                             open      high      low   close    volume  \n",
       "time                                                                    \n",
       "2021-01-20 00:00:00-05:00  381.11  384.7900  380.690  383.86  53064901  \n",
       "2021-01-21 00:00:00-05:00  384.49  384.9500  383.250  384.20  41800991  \n",
       "2021-01-22 00:00:00-05:00  382.25  384.1256  381.835  382.86  39108239  \n",
       "2021-01-25 00:00:00-05:00  383.67  384.7700  378.460  384.40  61090775  \n",
       "2021-01-26 00:00:00-05:00  385.41  385.8500  383.540  383.83  36871235  "
      ]
     },
     "execution_count": 32,
     "metadata": {},
     "output_type": "execute_result"
    }
   ],
   "source": [
    "# Use the Alpaca get_barset function to make the API call to get the 10 years worth of pricing data\n",
    "# The tickers and timeframe parameters should have been set in Part 1 of this activity \n",
    "# The start and end dates should be updated with the information set above\n",
    "# Remember to add the df property to the end of the call so the response is returned as a DataFrame\n",
    "prices_df = alpaca.get_barset(\n",
    "    tickers,\n",
    "    timeframe,\n",
    "    start=start_date,\n",
    "    end=end_date\n",
    ").df\n",
    "\n",
    "# Display both the first and last five rows of the DataFrame\n",
    "display(prices_df.head())\n",
    "prices_df.tail()"
   ]
  },
  {
   "cell_type": "markdown",
   "metadata": {},
   "source": [
    "#### Step 2: Run a Monte Carlo simulation of 500 samples and 30 years for the 60/40 portfolio, and then plot the results."
   ]
  },
  {
   "cell_type": "code",
   "execution_count": 33,
   "metadata": {},
   "outputs": [
    {
     "data": {
      "text/html": [
       "<div>\n",
       "<style scoped>\n",
       "    .dataframe tbody tr th:only-of-type {\n",
       "        vertical-align: middle;\n",
       "    }\n",
       "\n",
       "    .dataframe tbody tr th {\n",
       "        vertical-align: top;\n",
       "    }\n",
       "\n",
       "    .dataframe thead tr th {\n",
       "        text-align: left;\n",
       "    }\n",
       "\n",
       "    .dataframe thead tr:last-of-type th {\n",
       "        text-align: right;\n",
       "    }\n",
       "</style>\n",
       "<table border=\"1\" class=\"dataframe\">\n",
       "  <thead>\n",
       "    <tr>\n",
       "      <th></th>\n",
       "      <th colspan=\"6\" halign=\"left\">AGG</th>\n",
       "      <th colspan=\"6\" halign=\"left\">SPY</th>\n",
       "    </tr>\n",
       "    <tr>\n",
       "      <th></th>\n",
       "      <th>open</th>\n",
       "      <th>high</th>\n",
       "      <th>low</th>\n",
       "      <th>close</th>\n",
       "      <th>volume</th>\n",
       "      <th>daily_return</th>\n",
       "      <th>open</th>\n",
       "      <th>high</th>\n",
       "      <th>low</th>\n",
       "      <th>close</th>\n",
       "      <th>volume</th>\n",
       "      <th>daily_return</th>\n",
       "    </tr>\n",
       "    <tr>\n",
       "      <th>time</th>\n",
       "      <th></th>\n",
       "      <th></th>\n",
       "      <th></th>\n",
       "      <th></th>\n",
       "      <th></th>\n",
       "      <th></th>\n",
       "      <th></th>\n",
       "      <th></th>\n",
       "      <th></th>\n",
       "      <th></th>\n",
       "      <th></th>\n",
       "      <th></th>\n",
       "    </tr>\n",
       "  </thead>\n",
       "  <tbody>\n",
       "    <tr>\n",
       "      <th>2011-01-26 00:00:00-05:00</th>\n",
       "      <td>105.74</td>\n",
       "      <td>105.7800</td>\n",
       "      <td>105.51</td>\n",
       "      <td>105.557</td>\n",
       "      <td>542836</td>\n",
       "      <td>NaN</td>\n",
       "      <td>129.49</td>\n",
       "      <td>130.05</td>\n",
       "      <td>129.2300</td>\n",
       "      <td>129.67</td>\n",
       "      <td>115993932</td>\n",
       "      <td>NaN</td>\n",
       "    </tr>\n",
       "    <tr>\n",
       "      <th>2011-01-27 00:00:00-05:00</th>\n",
       "      <td>105.64</td>\n",
       "      <td>105.7501</td>\n",
       "      <td>105.52</td>\n",
       "      <td>105.730</td>\n",
       "      <td>422093</td>\n",
       "      <td>0.001639</td>\n",
       "      <td>129.70</td>\n",
       "      <td>130.21</td>\n",
       "      <td>129.4700</td>\n",
       "      <td>130.02</td>\n",
       "      <td>100169887</td>\n",
       "      <td>0.002699</td>\n",
       "    </tr>\n",
       "    <tr>\n",
       "      <th>2011-01-28 00:00:00-05:00</th>\n",
       "      <td>105.59</td>\n",
       "      <td>105.9700</td>\n",
       "      <td>105.58</td>\n",
       "      <td>105.840</td>\n",
       "      <td>607012</td>\n",
       "      <td>0.001040</td>\n",
       "      <td>130.14</td>\n",
       "      <td>130.35</td>\n",
       "      <td>127.5100</td>\n",
       "      <td>127.69</td>\n",
       "      <td>235476101</td>\n",
       "      <td>-0.017920</td>\n",
       "    </tr>\n",
       "    <tr>\n",
       "      <th>2011-01-31 00:00:00-05:00</th>\n",
       "      <td>105.85</td>\n",
       "      <td>105.9400</td>\n",
       "      <td>105.59</td>\n",
       "      <td>105.670</td>\n",
       "      <td>1514824</td>\n",
       "      <td>-0.001606</td>\n",
       "      <td>128.07</td>\n",
       "      <td>128.78</td>\n",
       "      <td>127.7500</td>\n",
       "      <td>128.67</td>\n",
       "      <td>125255715</td>\n",
       "      <td>0.007675</td>\n",
       "    </tr>\n",
       "    <tr>\n",
       "      <th>2011-02-01 00:00:00-05:00</th>\n",
       "      <td>105.26</td>\n",
       "      <td>105.2600</td>\n",
       "      <td>105.03</td>\n",
       "      <td>105.120</td>\n",
       "      <td>629903</td>\n",
       "      <td>-0.005205</td>\n",
       "      <td>129.46</td>\n",
       "      <td>130.97</td>\n",
       "      <td>129.3801</td>\n",
       "      <td>130.75</td>\n",
       "      <td>134943648</td>\n",
       "      <td>0.016165</td>\n",
       "    </tr>\n",
       "  </tbody>\n",
       "</table>\n",
       "</div>"
      ],
      "text/plain": [
       "                              AGG                                      \\\n",
       "                             open      high     low    close   volume   \n",
       "time                                                                    \n",
       "2011-01-26 00:00:00-05:00  105.74  105.7800  105.51  105.557   542836   \n",
       "2011-01-27 00:00:00-05:00  105.64  105.7501  105.52  105.730   422093   \n",
       "2011-01-28 00:00:00-05:00  105.59  105.9700  105.58  105.840   607012   \n",
       "2011-01-31 00:00:00-05:00  105.85  105.9400  105.59  105.670  1514824   \n",
       "2011-02-01 00:00:00-05:00  105.26  105.2600  105.03  105.120   629903   \n",
       "\n",
       "                                           SPY                            \\\n",
       "                          daily_return    open    high       low   close   \n",
       "time                                                                       \n",
       "2011-01-26 00:00:00-05:00          NaN  129.49  130.05  129.2300  129.67   \n",
       "2011-01-27 00:00:00-05:00     0.001639  129.70  130.21  129.4700  130.02   \n",
       "2011-01-28 00:00:00-05:00     0.001040  130.14  130.35  127.5100  127.69   \n",
       "2011-01-31 00:00:00-05:00    -0.001606  128.07  128.78  127.7500  128.67   \n",
       "2011-02-01 00:00:00-05:00    -0.005205  129.46  130.97  129.3801  130.75   \n",
       "\n",
       "                                                   \n",
       "                              volume daily_return  \n",
       "time                                               \n",
       "2011-01-26 00:00:00-05:00  115993932          NaN  \n",
       "2011-01-27 00:00:00-05:00  100169887     0.002699  \n",
       "2011-01-28 00:00:00-05:00  235476101    -0.017920  \n",
       "2011-01-31 00:00:00-05:00  125255715     0.007675  \n",
       "2011-02-01 00:00:00-05:00  134943648     0.016165  "
      ]
     },
     "execution_count": 33,
     "metadata": {},
     "output_type": "execute_result"
    }
   ],
   "source": [
    "# Configure the Monte Carlo simulation to forecast 30 years cumulative returns\n",
    "# The weights should be split 40% to AGG and 60% to SPY.\n",
    "# Run 500 samples.\n",
    "MC_trad_weight = MCSimulation(\n",
    "    portfolio_data = prices_df,\n",
    "    weights = [.60,.40],\n",
    "    num_simulation = 500,\n",
    "    num_trading_days = 252*30\n",
    ")\n",
    "\n",
    "# Review the simulation input data\n",
    "MC_trad_weight.portfolio_data.head()"
   ]
  },
  {
   "cell_type": "code",
   "execution_count": 34,
   "metadata": {},
   "outputs": [
    {
     "name": "stdout",
     "output_type": "stream",
     "text": [
      "Running Monte Carlo simulation number 0.\n",
      "Running Monte Carlo simulation number 10.\n",
      "Running Monte Carlo simulation number 20.\n",
      "Running Monte Carlo simulation number 30.\n",
      "Running Monte Carlo simulation number 40.\n",
      "Running Monte Carlo simulation number 50.\n",
      "Running Monte Carlo simulation number 60.\n",
      "Running Monte Carlo simulation number 70.\n",
      "Running Monte Carlo simulation number 80.\n",
      "Running Monte Carlo simulation number 90.\n",
      "Running Monte Carlo simulation number 100.\n",
      "Running Monte Carlo simulation number 110.\n",
      "Running Monte Carlo simulation number 120.\n",
      "Running Monte Carlo simulation number 130.\n",
      "Running Monte Carlo simulation number 140.\n",
      "Running Monte Carlo simulation number 150.\n",
      "Running Monte Carlo simulation number 160.\n",
      "Running Monte Carlo simulation number 170.\n",
      "Running Monte Carlo simulation number 180.\n",
      "Running Monte Carlo simulation number 190.\n",
      "Running Monte Carlo simulation number 200.\n",
      "Running Monte Carlo simulation number 210.\n",
      "Running Monte Carlo simulation number 220.\n",
      "Running Monte Carlo simulation number 230.\n",
      "Running Monte Carlo simulation number 240.\n",
      "Running Monte Carlo simulation number 250.\n",
      "Running Monte Carlo simulation number 260.\n",
      "Running Monte Carlo simulation number 270.\n",
      "Running Monte Carlo simulation number 280.\n",
      "Running Monte Carlo simulation number 290.\n",
      "Running Monte Carlo simulation number 300.\n",
      "Running Monte Carlo simulation number 310.\n",
      "Running Monte Carlo simulation number 320.\n",
      "Running Monte Carlo simulation number 330.\n",
      "Running Monte Carlo simulation number 340.\n",
      "Running Monte Carlo simulation number 350.\n",
      "Running Monte Carlo simulation number 360.\n",
      "Running Monte Carlo simulation number 370.\n",
      "Running Monte Carlo simulation number 380.\n",
      "Running Monte Carlo simulation number 390.\n",
      "Running Monte Carlo simulation number 400.\n",
      "Running Monte Carlo simulation number 410.\n",
      "Running Monte Carlo simulation number 420.\n",
      "Running Monte Carlo simulation number 430.\n",
      "Running Monte Carlo simulation number 440.\n",
      "Running Monte Carlo simulation number 450.\n",
      "Running Monte Carlo simulation number 460.\n",
      "Running Monte Carlo simulation number 470.\n",
      "Running Monte Carlo simulation number 480.\n",
      "Running Monte Carlo simulation number 490.\n"
     ]
    },
    {
     "data": {
      "text/html": [
       "<div>\n",
       "<style scoped>\n",
       "    .dataframe tbody tr th:only-of-type {\n",
       "        vertical-align: middle;\n",
       "    }\n",
       "\n",
       "    .dataframe tbody tr th {\n",
       "        vertical-align: top;\n",
       "    }\n",
       "\n",
       "    .dataframe thead th {\n",
       "        text-align: right;\n",
       "    }\n",
       "</style>\n",
       "<table border=\"1\" class=\"dataframe\">\n",
       "  <thead>\n",
       "    <tr style=\"text-align: right;\">\n",
       "      <th></th>\n",
       "      <th>0</th>\n",
       "      <th>1</th>\n",
       "      <th>2</th>\n",
       "      <th>3</th>\n",
       "      <th>4</th>\n",
       "      <th>5</th>\n",
       "      <th>6</th>\n",
       "      <th>7</th>\n",
       "      <th>8</th>\n",
       "      <th>9</th>\n",
       "      <th>...</th>\n",
       "      <th>490</th>\n",
       "      <th>491</th>\n",
       "      <th>492</th>\n",
       "      <th>493</th>\n",
       "      <th>494</th>\n",
       "      <th>495</th>\n",
       "      <th>496</th>\n",
       "      <th>497</th>\n",
       "      <th>498</th>\n",
       "      <th>499</th>\n",
       "    </tr>\n",
       "  </thead>\n",
       "  <tbody>\n",
       "    <tr>\n",
       "      <th>0</th>\n",
       "      <td>1.000000</td>\n",
       "      <td>1.000000</td>\n",
       "      <td>1.000000</td>\n",
       "      <td>1.000000</td>\n",
       "      <td>1.000000</td>\n",
       "      <td>1.000000</td>\n",
       "      <td>1.000000</td>\n",
       "      <td>1.000000</td>\n",
       "      <td>1.000000</td>\n",
       "      <td>1.000000</td>\n",
       "      <td>...</td>\n",
       "      <td>1.000000</td>\n",
       "      <td>1.000000</td>\n",
       "      <td>1.000000</td>\n",
       "      <td>1.000000</td>\n",
       "      <td>1.000000</td>\n",
       "      <td>1.000000</td>\n",
       "      <td>1.000000</td>\n",
       "      <td>1.000000</td>\n",
       "      <td>1.000000</td>\n",
       "      <td>1.000000</td>\n",
       "    </tr>\n",
       "    <tr>\n",
       "      <th>1</th>\n",
       "      <td>0.998937</td>\n",
       "      <td>0.997868</td>\n",
       "      <td>0.998817</td>\n",
       "      <td>1.005727</td>\n",
       "      <td>1.000458</td>\n",
       "      <td>1.002795</td>\n",
       "      <td>1.000629</td>\n",
       "      <td>0.997613</td>\n",
       "      <td>1.007397</td>\n",
       "      <td>1.009380</td>\n",
       "      <td>...</td>\n",
       "      <td>0.994627</td>\n",
       "      <td>0.993839</td>\n",
       "      <td>1.001210</td>\n",
       "      <td>1.001244</td>\n",
       "      <td>0.992706</td>\n",
       "      <td>0.998347</td>\n",
       "      <td>1.007592</td>\n",
       "      <td>0.995795</td>\n",
       "      <td>1.003073</td>\n",
       "      <td>1.001318</td>\n",
       "    </tr>\n",
       "    <tr>\n",
       "      <th>2</th>\n",
       "      <td>0.998411</td>\n",
       "      <td>1.004397</td>\n",
       "      <td>1.002073</td>\n",
       "      <td>1.005199</td>\n",
       "      <td>0.994570</td>\n",
       "      <td>0.998856</td>\n",
       "      <td>0.997809</td>\n",
       "      <td>0.990763</td>\n",
       "      <td>1.012013</td>\n",
       "      <td>1.014245</td>\n",
       "      <td>...</td>\n",
       "      <td>0.996298</td>\n",
       "      <td>0.983534</td>\n",
       "      <td>1.003739</td>\n",
       "      <td>1.000126</td>\n",
       "      <td>0.991342</td>\n",
       "      <td>1.003141</td>\n",
       "      <td>1.013040</td>\n",
       "      <td>0.996703</td>\n",
       "      <td>1.009412</td>\n",
       "      <td>1.005109</td>\n",
       "    </tr>\n",
       "    <tr>\n",
       "      <th>3</th>\n",
       "      <td>1.005753</td>\n",
       "      <td>1.001788</td>\n",
       "      <td>1.001523</td>\n",
       "      <td>1.007238</td>\n",
       "      <td>0.995852</td>\n",
       "      <td>1.001747</td>\n",
       "      <td>1.009565</td>\n",
       "      <td>0.995252</td>\n",
       "      <td>1.014389</td>\n",
       "      <td>1.020201</td>\n",
       "      <td>...</td>\n",
       "      <td>0.994399</td>\n",
       "      <td>0.990072</td>\n",
       "      <td>1.003563</td>\n",
       "      <td>0.997931</td>\n",
       "      <td>0.992094</td>\n",
       "      <td>1.002210</td>\n",
       "      <td>1.011186</td>\n",
       "      <td>1.000361</td>\n",
       "      <td>1.019173</td>\n",
       "      <td>0.999829</td>\n",
       "    </tr>\n",
       "    <tr>\n",
       "      <th>4</th>\n",
       "      <td>1.007813</td>\n",
       "      <td>1.012984</td>\n",
       "      <td>1.001755</td>\n",
       "      <td>1.010999</td>\n",
       "      <td>1.001264</td>\n",
       "      <td>1.008020</td>\n",
       "      <td>1.001531</td>\n",
       "      <td>0.991569</td>\n",
       "      <td>1.004583</td>\n",
       "      <td>1.022287</td>\n",
       "      <td>...</td>\n",
       "      <td>0.997108</td>\n",
       "      <td>0.992302</td>\n",
       "      <td>0.999006</td>\n",
       "      <td>0.999300</td>\n",
       "      <td>0.989760</td>\n",
       "      <td>1.010423</td>\n",
       "      <td>1.007673</td>\n",
       "      <td>1.004067</td>\n",
       "      <td>1.014558</td>\n",
       "      <td>1.004888</td>\n",
       "    </tr>\n",
       "    <tr>\n",
       "      <th>...</th>\n",
       "      <td>...</td>\n",
       "      <td>...</td>\n",
       "      <td>...</td>\n",
       "      <td>...</td>\n",
       "      <td>...</td>\n",
       "      <td>...</td>\n",
       "      <td>...</td>\n",
       "      <td>...</td>\n",
       "      <td>...</td>\n",
       "      <td>...</td>\n",
       "      <td>...</td>\n",
       "      <td>...</td>\n",
       "      <td>...</td>\n",
       "      <td>...</td>\n",
       "      <td>...</td>\n",
       "      <td>...</td>\n",
       "      <td>...</td>\n",
       "      <td>...</td>\n",
       "      <td>...</td>\n",
       "      <td>...</td>\n",
       "      <td>...</td>\n",
       "    </tr>\n",
       "    <tr>\n",
       "      <th>7556</th>\n",
       "      <td>3.760248</td>\n",
       "      <td>2.805877</td>\n",
       "      <td>7.355490</td>\n",
       "      <td>6.088460</td>\n",
       "      <td>11.497766</td>\n",
       "      <td>5.604642</td>\n",
       "      <td>2.678227</td>\n",
       "      <td>3.788964</td>\n",
       "      <td>7.319624</td>\n",
       "      <td>5.835272</td>\n",
       "      <td>...</td>\n",
       "      <td>7.292466</td>\n",
       "      <td>8.947051</td>\n",
       "      <td>2.266914</td>\n",
       "      <td>5.140508</td>\n",
       "      <td>5.150399</td>\n",
       "      <td>5.208744</td>\n",
       "      <td>5.413803</td>\n",
       "      <td>2.611313</td>\n",
       "      <td>12.574224</td>\n",
       "      <td>3.408083</td>\n",
       "    </tr>\n",
       "    <tr>\n",
       "      <th>7557</th>\n",
       "      <td>3.772111</td>\n",
       "      <td>2.812285</td>\n",
       "      <td>7.345888</td>\n",
       "      <td>6.093954</td>\n",
       "      <td>11.464575</td>\n",
       "      <td>5.557576</td>\n",
       "      <td>2.683947</td>\n",
       "      <td>3.806579</td>\n",
       "      <td>7.327670</td>\n",
       "      <td>5.815578</td>\n",
       "      <td>...</td>\n",
       "      <td>7.285008</td>\n",
       "      <td>8.956080</td>\n",
       "      <td>2.259173</td>\n",
       "      <td>5.172053</td>\n",
       "      <td>5.135892</td>\n",
       "      <td>5.219141</td>\n",
       "      <td>5.398798</td>\n",
       "      <td>2.603253</td>\n",
       "      <td>12.610648</td>\n",
       "      <td>3.383897</td>\n",
       "    </tr>\n",
       "    <tr>\n",
       "      <th>7558</th>\n",
       "      <td>3.762213</td>\n",
       "      <td>2.832633</td>\n",
       "      <td>7.331704</td>\n",
       "      <td>6.098233</td>\n",
       "      <td>11.460519</td>\n",
       "      <td>5.575809</td>\n",
       "      <td>2.678949</td>\n",
       "      <td>3.817426</td>\n",
       "      <td>7.318441</td>\n",
       "      <td>5.791001</td>\n",
       "      <td>...</td>\n",
       "      <td>7.319493</td>\n",
       "      <td>8.978543</td>\n",
       "      <td>2.286123</td>\n",
       "      <td>5.154871</td>\n",
       "      <td>5.168639</td>\n",
       "      <td>5.175091</td>\n",
       "      <td>5.396835</td>\n",
       "      <td>2.625515</td>\n",
       "      <td>12.516262</td>\n",
       "      <td>3.369684</td>\n",
       "    </tr>\n",
       "    <tr>\n",
       "      <th>7559</th>\n",
       "      <td>3.781124</td>\n",
       "      <td>2.836322</td>\n",
       "      <td>7.376539</td>\n",
       "      <td>6.109663</td>\n",
       "      <td>11.418759</td>\n",
       "      <td>5.614510</td>\n",
       "      <td>2.672433</td>\n",
       "      <td>3.783398</td>\n",
       "      <td>7.288920</td>\n",
       "      <td>5.746490</td>\n",
       "      <td>...</td>\n",
       "      <td>7.335682</td>\n",
       "      <td>8.972478</td>\n",
       "      <td>2.281294</td>\n",
       "      <td>5.153246</td>\n",
       "      <td>5.169081</td>\n",
       "      <td>5.166201</td>\n",
       "      <td>5.384147</td>\n",
       "      <td>2.621832</td>\n",
       "      <td>12.467532</td>\n",
       "      <td>3.376155</td>\n",
       "    </tr>\n",
       "    <tr>\n",
       "      <th>7560</th>\n",
       "      <td>3.785716</td>\n",
       "      <td>2.861215</td>\n",
       "      <td>7.368593</td>\n",
       "      <td>6.123885</td>\n",
       "      <td>11.384247</td>\n",
       "      <td>5.619277</td>\n",
       "      <td>2.679744</td>\n",
       "      <td>3.787675</td>\n",
       "      <td>7.237447</td>\n",
       "      <td>5.750884</td>\n",
       "      <td>...</td>\n",
       "      <td>7.403766</td>\n",
       "      <td>8.911498</td>\n",
       "      <td>2.279846</td>\n",
       "      <td>5.151588</td>\n",
       "      <td>5.159369</td>\n",
       "      <td>5.162510</td>\n",
       "      <td>5.371034</td>\n",
       "      <td>2.613421</td>\n",
       "      <td>12.438217</td>\n",
       "      <td>3.353552</td>\n",
       "    </tr>\n",
       "  </tbody>\n",
       "</table>\n",
       "<p>7561 rows × 500 columns</p>\n",
       "</div>"
      ],
      "text/plain": [
       "           0         1         2         3          4         5         6    \\\n",
       "0     1.000000  1.000000  1.000000  1.000000   1.000000  1.000000  1.000000   \n",
       "1     0.998937  0.997868  0.998817  1.005727   1.000458  1.002795  1.000629   \n",
       "2     0.998411  1.004397  1.002073  1.005199   0.994570  0.998856  0.997809   \n",
       "3     1.005753  1.001788  1.001523  1.007238   0.995852  1.001747  1.009565   \n",
       "4     1.007813  1.012984  1.001755  1.010999   1.001264  1.008020  1.001531   \n",
       "...        ...       ...       ...       ...        ...       ...       ...   \n",
       "7556  3.760248  2.805877  7.355490  6.088460  11.497766  5.604642  2.678227   \n",
       "7557  3.772111  2.812285  7.345888  6.093954  11.464575  5.557576  2.683947   \n",
       "7558  3.762213  2.832633  7.331704  6.098233  11.460519  5.575809  2.678949   \n",
       "7559  3.781124  2.836322  7.376539  6.109663  11.418759  5.614510  2.672433   \n",
       "7560  3.785716  2.861215  7.368593  6.123885  11.384247  5.619277  2.679744   \n",
       "\n",
       "           7         8         9    ...       490       491       492  \\\n",
       "0     1.000000  1.000000  1.000000  ...  1.000000  1.000000  1.000000   \n",
       "1     0.997613  1.007397  1.009380  ...  0.994627  0.993839  1.001210   \n",
       "2     0.990763  1.012013  1.014245  ...  0.996298  0.983534  1.003739   \n",
       "3     0.995252  1.014389  1.020201  ...  0.994399  0.990072  1.003563   \n",
       "4     0.991569  1.004583  1.022287  ...  0.997108  0.992302  0.999006   \n",
       "...        ...       ...       ...  ...       ...       ...       ...   \n",
       "7556  3.788964  7.319624  5.835272  ...  7.292466  8.947051  2.266914   \n",
       "7557  3.806579  7.327670  5.815578  ...  7.285008  8.956080  2.259173   \n",
       "7558  3.817426  7.318441  5.791001  ...  7.319493  8.978543  2.286123   \n",
       "7559  3.783398  7.288920  5.746490  ...  7.335682  8.972478  2.281294   \n",
       "7560  3.787675  7.237447  5.750884  ...  7.403766  8.911498  2.279846   \n",
       "\n",
       "           493       494       495       496       497        498       499  \n",
       "0     1.000000  1.000000  1.000000  1.000000  1.000000   1.000000  1.000000  \n",
       "1     1.001244  0.992706  0.998347  1.007592  0.995795   1.003073  1.001318  \n",
       "2     1.000126  0.991342  1.003141  1.013040  0.996703   1.009412  1.005109  \n",
       "3     0.997931  0.992094  1.002210  1.011186  1.000361   1.019173  0.999829  \n",
       "4     0.999300  0.989760  1.010423  1.007673  1.004067   1.014558  1.004888  \n",
       "...        ...       ...       ...       ...       ...        ...       ...  \n",
       "7556  5.140508  5.150399  5.208744  5.413803  2.611313  12.574224  3.408083  \n",
       "7557  5.172053  5.135892  5.219141  5.398798  2.603253  12.610648  3.383897  \n",
       "7558  5.154871  5.168639  5.175091  5.396835  2.625515  12.516262  3.369684  \n",
       "7559  5.153246  5.169081  5.166201  5.384147  2.621832  12.467532  3.376155  \n",
       "7560  5.151588  5.159369  5.162510  5.371034  2.613421  12.438217  3.353552  \n",
       "\n",
       "[7561 rows x 500 columns]"
      ]
     },
     "execution_count": 34,
     "metadata": {},
     "output_type": "execute_result"
    }
   ],
   "source": [
    "# Run the Monte Carlo simulation to forecast 30 years cumulative returns\n",
    "MC_trad_weight.calc_cumulative_return()"
   ]
  },
  {
   "cell_type": "code",
   "execution_count": 35,
   "metadata": {},
   "outputs": [
    {
     "data": {
      "image/png": "[encoded data removed]",
      "text/plain": [
       "<Figure size 432x288 with 1 Axes>"
      ]
     },
     "metadata": {
      "needs_background": "light"
     },
     "output_type": "display_data"
    }
   ],
   "source": [
    "# Visualize the 30-year Monte Carlo simulation by creating an overlay line plot\n",
    "trad_weight_line_plot = MC_trad_weight.plot_simulation()\n",
    "\n",
    "# Save the plot for future use\n",
    "trad_weight_line_plot.get_figure().savefig(\"MC_trad_weight_line_plot.png\", bbox_inches=\"tight\")"
   ]
  },
  {
   "cell_type": "markdown",
   "metadata": {},
   "source": [
    "#### Step 3: Plot the probability distribution of the Monte Carlo simulation."
   ]
  },
  {
   "cell_type": "code",
   "execution_count": 36,
   "metadata": {},
   "outputs": [
    {
     "data": {
      "image/png": "[encoded data removed]",
      "text/plain": [
       "<Figure size 432x288 with 1 Axes>"
      ]
     },
     "metadata": {
      "needs_background": "light"
     },
     "output_type": "display_data"
    }
   ],
   "source": [
    "# Visualize the probability distribution of the 30-year Monte Carlo simulation \n",
    "# by plotting a histogram\n",
    "trad_weight_distribution_plot = MC_trad_weight.plot_distribution()\n",
    "\n",
    "# Save the plot for future use\n",
    "trad_weight_distribution_plot.get_figure().savefig('MC_trad_weight_dist_plot.png',bbox_inches='tight')\n"
   ]
  },
  {
   "cell_type": "markdown",
   "metadata": {},
   "source": [
    "#### Step 4: Generate the summary statistics for the Monte Carlo simulation."
   ]
  },
  {
   "cell_type": "code",
   "execution_count": 37,
   "metadata": {},
   "outputs": [
    {
     "name": "stdout",
     "output_type": "stream",
     "text": [
      "count           500.000000\n",
      "mean              5.469167\n",
      "std               2.221843\n",
      "min               1.687339\n",
      "25%               3.787185\n",
      "50%               5.165797\n",
      "75%               6.594683\n",
      "max              15.104429\n",
      "95% CI Lower      2.290005\n",
      "95% CI Upper     10.826371\n",
      "Name: 7560, dtype: float64\n"
     ]
    }
   ],
   "source": [
    "# Generate summary statistics from the 30-year Monte Carlo simulation results\n",
    "# Save the results as a variable\n",
    "trad_weight_table = MC_trad_weight.summarize_cumulative_return()\n",
    "\n",
    "# Review the 30-year Monte Carlo summary statistics\n",
    "print(trad_weight_table)"
   ]
  },
  {
   "cell_type": "markdown",
   "metadata": {},
   "source": [
    "### Analyze the Retirement Portfolio Forecasts\n",
    "\n",
    "Using the current value of only the stock and bond portion of the member's portfolio and the summary statistics that you generated from the Monte Carlo simulation, answer the following question in your Jupyter notebook:\n",
    "\n",
    "-  What are the lower and upper bounds for the expected value of the portfolio with a 95% confidence interval?\n"
   ]
  },
  {
   "cell_type": "code",
   "execution_count": 38,
   "metadata": {},
   "outputs": [
    {
     "name": "stdout",
     "output_type": "stream",
     "text": [
      "Total Current Value of the Stock/Bond portion of the Portfolio:            $65,723.30\n"
     ]
    }
   ],
   "source": [
    "# Print the current balance of the stock and bond portion of the members portfolio\n",
    "print(f\"Total Current Value of the Stock/Bond portion of the Portfolio:            ${total_stocks_bonds:,.2f}\")"
   ]
  },
  {
   "cell_type": "code",
   "execution_count": 39,
   "metadata": {},
   "outputs": [
    {
     "name": "stdout",
     "output_type": "stream",
     "text": [
      "There is a 95% chance that investing the Stock/Bond portion of the portfolio (current value $65,723.30) in a traditional 60/40 weight distribution over the next 30 years will result in a value within the range of $150,506.66 and $711,544.85.\n"
     ]
    }
   ],
   "source": [
    "# Use the lower and upper `95%` confidence intervals to calculate the range of the possible outcomes for the current stock/bond portfolio\n",
    "ci_lower_thirty_cumulative_return = trad_weight_table[8] * total_stocks_bonds\n",
    "ci_upper_thirty_cumulative_return = trad_weight_table[9] * total_stocks_bonds\n",
    "\n",
    "# Print the result of your calculations\n",
    "print(f\"There is a 95% chance that investing the Stock/Bond portion of the portfolio (current value ${total_stocks_bonds:,.2f}) in\"\n",
    "      f\" a traditional 60/40 weight distribution over the next 30 years will result in a value within the range of\"\n",
    "      f\" ${ci_lower_thirty_cumulative_return:,.2f} and ${ci_upper_thirty_cumulative_return:,.2f}.\")"
   ]
  },
  {
   "cell_type": "markdown",
   "metadata": {},
   "source": [
    "### Forecast Cumulative Returns in 10 Years\n",
    "\n",
    "The CTO of the credit union is impressed with your work on these planning tools but wonders if 30 years is a long time to wait until retirement. So, your next task is to adjust the retirement portfolio and run a new Monte Carlo simulation to find out if the changes will allow members to retire earlier.\n",
    "\n",
    "For this new Monte Carlo simulation, do the following: \n",
    "\n",
    "- Forecast the cumulative returns for 10 years from now. Because of the shortened investment horizon (30 years to 10 years), the portfolio needs to invest more heavily in the riskier asset&mdash;that is, stock&mdash;to help accumulate wealth for retirement. \n",
    "\n",
    "- Adjust the weights of the retirement portfolio so that the composition for the Monte Carlo simulation consists of 20% bonds and 80% stocks. \n",
    "\n",
    "- Run the simulation over 500 samples, and use the same data that the API call to Alpaca generated.\n",
    "\n",
    "- Based on the new Monte Carlo simulation, answer the following questions in your Jupyter notebook:\n",
    "\n",
    "    - Using the current value of only the stock and bond portion of the member's portfolio and the summary statistics that you generated from the new Monte Carlo simulation, what are the lower and upper bounds for the expected value of the portfolio (with the new weights) with a 95% confidence interval?\n",
    "\n",
    "    - Will weighting the portfolio more heavily toward stocks allow the credit union members to retire after only 10 years?\n"
   ]
  },
  {
   "cell_type": "code",
   "execution_count": 40,
   "metadata": {},
   "outputs": [
    {
     "data": {
      "text/html": [
       "<div>\n",
       "<style scoped>\n",
       "    .dataframe tbody tr th:only-of-type {\n",
       "        vertical-align: middle;\n",
       "    }\n",
       "\n",
       "    .dataframe tbody tr th {\n",
       "        vertical-align: top;\n",
       "    }\n",
       "\n",
       "    .dataframe thead tr th {\n",
       "        text-align: left;\n",
       "    }\n",
       "\n",
       "    .dataframe thead tr:last-of-type th {\n",
       "        text-align: right;\n",
       "    }\n",
       "</style>\n",
       "<table border=\"1\" class=\"dataframe\">\n",
       "  <thead>\n",
       "    <tr>\n",
       "      <th></th>\n",
       "      <th colspan=\"6\" halign=\"left\">AGG</th>\n",
       "      <th colspan=\"6\" halign=\"left\">SPY</th>\n",
       "    </tr>\n",
       "    <tr>\n",
       "      <th></th>\n",
       "      <th>open</th>\n",
       "      <th>high</th>\n",
       "      <th>low</th>\n",
       "      <th>close</th>\n",
       "      <th>volume</th>\n",
       "      <th>daily_return</th>\n",
       "      <th>open</th>\n",
       "      <th>high</th>\n",
       "      <th>low</th>\n",
       "      <th>close</th>\n",
       "      <th>volume</th>\n",
       "      <th>daily_return</th>\n",
       "    </tr>\n",
       "    <tr>\n",
       "      <th>time</th>\n",
       "      <th></th>\n",
       "      <th></th>\n",
       "      <th></th>\n",
       "      <th></th>\n",
       "      <th></th>\n",
       "      <th></th>\n",
       "      <th></th>\n",
       "      <th></th>\n",
       "      <th></th>\n",
       "      <th></th>\n",
       "      <th></th>\n",
       "      <th></th>\n",
       "    </tr>\n",
       "  </thead>\n",
       "  <tbody>\n",
       "    <tr>\n",
       "      <th>2011-01-26 00:00:00-05:00</th>\n",
       "      <td>105.74</td>\n",
       "      <td>105.7800</td>\n",
       "      <td>105.51</td>\n",
       "      <td>105.557</td>\n",
       "      <td>542836</td>\n",
       "      <td>NaN</td>\n",
       "      <td>129.49</td>\n",
       "      <td>130.05</td>\n",
       "      <td>129.2300</td>\n",
       "      <td>129.67</td>\n",
       "      <td>115993932</td>\n",
       "      <td>NaN</td>\n",
       "    </tr>\n",
       "    <tr>\n",
       "      <th>2011-01-27 00:00:00-05:00</th>\n",
       "      <td>105.64</td>\n",
       "      <td>105.7501</td>\n",
       "      <td>105.52</td>\n",
       "      <td>105.730</td>\n",
       "      <td>422093</td>\n",
       "      <td>0.001639</td>\n",
       "      <td>129.70</td>\n",
       "      <td>130.21</td>\n",
       "      <td>129.4700</td>\n",
       "      <td>130.02</td>\n",
       "      <td>100169887</td>\n",
       "      <td>0.002699</td>\n",
       "    </tr>\n",
       "    <tr>\n",
       "      <th>2011-01-28 00:00:00-05:00</th>\n",
       "      <td>105.59</td>\n",
       "      <td>105.9700</td>\n",
       "      <td>105.58</td>\n",
       "      <td>105.840</td>\n",
       "      <td>607012</td>\n",
       "      <td>0.001040</td>\n",
       "      <td>130.14</td>\n",
       "      <td>130.35</td>\n",
       "      <td>127.5100</td>\n",
       "      <td>127.69</td>\n",
       "      <td>235476101</td>\n",
       "      <td>-0.017920</td>\n",
       "    </tr>\n",
       "    <tr>\n",
       "      <th>2011-01-31 00:00:00-05:00</th>\n",
       "      <td>105.85</td>\n",
       "      <td>105.9400</td>\n",
       "      <td>105.59</td>\n",
       "      <td>105.670</td>\n",
       "      <td>1514824</td>\n",
       "      <td>-0.001606</td>\n",
       "      <td>128.07</td>\n",
       "      <td>128.78</td>\n",
       "      <td>127.7500</td>\n",
       "      <td>128.67</td>\n",
       "      <td>125255715</td>\n",
       "      <td>0.007675</td>\n",
       "    </tr>\n",
       "    <tr>\n",
       "      <th>2011-02-01 00:00:00-05:00</th>\n",
       "      <td>105.26</td>\n",
       "      <td>105.2600</td>\n",
       "      <td>105.03</td>\n",
       "      <td>105.120</td>\n",
       "      <td>629903</td>\n",
       "      <td>-0.005205</td>\n",
       "      <td>129.46</td>\n",
       "      <td>130.97</td>\n",
       "      <td>129.3801</td>\n",
       "      <td>130.75</td>\n",
       "      <td>134943648</td>\n",
       "      <td>0.016165</td>\n",
       "    </tr>\n",
       "  </tbody>\n",
       "</table>\n",
       "</div>"
      ],
      "text/plain": [
       "                              AGG                                      \\\n",
       "                             open      high     low    close   volume   \n",
       "time                                                                    \n",
       "2011-01-26 00:00:00-05:00  105.74  105.7800  105.51  105.557   542836   \n",
       "2011-01-27 00:00:00-05:00  105.64  105.7501  105.52  105.730   422093   \n",
       "2011-01-28 00:00:00-05:00  105.59  105.9700  105.58  105.840   607012   \n",
       "2011-01-31 00:00:00-05:00  105.85  105.9400  105.59  105.670  1514824   \n",
       "2011-02-01 00:00:00-05:00  105.26  105.2600  105.03  105.120   629903   \n",
       "\n",
       "                                           SPY                            \\\n",
       "                          daily_return    open    high       low   close   \n",
       "time                                                                       \n",
       "2011-01-26 00:00:00-05:00          NaN  129.49  130.05  129.2300  129.67   \n",
       "2011-01-27 00:00:00-05:00     0.001639  129.70  130.21  129.4700  130.02   \n",
       "2011-01-28 00:00:00-05:00     0.001040  130.14  130.35  127.5100  127.69   \n",
       "2011-01-31 00:00:00-05:00    -0.001606  128.07  128.78  127.7500  128.67   \n",
       "2011-02-01 00:00:00-05:00    -0.005205  129.46  130.97  129.3801  130.75   \n",
       "\n",
       "                                                   \n",
       "                              volume daily_return  \n",
       "time                                               \n",
       "2011-01-26 00:00:00-05:00  115993932          NaN  \n",
       "2011-01-27 00:00:00-05:00  100169887     0.002699  \n",
       "2011-01-28 00:00:00-05:00  235476101    -0.017920  \n",
       "2011-01-31 00:00:00-05:00  125255715     0.007675  \n",
       "2011-02-01 00:00:00-05:00  134943648     0.016165  "
      ]
     },
     "execution_count": 40,
     "metadata": {},
     "output_type": "execute_result"
    }
   ],
   "source": [
    "# Configure a Monte Carlo simulation to forecast 10 years cumulative returns\n",
    "# The weights should be split 20% to AGG and 80% to SPY.\n",
    "# Run 500 samples.\n",
    "MC_spy80_weight = MCSimulation(\n",
    "    portfolio_data = prices_df,\n",
    "    weights = [.80,.20],\n",
    "    num_simulation = 500,\n",
    "    num_trading_days = 252*10\n",
    ")\n",
    "\n",
    "# Review the simulation input data\n",
    "MC_spy80_weight.portfolio_data.head()"
   ]
  },
  {
   "cell_type": "code",
   "execution_count": 41,
   "metadata": {},
   "outputs": [
    {
     "name": "stdout",
     "output_type": "stream",
     "text": [
      "Running Monte Carlo simulation number 0.\n",
      "Running Monte Carlo simulation number 10.\n",
      "Running Monte Carlo simulation number 20.\n",
      "Running Monte Carlo simulation number 30.\n",
      "Running Monte Carlo simulation number 40.\n",
      "Running Monte Carlo simulation number 50.\n",
      "Running Monte Carlo simulation number 60.\n",
      "Running Monte Carlo simulation number 70.\n",
      "Running Monte Carlo simulation number 80.\n",
      "Running Monte Carlo simulation number 90.\n",
      "Running Monte Carlo simulation number 100.\n",
      "Running Monte Carlo simulation number 110.\n",
      "Running Monte Carlo simulation number 120.\n",
      "Running Monte Carlo simulation number 130.\n",
      "Running Monte Carlo simulation number 140.\n",
      "Running Monte Carlo simulation number 150.\n",
      "Running Monte Carlo simulation number 160.\n",
      "Running Monte Carlo simulation number 170.\n",
      "Running Monte Carlo simulation number 180.\n",
      "Running Monte Carlo simulation number 190.\n",
      "Running Monte Carlo simulation number 200.\n",
      "Running Monte Carlo simulation number 210.\n",
      "Running Monte Carlo simulation number 220.\n",
      "Running Monte Carlo simulation number 230.\n",
      "Running Monte Carlo simulation number 240.\n",
      "Running Monte Carlo simulation number 250.\n",
      "Running Monte Carlo simulation number 260.\n",
      "Running Monte Carlo simulation number 270.\n",
      "Running Monte Carlo simulation number 280.\n",
      "Running Monte Carlo simulation number 290.\n",
      "Running Monte Carlo simulation number 300.\n",
      "Running Monte Carlo simulation number 310.\n",
      "Running Monte Carlo simulation number 320.\n",
      "Running Monte Carlo simulation number 330.\n",
      "Running Monte Carlo simulation number 340.\n",
      "Running Monte Carlo simulation number 350.\n",
      "Running Monte Carlo simulation number 360.\n",
      "Running Monte Carlo simulation number 370.\n",
      "Running Monte Carlo simulation number 380.\n",
      "Running Monte Carlo simulation number 390.\n",
      "Running Monte Carlo simulation number 400.\n",
      "Running Monte Carlo simulation number 410.\n",
      "Running Monte Carlo simulation number 420.\n",
      "Running Monte Carlo simulation number 430.\n",
      "Running Monte Carlo simulation number 440.\n",
      "Running Monte Carlo simulation number 450.\n",
      "Running Monte Carlo simulation number 460.\n",
      "Running Monte Carlo simulation number 470.\n",
      "Running Monte Carlo simulation number 480.\n",
      "Running Monte Carlo simulation number 490.\n"
     ]
    },
    {
     "data": {
      "text/html": [
       "<div>\n",
       "<style scoped>\n",
       "    .dataframe tbody tr th:only-of-type {\n",
       "        vertical-align: middle;\n",
       "    }\n",
       "\n",
       "    .dataframe tbody tr th {\n",
       "        vertical-align: top;\n",
       "    }\n",
       "\n",
       "    .dataframe thead th {\n",
       "        text-align: right;\n",
       "    }\n",
       "</style>\n",
       "<table border=\"1\" class=\"dataframe\">\n",
       "  <thead>\n",
       "    <tr style=\"text-align: right;\">\n",
       "      <th></th>\n",
       "      <th>0</th>\n",
       "      <th>1</th>\n",
       "      <th>2</th>\n",
       "      <th>3</th>\n",
       "      <th>4</th>\n",
       "      <th>5</th>\n",
       "      <th>6</th>\n",
       "      <th>7</th>\n",
       "      <th>8</th>\n",
       "      <th>9</th>\n",
       "      <th>...</th>\n",
       "      <th>490</th>\n",
       "      <th>491</th>\n",
       "      <th>492</th>\n",
       "      <th>493</th>\n",
       "      <th>494</th>\n",
       "      <th>495</th>\n",
       "      <th>496</th>\n",
       "      <th>497</th>\n",
       "      <th>498</th>\n",
       "      <th>499</th>\n",
       "    </tr>\n",
       "  </thead>\n",
       "  <tbody>\n",
       "    <tr>\n",
       "      <th>0</th>\n",
       "      <td>1.000000</td>\n",
       "      <td>1.000000</td>\n",
       "      <td>1.000000</td>\n",
       "      <td>1.000000</td>\n",
       "      <td>1.000000</td>\n",
       "      <td>1.000000</td>\n",
       "      <td>1.000000</td>\n",
       "      <td>1.000000</td>\n",
       "      <td>1.000000</td>\n",
       "      <td>1.000000</td>\n",
       "      <td>...</td>\n",
       "      <td>1.000000</td>\n",
       "      <td>1.000000</td>\n",
       "      <td>1.000000</td>\n",
       "      <td>1.000000</td>\n",
       "      <td>1.000000</td>\n",
       "      <td>1.000000</td>\n",
       "      <td>1.000000</td>\n",
       "      <td>1.000000</td>\n",
       "      <td>1.000000</td>\n",
       "      <td>1.000000</td>\n",
       "    </tr>\n",
       "    <tr>\n",
       "      <th>1</th>\n",
       "      <td>1.003515</td>\n",
       "      <td>1.002560</td>\n",
       "      <td>1.004215</td>\n",
       "      <td>1.000891</td>\n",
       "      <td>1.000182</td>\n",
       "      <td>1.001160</td>\n",
       "      <td>0.999939</td>\n",
       "      <td>0.999912</td>\n",
       "      <td>1.000712</td>\n",
       "      <td>0.999552</td>\n",
       "      <td>...</td>\n",
       "      <td>1.001073</td>\n",
       "      <td>1.001113</td>\n",
       "      <td>1.002809</td>\n",
       "      <td>0.998758</td>\n",
       "      <td>0.998279</td>\n",
       "      <td>0.997606</td>\n",
       "      <td>0.994513</td>\n",
       "      <td>1.001693</td>\n",
       "      <td>0.999926</td>\n",
       "      <td>0.998241</td>\n",
       "    </tr>\n",
       "    <tr>\n",
       "      <th>2</th>\n",
       "      <td>1.007535</td>\n",
       "      <td>1.002940</td>\n",
       "      <td>1.006293</td>\n",
       "      <td>1.001289</td>\n",
       "      <td>1.000703</td>\n",
       "      <td>1.005947</td>\n",
       "      <td>1.003111</td>\n",
       "      <td>1.000113</td>\n",
       "      <td>1.007454</td>\n",
       "      <td>0.999208</td>\n",
       "      <td>...</td>\n",
       "      <td>1.005305</td>\n",
       "      <td>1.005168</td>\n",
       "      <td>1.008362</td>\n",
       "      <td>0.998605</td>\n",
       "      <td>1.000347</td>\n",
       "      <td>0.997314</td>\n",
       "      <td>0.992759</td>\n",
       "      <td>0.998197</td>\n",
       "      <td>1.000628</td>\n",
       "      <td>1.000161</td>\n",
       "    </tr>\n",
       "    <tr>\n",
       "      <th>3</th>\n",
       "      <td>1.011582</td>\n",
       "      <td>1.001348</td>\n",
       "      <td>1.011573</td>\n",
       "      <td>1.002449</td>\n",
       "      <td>1.003505</td>\n",
       "      <td>1.002482</td>\n",
       "      <td>1.006223</td>\n",
       "      <td>1.000252</td>\n",
       "      <td>1.005029</td>\n",
       "      <td>1.003559</td>\n",
       "      <td>...</td>\n",
       "      <td>1.008742</td>\n",
       "      <td>1.004203</td>\n",
       "      <td>1.011312</td>\n",
       "      <td>0.995033</td>\n",
       "      <td>1.004684</td>\n",
       "      <td>0.993939</td>\n",
       "      <td>0.993849</td>\n",
       "      <td>0.997720</td>\n",
       "      <td>0.999185</td>\n",
       "      <td>0.998143</td>\n",
       "    </tr>\n",
       "    <tr>\n",
       "      <th>4</th>\n",
       "      <td>1.010294</td>\n",
       "      <td>1.000892</td>\n",
       "      <td>1.010744</td>\n",
       "      <td>1.000660</td>\n",
       "      <td>1.002393</td>\n",
       "      <td>1.001239</td>\n",
       "      <td>1.008488</td>\n",
       "      <td>1.001696</td>\n",
       "      <td>1.006650</td>\n",
       "      <td>1.001246</td>\n",
       "      <td>...</td>\n",
       "      <td>1.010219</td>\n",
       "      <td>1.006126</td>\n",
       "      <td>1.014298</td>\n",
       "      <td>0.993043</td>\n",
       "      <td>1.005806</td>\n",
       "      <td>0.985935</td>\n",
       "      <td>0.993402</td>\n",
       "      <td>0.996893</td>\n",
       "      <td>0.999780</td>\n",
       "      <td>1.001440</td>\n",
       "    </tr>\n",
       "    <tr>\n",
       "      <th>...</th>\n",
       "      <td>...</td>\n",
       "      <td>...</td>\n",
       "      <td>...</td>\n",
       "      <td>...</td>\n",
       "      <td>...</td>\n",
       "      <td>...</td>\n",
       "      <td>...</td>\n",
       "      <td>...</td>\n",
       "      <td>...</td>\n",
       "      <td>...</td>\n",
       "      <td>...</td>\n",
       "      <td>...</td>\n",
       "      <td>...</td>\n",
       "      <td>...</td>\n",
       "      <td>...</td>\n",
       "      <td>...</td>\n",
       "      <td>...</td>\n",
       "      <td>...</td>\n",
       "      <td>...</td>\n",
       "      <td>...</td>\n",
       "      <td>...</td>\n",
       "    </tr>\n",
       "    <tr>\n",
       "      <th>2516</th>\n",
       "      <td>1.105229</td>\n",
       "      <td>1.080672</td>\n",
       "      <td>1.446264</td>\n",
       "      <td>1.335173</td>\n",
       "      <td>1.331440</td>\n",
       "      <td>1.438039</td>\n",
       "      <td>1.530673</td>\n",
       "      <td>1.467815</td>\n",
       "      <td>1.673336</td>\n",
       "      <td>1.496340</td>\n",
       "      <td>...</td>\n",
       "      <td>1.417705</td>\n",
       "      <td>1.610446</td>\n",
       "      <td>1.398506</td>\n",
       "      <td>1.617784</td>\n",
       "      <td>1.845814</td>\n",
       "      <td>1.300652</td>\n",
       "      <td>1.369331</td>\n",
       "      <td>1.311404</td>\n",
       "      <td>1.266480</td>\n",
       "      <td>1.135282</td>\n",
       "    </tr>\n",
       "    <tr>\n",
       "      <th>2517</th>\n",
       "      <td>1.102866</td>\n",
       "      <td>1.081399</td>\n",
       "      <td>1.447465</td>\n",
       "      <td>1.338074</td>\n",
       "      <td>1.337173</td>\n",
       "      <td>1.437756</td>\n",
       "      <td>1.533423</td>\n",
       "      <td>1.465809</td>\n",
       "      <td>1.671566</td>\n",
       "      <td>1.495924</td>\n",
       "      <td>...</td>\n",
       "      <td>1.421257</td>\n",
       "      <td>1.611997</td>\n",
       "      <td>1.397734</td>\n",
       "      <td>1.626432</td>\n",
       "      <td>1.843175</td>\n",
       "      <td>1.307484</td>\n",
       "      <td>1.362637</td>\n",
       "      <td>1.310638</td>\n",
       "      <td>1.265781</td>\n",
       "      <td>1.131788</td>\n",
       "    </tr>\n",
       "    <tr>\n",
       "      <th>2518</th>\n",
       "      <td>1.096753</td>\n",
       "      <td>1.083436</td>\n",
       "      <td>1.442679</td>\n",
       "      <td>1.336400</td>\n",
       "      <td>1.335567</td>\n",
       "      <td>1.440629</td>\n",
       "      <td>1.538230</td>\n",
       "      <td>1.462375</td>\n",
       "      <td>1.665100</td>\n",
       "      <td>1.496130</td>\n",
       "      <td>...</td>\n",
       "      <td>1.414035</td>\n",
       "      <td>1.609745</td>\n",
       "      <td>1.402389</td>\n",
       "      <td>1.632843</td>\n",
       "      <td>1.836035</td>\n",
       "      <td>1.302928</td>\n",
       "      <td>1.356909</td>\n",
       "      <td>1.312910</td>\n",
       "      <td>1.267961</td>\n",
       "      <td>1.129377</td>\n",
       "    </tr>\n",
       "    <tr>\n",
       "      <th>2519</th>\n",
       "      <td>1.095654</td>\n",
       "      <td>1.082039</td>\n",
       "      <td>1.446965</td>\n",
       "      <td>1.338334</td>\n",
       "      <td>1.339191</td>\n",
       "      <td>1.443553</td>\n",
       "      <td>1.538807</td>\n",
       "      <td>1.458277</td>\n",
       "      <td>1.663842</td>\n",
       "      <td>1.495187</td>\n",
       "      <td>...</td>\n",
       "      <td>1.409300</td>\n",
       "      <td>1.607484</td>\n",
       "      <td>1.401116</td>\n",
       "      <td>1.627170</td>\n",
       "      <td>1.835723</td>\n",
       "      <td>1.302594</td>\n",
       "      <td>1.353331</td>\n",
       "      <td>1.314841</td>\n",
       "      <td>1.264329</td>\n",
       "      <td>1.137722</td>\n",
       "    </tr>\n",
       "    <tr>\n",
       "      <th>2520</th>\n",
       "      <td>1.095911</td>\n",
       "      <td>1.085498</td>\n",
       "      <td>1.444225</td>\n",
       "      <td>1.328991</td>\n",
       "      <td>1.338573</td>\n",
       "      <td>1.441374</td>\n",
       "      <td>1.535293</td>\n",
       "      <td>1.460952</td>\n",
       "      <td>1.666355</td>\n",
       "      <td>1.499685</td>\n",
       "      <td>...</td>\n",
       "      <td>1.408608</td>\n",
       "      <td>1.601231</td>\n",
       "      <td>1.398992</td>\n",
       "      <td>1.624184</td>\n",
       "      <td>1.830948</td>\n",
       "      <td>1.306093</td>\n",
       "      <td>1.354223</td>\n",
       "      <td>1.310262</td>\n",
       "      <td>1.272745</td>\n",
       "      <td>1.141042</td>\n",
       "    </tr>\n",
       "  </tbody>\n",
       "</table>\n",
       "<p>2521 rows × 500 columns</p>\n",
       "</div>"
      ],
      "text/plain": [
       "           0         1         2         3         4         5         6    \\\n",
       "0     1.000000  1.000000  1.000000  1.000000  1.000000  1.000000  1.000000   \n",
       "1     1.003515  1.002560  1.004215  1.000891  1.000182  1.001160  0.999939   \n",
       "2     1.007535  1.002940  1.006293  1.001289  1.000703  1.005947  1.003111   \n",
       "3     1.011582  1.001348  1.011573  1.002449  1.003505  1.002482  1.006223   \n",
       "4     1.010294  1.000892  1.010744  1.000660  1.002393  1.001239  1.008488   \n",
       "...        ...       ...       ...       ...       ...       ...       ...   \n",
       "2516  1.105229  1.080672  1.446264  1.335173  1.331440  1.438039  1.530673   \n",
       "2517  1.102866  1.081399  1.447465  1.338074  1.337173  1.437756  1.533423   \n",
       "2518  1.096753  1.083436  1.442679  1.336400  1.335567  1.440629  1.538230   \n",
       "2519  1.095654  1.082039  1.446965  1.338334  1.339191  1.443553  1.538807   \n",
       "2520  1.095911  1.085498  1.444225  1.328991  1.338573  1.441374  1.535293   \n",
       "\n",
       "           7         8         9    ...       490       491       492  \\\n",
       "0     1.000000  1.000000  1.000000  ...  1.000000  1.000000  1.000000   \n",
       "1     0.999912  1.000712  0.999552  ...  1.001073  1.001113  1.002809   \n",
       "2     1.000113  1.007454  0.999208  ...  1.005305  1.005168  1.008362   \n",
       "3     1.000252  1.005029  1.003559  ...  1.008742  1.004203  1.011312   \n",
       "4     1.001696  1.006650  1.001246  ...  1.010219  1.006126  1.014298   \n",
       "...        ...       ...       ...  ...       ...       ...       ...   \n",
       "2516  1.467815  1.673336  1.496340  ...  1.417705  1.610446  1.398506   \n",
       "2517  1.465809  1.671566  1.495924  ...  1.421257  1.611997  1.397734   \n",
       "2518  1.462375  1.665100  1.496130  ...  1.414035  1.609745  1.402389   \n",
       "2519  1.458277  1.663842  1.495187  ...  1.409300  1.607484  1.401116   \n",
       "2520  1.460952  1.666355  1.499685  ...  1.408608  1.601231  1.398992   \n",
       "\n",
       "           493       494       495       496       497       498       499  \n",
       "0     1.000000  1.000000  1.000000  1.000000  1.000000  1.000000  1.000000  \n",
       "1     0.998758  0.998279  0.997606  0.994513  1.001693  0.999926  0.998241  \n",
       "2     0.998605  1.000347  0.997314  0.992759  0.998197  1.000628  1.000161  \n",
       "3     0.995033  1.004684  0.993939  0.993849  0.997720  0.999185  0.998143  \n",
       "4     0.993043  1.005806  0.985935  0.993402  0.996893  0.999780  1.001440  \n",
       "...        ...       ...       ...       ...       ...       ...       ...  \n",
       "2516  1.617784  1.845814  1.300652  1.369331  1.311404  1.266480  1.135282  \n",
       "2517  1.626432  1.843175  1.307484  1.362637  1.310638  1.265781  1.131788  \n",
       "2518  1.632843  1.836035  1.302928  1.356909  1.312910  1.267961  1.129377  \n",
       "2519  1.627170  1.835723  1.302594  1.353331  1.314841  1.264329  1.137722  \n",
       "2520  1.624184  1.830948  1.306093  1.354223  1.310262  1.272745  1.141042  \n",
       "\n",
       "[2521 rows x 500 columns]"
      ]
     },
     "execution_count": 41,
     "metadata": {},
     "output_type": "execute_result"
    }
   ],
   "source": [
    "# Run the Monte Carlo simulation to forecast 10 years cumulative returns\n",
    "MC_spy80_weight.calc_cumulative_return()"
   ]
  },
  {
   "cell_type": "code",
   "execution_count": 42,
   "metadata": {},
   "outputs": [
    {
     "data": {
      "image/png": "[encoded data removed]",
      "text/plain": [
       "<Figure size 432x288 with 1 Axes>"
      ]
     },
     "metadata": {
      "needs_background": "light"
     },
     "output_type": "display_data"
    }
   ],
   "source": [
    "# Visualize the 10-year Monte Carlo simulation by creating an\n",
    "# overlay line plot\n",
    "spy80_weight_line_plot = MC_spy80_weight.plot_simulation()\n",
    "\n",
    "# Save the plot for future use\n",
    "spy80_weight_line_plot.get_figure().savefig(\"MC_spy80_weight_line_plot.png\", bbox_inches=\"tight\")"
   ]
  },
  {
   "cell_type": "code",
   "execution_count": 43,
   "metadata": {},
   "outputs": [
    {
     "data": {
      "image/png": "[encoded data removed]",
      "text/plain": [
       "<Figure size 432x288 with 1 Axes>"
      ]
     },
     "metadata": {
      "needs_background": "light"
     },
     "output_type": "display_data"
    }
   ],
   "source": [
    "# Visualize the probability distribution of the 10-year Monte Carlo simulation \n",
    "# by plotting a histogram\n",
    "spy80_weight_distribution_plot = MC_spy80_weight.plot_distribution()\n",
    "\n",
    "# Save the plot for future use\n",
    "spy80_weight_distribution_plot.get_figure().savefig('MC_spy80_weight_dist_plot.png',bbox_inches='tight')"
   ]
  },
  {
   "cell_type": "code",
   "execution_count": 44,
   "metadata": {},
   "outputs": [
    {
     "name": "stdout",
     "output_type": "stream",
     "text": [
      "count           500.000000\n",
      "mean              1.410608\n",
      "std               0.210286\n",
      "min               0.916084\n",
      "25%               1.257667\n",
      "50%               1.396185\n",
      "75%               1.547890\n",
      "max               2.230335\n",
      "95% CI Lower      1.052007\n",
      "95% CI Upper      1.858920\n",
      "Name: 2520, dtype: float64\n"
     ]
    }
   ],
   "source": [
    "# Generate summary statistics from the 10-year Monte Carlo simulation results\n",
    "# Save the results as a variable\n",
    "spy80_weight_table = MC_spy80_weight.summarize_cumulative_return()\n",
    "\n",
    "# Review the 10-year Monte Carlo summary statistics\n",
    "print(spy80_weight_table)"
   ]
  },
  {
   "cell_type": "markdown",
   "metadata": {},
   "source": [
    "### Answer the following questions:"
   ]
  },
  {
   "cell_type": "markdown",
   "metadata": {},
   "source": [
    "#### Question: Using the current value of only the stock and bond portion of the member's portfolio and the summary statistics that you generated from the new Monte Carlo simulation, what are the lower and upper bounds for the expected value of the portfolio (with the new weights) with a 95% confidence interval?"
   ]
  },
  {
   "cell_type": "code",
   "execution_count": 45,
   "metadata": {},
   "outputs": [
    {
     "name": "stdout",
     "output_type": "stream",
     "text": [
      "Total Current Value of the Stock/Bond portion of the Portfolio:            $65,723.30\n"
     ]
    }
   ],
   "source": [
    "# Print the current balance of the stock and bond portion of the members portfolio\n",
    "print(f\"Total Current Value of the Stock/Bond portion of the Portfolio:            ${total_stocks_bonds:,.2f}\")\n"
   ]
  },
  {
   "cell_type": "code",
   "execution_count": 46,
   "metadata": {},
   "outputs": [
    {
     "name": "stdout",
     "output_type": "stream",
     "text": [
      "There is a 95% chance that investing the Stock/Bond portion of the portfolio (current value $65,723.30) in a more aggressive 80/20 weight distribution over the next 10 years will end within in the range of $69,141.36 and $122,174.33 in value.\n"
     ]
    }
   ],
   "source": [
    "# Use the lower and upper `95%` confidence intervals to calculate the range of the possible outcomes for the current stock/bond portfolio\n",
    "ci_lower_ten_cumulative_return = spy80_weight_table[8] * total_stocks_bonds\n",
    "ci_upper_ten_cumulative_return = spy80_weight_table[9] * total_stocks_bonds\n",
    "\n",
    "# Print the result of your calculations\n",
    "# YOUR CODE HERE\n",
    "print(f\"There is a 95% chance that investing the Stock/Bond portion of the portfolio (current value ${total_stocks_bonds:,.2f}) in\"\n",
    "      f\" a more aggressive 80/20 weight distribution over the next 10 years will end within in the range of\"\n",
    "      f\" ${ci_lower_ten_cumulative_return:,.2f} and ${ci_upper_ten_cumulative_return:,.2f} in value.\")\n"
   ]
  },
  {
   "cell_type": "markdown",
   "metadata": {},
   "source": [
    "#### Question: Will weighting the portfolio more heavily to stocks allow the credit union members to retire after only 10 years?"
   ]
  },
  {
   "cell_type": "raw",
   "metadata": {},
   "source": [
    "**Answer** # YOUR ANSWER HERE"
   ]
  }
 ],
 "metadata": {
  "kernelspec": {
   "display_name": "Python 3",
   "language": "python",
   "name": "python3"
  },
  "language_info": {
   "codemirror_mode": {
    "name": "ipython",
    "version": 3
   },
   "file_extension": ".py",
   "mimetype": "text/x-python",
   "name": "python",
   "nbconvert_exporter": "python",
   "pygments_lexer": "ipython3",
   "version": "3.8.5"
  }
 },
 "nbformat": 4,
 "nbformat_minor": 4
}
