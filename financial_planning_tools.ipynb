{
 "cells": [
  {
   "cell_type": "markdown",
   "metadata": {},
   "source": [
    "# Financial Planning with APIs and Simulations\n",
    "\n",
    "In this Challenge, you’ll create two financial analysis tools by using a single Jupyter notebook:\n",
    "\n",
    "Part 1: A financial planner for emergencies. The members will be able to use this tool to visualize their current savings. The members can then determine if they have enough reserves for an emergency fund.\n",
    "\n",
    "Part 2: A financial planner for retirement. This tool will forecast the performance of their retirement portfolio in 30 years. To do this, the tool will make an Alpaca API call via the Alpaca SDK to get historical price data for use in Monte Carlo simulations.\n",
    "\n",
    "You’ll use the information from the Monte Carlo simulation to answer questions about the portfolio in your Jupyter notebook.\n",
    "\n"
   ]
  },
  {
   "cell_type": "code",
   "execution_count": 1,
   "metadata": {},
   "outputs": [],
   "source": [
    "# Import the required libraries and dependencies\n",
    "import os\n",
    "import requests\n",
    "import json\n",
    "import pandas as pd\n",
    "from dotenv import load_dotenv\n",
    "import alpaca_trade_api as tradeapi\n",
    "from MCForecastTools import MCSimulation\n",
    "\n",
    "%matplotlib inline"
   ]
  },
  {
   "cell_type": "code",
   "execution_count": 2,
   "metadata": {},
   "outputs": [
    {
     "data": {
      "text/plain": [
       "True"
      ]
     },
     "execution_count": 2,
     "metadata": {},
     "output_type": "execute_result"
    }
   ],
   "source": [
    "# Load the environment variables from the .env file\n",
    "#by calling the load_dotenv function\n",
    "load_dotenv()"
   ]
  },
  {
   "cell_type": "markdown",
   "metadata": {},
   "source": [
    "## Part 1: Create a Financial Planner for Emergencies"
   ]
  },
  {
   "cell_type": "markdown",
   "metadata": {},
   "source": [
    "### Evaluate the Cryptocurrency Wallet by Using the Requests Library\n",
    "\n",
    "In this section, you’ll determine the current value of a member’s cryptocurrency wallet. You’ll collect the current prices for the Bitcoin and Ethereum cryptocurrencies by using the Python Requests library. For the prototype, you’ll assume that the member holds the 1.2 Bitcoins (BTC) and 5.3 Ethereum coins (ETH). To do all this, complete the following steps:\n",
    "\n",
    "1. Create a variable named `monthly_income`, and set its value to `12000`.\n",
    "\n",
    "2. Use the Requests library to get the current price (in US dollars) of Bitcoin (BTC) and Ethereum (ETH) by using the API endpoints that the starter code supplies.\n",
    "\n",
    "3. Navigate the JSON response object to access the current price of each coin, and store each in a variable.\n",
    "\n",
    "    > **Hint** Note the specific identifier for each cryptocurrency in the API JSON response. The Bitcoin identifier is `1`, and the Ethereum identifier is `1027`.\n",
    "\n",
    "4. Calculate the value, in US dollars, of the current amount of each cryptocurrency and of the entire cryptocurrency wallet.\n",
    "\n"
   ]
  },
  {
   "cell_type": "code",
   "execution_count": 3,
   "metadata": {},
   "outputs": [],
   "source": [
    "# The current number of coins for each cryptocurrency asset held in the portfolio.\n",
    "btc_coins = 1.2\n",
    "eth_coins = 5.3"
   ]
  },
  {
   "cell_type": "markdown",
   "metadata": {},
   "source": [
    "#### Step 1: Create a variable named `monthly_income`, and set its value to `12000`."
   ]
  },
  {
   "cell_type": "code",
   "execution_count": 4,
   "metadata": {},
   "outputs": [],
   "source": [
    "# The monthly amount for the member's household income\n",
    "monthly_income = 12000\n"
   ]
  },
  {
   "cell_type": "markdown",
   "metadata": {},
   "source": [
    "#### Review the endpoint URLs for the API calls to Free Crypto API in order to get the current pricing information for both BTC and ETH."
   ]
  },
  {
   "cell_type": "code",
   "execution_count": 5,
   "metadata": {},
   "outputs": [],
   "source": [
    "# The Free Crypto API Call endpoint URLs for the held cryptocurrency assets\n",
    "btc_url = \"https://api.alternative.me/v2/ticker/Bitcoin/?convert=USD\"\n",
    "eth_url = \"https://api.alternative.me/v2/ticker/Ethereum/?convert=USD\""
   ]
  },
  {
   "cell_type": "markdown",
   "metadata": {},
   "source": [
    "#### Step 2. Use the Requests library to get the current price (in US dollars) of Bitcoin (BTC) and Ethereum (ETH) by using the API endpoints that the starter code supplied."
   ]
  },
  {
   "cell_type": "code",
   "execution_count": 6,
   "metadata": {},
   "outputs": [
    {
     "name": "stdout",
     "output_type": "stream",
     "text": [
      "{\n",
      "    \"data\": {\n",
      "        \"1\": {\n",
      "            \"circulating_supply\": 18615200,\n",
      "            \"id\": 1,\n",
      "            \"last_updated\": 1612071484,\n",
      "            \"max_supply\": 21000000,\n",
      "            \"name\": \"Bitcoin\",\n",
      "            \"quotes\": {\n",
      "                \"USD\": {\n",
      "                    \"market_cap\": 628565788412,\n",
      "                    \"percent_change_1h\": -0.599069299256267,\n",
      "                    \"percent_change_24h\": 0.757106943028486,\n",
      "                    \"percent_change_7d\": 5.02228399651054,\n",
      "                    \"percentage_change_1h\": -0.599069299256267,\n",
      "                    \"percentage_change_24h\": 0.757106943028486,\n",
      "                    \"percentage_change_7d\": 5.02228399651054,\n",
      "                    \"price\": 33679.0,\n",
      "                    \"volume_24h\": 46810826452\n",
      "                }\n",
      "            },\n",
      "            \"rank\": 1,\n",
      "            \"symbol\": \"BTC\",\n",
      "            \"total_supply\": 18615200,\n",
      "            \"website_slug\": \"bitcoin\"\n",
      "        }\n",
      "    },\n",
      "    \"metadata\": {\n",
      "        \"error\": null,\n",
      "        \"num_cryptocurrencies\": 1371,\n",
      "        \"timestamp\": 1612071484\n",
      "    }\n",
      "}\n"
     ]
    }
   ],
   "source": [
    "# Using the Python requests library, make an API call to access the current price of BTC\n",
    "btc_response = requests.get(btc_url).json()\n",
    "\n",
    "# Use the json.dumps function to review the response data from the API call\n",
    "# Use the indent and sort_keys parameters to make the response object readable\n",
    "print(json.dumps(btc_response, indent = 4, sort_keys = True))"
   ]
  },
  {
   "cell_type": "code",
   "execution_count": 7,
   "metadata": {},
   "outputs": [
    {
     "name": "stdout",
     "output_type": "stream",
     "text": [
      "{\n",
      "    \"data\": {\n",
      "        \"1027\": {\n",
      "            \"circulating_supply\": 114473756,\n",
      "            \"id\": 1027,\n",
      "            \"last_updated\": 1612071327,\n",
      "            \"max_supply\": 0,\n",
      "            \"name\": \"Ethereum\",\n",
      "            \"quotes\": {\n",
      "                \"USD\": {\n",
      "                    \"market_cap\": 154472711998,\n",
      "                    \"percent_change_1h\": -0.719969581617128,\n",
      "                    \"percent_change_24h\": 0.247156734861656,\n",
      "                    \"percent_change_7d\": 9.43000201450655,\n",
      "                    \"percentage_change_1h\": -0.719969581617128,\n",
      "                    \"percentage_change_24h\": 0.247156734861656,\n",
      "                    \"percentage_change_7d\": 9.43000201450655,\n",
      "                    \"price\": 1347.28,\n",
      "                    \"volume_24h\": 25972816019\n",
      "                }\n",
      "            },\n",
      "            \"rank\": 2,\n",
      "            \"symbol\": \"ETH\",\n",
      "            \"total_supply\": 114473756,\n",
      "            \"website_slug\": \"ethereum\"\n",
      "        }\n",
      "    },\n",
      "    \"metadata\": {\n",
      "        \"error\": null,\n",
      "        \"num_cryptocurrencies\": 1371,\n",
      "        \"timestamp\": 1612071327\n",
      "    }\n",
      "}\n"
     ]
    }
   ],
   "source": [
    "# Using the Python requests library, make an API call to access the current price ETH\n",
    "eth_response = requests.get(eth_url).json()\n",
    "\n",
    "# Use the json.dumps function to review the response data from the API call\n",
    "# Use the indent and sort_keys parameters to make the response object readable\n",
    "print(json.dumps(eth_response, indent = 4, sort_keys = True))"
   ]
  },
  {
   "cell_type": "markdown",
   "metadata": {},
   "source": [
    "#### Step 3: Navigate the JSON response object to access the current price of each coin, and store each in a variable."
   ]
  },
  {
   "cell_type": "code",
   "execution_count": 8,
   "metadata": {},
   "outputs": [
    {
     "name": "stdout",
     "output_type": "stream",
     "text": [
      "The price for BTC is $33,679.00\n"
     ]
    }
   ],
   "source": [
    "# Navigate the BTC response object to access the current price of BTC\n",
    "btc_price = btc_response['data']['1']['quotes']['USD']['price']\n",
    "\n",
    "# Print the current price of BTC\n",
    "print(f\"The price for BTC is ${btc_price:,.2f}\")"
   ]
  },
  {
   "cell_type": "code",
   "execution_count": 9,
   "metadata": {},
   "outputs": [
    {
     "name": "stdout",
     "output_type": "stream",
     "text": [
      "The price for ETH is $1,347.28\n"
     ]
    }
   ],
   "source": [
    "# Navigate the BTC response object to access the current price of ETH\n",
    "eth_price = eth_response['data']['1027']['quotes']['USD']['price']\n",
    "\n",
    "# Print the current price of ETH\n",
    "print(f\"The price for ETH is ${eth_price:,.2f}\")"
   ]
  },
  {
   "cell_type": "markdown",
   "metadata": {},
   "source": [
    "### Step 4: Calculate the value, in US dollars, of the current amount of each cryptocurrency and of the entire cryptocurrency wallet."
   ]
  },
  {
   "cell_type": "code",
   "execution_count": 10,
   "metadata": {},
   "outputs": [
    {
     "name": "stdout",
     "output_type": "stream",
     "text": [
      "The current value of Bitcoin (BTC) holding is: $40,414.80\n"
     ]
    }
   ],
   "source": [
    "# Compute the current value of the BTC holding \n",
    "btc_value = btc_coins * btc_price\n",
    "\n",
    "# Print current value of your holding in BTC\n",
    "print(f\"The current value of Bitcoin (BTC) holding is: ${btc_value:,.2f}\")"
   ]
  },
  {
   "cell_type": "code",
   "execution_count": 11,
   "metadata": {},
   "outputs": [
    {
     "name": "stdout",
     "output_type": "stream",
     "text": [
      "The current value of Ethereum (ETH) holding is: $7,140.58\n"
     ]
    }
   ],
   "source": [
    "# Compute the current value of the ETH holding \n",
    "eth_value = eth_coins * eth_price\n",
    "\n",
    "# Print current value of your holding in ETH\n",
    "print(f\"The current value of Ethereum (ETH) holding is: ${eth_value:,.2f}\")"
   ]
  },
  {
   "cell_type": "code",
   "execution_count": 12,
   "metadata": {},
   "outputs": [
    {
     "name": "stdout",
     "output_type": "stream",
     "text": [
      "The total value of the cryptocurrency wallet is: $47,555.38\n"
     ]
    }
   ],
   "source": [
    "# Compute the total value of the cryptocurrency wallet\n",
    "# Add the value of the BTC holding to the value of the ETH holding\n",
    "total_crypto_wallet = btc_value + eth_value\n",
    "\n",
    "# Print current cryptocurrency wallet balance\n",
    "print(f\"The total value of the cryptocurrency wallet is: ${total_crypto_wallet:,.2f}\")"
   ]
  },
  {
   "cell_type": "markdown",
   "metadata": {},
   "source": [
    "### Evaluate the Stock and Bond Holdings by Using the Alpaca SDK\n",
    "\n",
    "In this section, you’ll determine the current value of a member’s stock and bond holdings. You’ll make an API call to Alpaca via the Alpaca SDK to get the current closing prices of the SPDR S&P 500 ETF Trust (ticker: SPY) and of the iShares Core US Aggregate Bond ETF (ticker: AGG). For the prototype, assume that the member holds 110 shares of SPY, which represents the stock portion of their portfolio, and 200 shares of AGG, which represents the bond portion. To do all this, complete the following steps:\n",
    "\n",
    "1. In the `Starter_Code` folder, create an environment file (`.env`) to store the values of your Alpaca API key and Alpaca secret key.\n",
    "\n",
    "2. Set the variables for the Alpaca API and secret keys. Using the Alpaca SDK, create the Alpaca `tradeapi.REST` object. In this object, include the parameters for the Alpaca API key, the secret key, and the version number.\n",
    "\n",
    "3. Set the following parameters for the Alpaca API call:\n",
    "\n",
    "    - `tickers`: Use the tickers for the member’s stock and bond holdings.\n",
    "\n",
    "    - `timeframe`: Use a time frame of one day.\n",
    "\n",
    "    - `start_date` and `end_date`: Use the same date for these parameters, and format them with the date of the previous weekday (or `2020-08-07`). This is because you want the one closing price for the most-recent trading day.\n",
    "\n",
    "4. Get the current closing prices for `SPY` and `AGG` by using the Alpaca `get_barset` function. Format the response as a Pandas DataFrame by including the `df` property at the end of the `get_barset` function.\n",
    "\n",
    "5. Navigating the Alpaca response DataFrame, select the `SPY` and `AGG` closing prices, and store them as variables.\n",
    "\n",
    "6. Calculate the value, in US dollars, of the current amount of shares in each of the stock and bond portions of the portfolio, and print the results.\n"
   ]
  },
  {
   "cell_type": "markdown",
   "metadata": {},
   "source": [
    "#### Review the total number of shares held in both (SPY) and (AGG)."
   ]
  },
  {
   "cell_type": "code",
   "execution_count": 13,
   "metadata": {},
   "outputs": [],
   "source": [
    "# Current amount of shares held in both the stock (SPY) and bond (AGG) portion of the portfolio.\n",
    "spy_shares = 110\n",
    "agg_shares = 200\n"
   ]
  },
  {
   "cell_type": "markdown",
   "metadata": {},
   "source": [
    "#### Step 1: In the `Starter_Code` folder, create an environment file (`.env`) to store the values of your Alpaca API key and Alpaca secret key."
   ]
  },
  {
   "cell_type": "markdown",
   "metadata": {},
   "source": [
    "#### Step 2: Set the variables for the Alpaca API and secret keys. Using the Alpaca SDK, create the Alpaca `tradeapi.REST` object. In this object, include the parameters for the Alpaca API key, the secret key, and the version number."
   ]
  },
  {
   "cell_type": "code",
   "execution_count": 14,
   "metadata": {},
   "outputs": [
    {
     "data": {
      "text/plain": [
       "str"
      ]
     },
     "metadata": {},
     "output_type": "display_data"
    },
    {
     "data": {
      "text/plain": [
       "str"
      ]
     },
     "metadata": {},
     "output_type": "display_data"
    }
   ],
   "source": [
    "# Set the variables for the Alpaca API and secret keys\n",
    "alpaca_api_key = os.getenv(\"ALPACA_API_KEY\")\n",
    "alpaca_secret_key = os.getenv(\"ALPACA_SECRET_KEY\")\n",
    "\n",
    "# Check the values were imported correctly by evaluating the type of each\n",
    "display(type(alpaca_api_key))\n",
    "display(type(alpaca_secret_key))\n",
    "\n",
    "# Create the Alpaca tradeapi.REST object\n",
    "alpaca = tradeapi.REST(\n",
    "    alpaca_api_key,\n",
    "    alpaca_secret_key,\n",
    "    api_version = \"v2\"\n",
    ")"
   ]
  },
  {
   "cell_type": "markdown",
   "metadata": {},
   "source": [
    "#### Step 3: Set the following parameters for the Alpaca API call:\n",
    "\n",
    "- `tickers`: Use the tickers for the member’s stock and bond holdings.\n",
    "\n",
    "- `timeframe`: Use a time frame of one day.\n",
    "\n",
    "- `start_date` and `end_date`: Use the same date for these parameters, and format them with the date of the previous weekday (or `2020-08-07`). This is because you want the one closing price for the most-recent trading day.\n"
   ]
  },
  {
   "cell_type": "code",
   "execution_count": 15,
   "metadata": {},
   "outputs": [],
   "source": [
    "# Set the tickers for both the bond and stock portion of the portfolio\n",
    "# YOUR CODE HERE\n",
    "tickers = [\"SPY\", \"AGG\"]\n",
    "\n",
    "# Set timeframe to 1D \n",
    "timeframe = \"1D\"\n",
    "\n",
    "# Format current date as ISO format\n",
    "# Set both the start and end date at the date of your prior weekday \n",
    "# This will give you the closing price of the previous trading day\n",
    "# Alternatively you can use a start and end date of 2020-08-07\n",
    "start_date = pd.Timestamp(\"2021-01-29\", tz=\"America/New_York\").isoformat()\n",
    "end_date = pd.Timestamp(\"2021-01-29\", tz=\"America/New_York\").isoformat()\n"
   ]
  },
  {
   "cell_type": "markdown",
   "metadata": {},
   "source": [
    "#### Step 4: Get the current closing prices for `SPY` and `AGG` by using the Alpaca `get_barset` function. Format the response as a Pandas DataFrame by including the `df` property at the end of the `get_barset` function."
   ]
  },
  {
   "cell_type": "code",
   "execution_count": 16,
   "metadata": {},
   "outputs": [
    {
     "data": {
      "text/html": [
       "<div>\n",
       "<style scoped>\n",
       "    .dataframe tbody tr th:only-of-type {\n",
       "        vertical-align: middle;\n",
       "    }\n",
       "\n",
       "    .dataframe tbody tr th {\n",
       "        vertical-align: top;\n",
       "    }\n",
       "\n",
       "    .dataframe thead tr th {\n",
       "        text-align: left;\n",
       "    }\n",
       "\n",
       "    .dataframe thead tr:last-of-type th {\n",
       "        text-align: right;\n",
       "    }\n",
       "</style>\n",
       "<table border=\"1\" class=\"dataframe\">\n",
       "  <thead>\n",
       "    <tr>\n",
       "      <th></th>\n",
       "      <th colspan=\"5\" halign=\"left\">AGG</th>\n",
       "      <th colspan=\"5\" halign=\"left\">SPY</th>\n",
       "    </tr>\n",
       "    <tr>\n",
       "      <th></th>\n",
       "      <th>open</th>\n",
       "      <th>high</th>\n",
       "      <th>low</th>\n",
       "      <th>close</th>\n",
       "      <th>volume</th>\n",
       "      <th>open</th>\n",
       "      <th>high</th>\n",
       "      <th>low</th>\n",
       "      <th>close</th>\n",
       "      <th>volume</th>\n",
       "    </tr>\n",
       "    <tr>\n",
       "      <th>time</th>\n",
       "      <th></th>\n",
       "      <th></th>\n",
       "      <th></th>\n",
       "      <th></th>\n",
       "      <th></th>\n",
       "      <th></th>\n",
       "      <th></th>\n",
       "      <th></th>\n",
       "      <th></th>\n",
       "      <th></th>\n",
       "    </tr>\n",
       "  </thead>\n",
       "  <tbody>\n",
       "    <tr>\n",
       "      <th>2021-01-29 00:00:00-05:00</th>\n",
       "      <td>117.1563</td>\n",
       "      <td>117.4</td>\n",
       "      <td>116.5625</td>\n",
       "      <td>117.32</td>\n",
       "      <td>7119889</td>\n",
       "      <td>375.63</td>\n",
       "      <td>376.67</td>\n",
       "      <td>368.27</td>\n",
       "      <td>370.19</td>\n",
       "      <td>106397082</td>\n",
       "    </tr>\n",
       "  </tbody>\n",
       "</table>\n",
       "</div>"
      ],
      "text/plain": [
       "                                AGG                                       SPY  \\\n",
       "                               open   high       low   close   volume    open   \n",
       "time                                                                            \n",
       "2021-01-29 00:00:00-05:00  117.1563  117.4  116.5625  117.32  7119889  375.63   \n",
       "\n",
       "                                                              \n",
       "                             high     low   close     volume  \n",
       "time                                                          \n",
       "2021-01-29 00:00:00-05:00  376.67  368.27  370.19  106397082  "
      ]
     },
     "execution_count": 16,
     "metadata": {},
     "output_type": "execute_result"
    }
   ],
   "source": [
    "# Use the Alpaca get_barset function to get current closing prices the portfolio\n",
    "# Be sure to set the `df` property after the function to format the response object as a DataFrame\n",
    "prices_df = alpaca.get_barset(\n",
    "    tickers,\n",
    "    timeframe,\n",
    "    start=start_date,\n",
    "    end=end_date\n",
    ").df\n",
    "\n",
    "# Review the first 5 rows of the Alpaca DataFrame \n",
    "prices_df.head()"
   ]
  },
  {
   "cell_type": "markdown",
   "metadata": {},
   "source": [
    "#### Step 5: Navigating the Alpaca response DataFrame, select the `SPY` and `AGG` closing prices, and store them as variables."
   ]
  },
  {
   "cell_type": "code",
   "execution_count": 17,
   "metadata": {},
   "outputs": [
    {
     "name": "stdout",
     "output_type": "stream",
     "text": [
      "AGG    $ 117.32\n",
      "<class 'float'>\n"
     ]
    }
   ],
   "source": [
    "# Access the closing price for AGG from the Alpaca DataFrame\n",
    "# Converting the value to a floating point number\n",
    "agg_close_price = float(prices_df[\"AGG\"][\"close\"])\n",
    "\n",
    "# Print the AGG closing price\n",
    "print(f\"AGG    ${agg_close_price: .2f}\")\n",
    "print(type(agg_close_price))"
   ]
  },
  {
   "cell_type": "code",
   "execution_count": 18,
   "metadata": {},
   "outputs": [
    {
     "name": "stdout",
     "output_type": "stream",
     "text": [
      "SPY    $ 370.19\n",
      "<class 'float'>\n"
     ]
    }
   ],
   "source": [
    "# Access the closing price for SPY from the Alpaca DataFrame\n",
    "# Converting the value to a floating point number\n",
    "spy_close_price = float(prices_df[\"SPY\"][\"close\"])\n",
    "\n",
    "# Print the SPY closing price\n",
    "print(f\"SPY    ${spy_close_price: .2f}\")\n",
    "print(type(spy_close_price))"
   ]
  },
  {
   "cell_type": "markdown",
   "metadata": {},
   "source": [
    "#### Step 6: Calculate the value, in US dollars, of the current amount of shares in each of the stock and bond portions of the portfolio, and print the results."
   ]
  },
  {
   "cell_type": "code",
   "execution_count": 19,
   "metadata": {},
   "outputs": [
    {
     "name": "stdout",
     "output_type": "stream",
     "text": [
      "Current Value of Bond Portfolio:     $23,464.00\n"
     ]
    }
   ],
   "source": [
    "\n",
    "# Calculate the current value of the bond portion of the portfolio\n",
    "agg_value = agg_close_price * agg_shares\n",
    "\n",
    "# Print the current value of the bond portfolio\n",
    "print(f\"Current Value of Bond Portfolio:     ${agg_value:,.2f}\")"
   ]
  },
  {
   "cell_type": "code",
   "execution_count": 20,
   "metadata": {},
   "outputs": [
    {
     "name": "stdout",
     "output_type": "stream",
     "text": [
      "Current Value of Stock Portfolio:     $40,720.90\n"
     ]
    }
   ],
   "source": [
    "\n",
    "# Calculate the current value of the stock portion of the portfolio\n",
    "spy_value = spy_close_price * spy_shares\n",
    "\n",
    "# Print the current value of the stock portfolio\n",
    "print(f\"Current Value of Stock Portfolio:     ${spy_value:,.2f}\")"
   ]
  },
  {
   "cell_type": "code",
   "execution_count": 21,
   "metadata": {},
   "outputs": [
    {
     "name": "stdout",
     "output_type": "stream",
     "text": [
      "Total value of Stock/Bond portion of the Portfolio:     $64,184.90\n"
     ]
    }
   ],
   "source": [
    "# Calculate the total value of the stock and bond portion of the portfolio\n",
    "total_stocks_bonds = agg_value + spy_value\n",
    "\n",
    "# Print the current balance of the stock and bond portion of the portfolio\n",
    "print(f\"Total value of Stock/Bond portion of the Portfolio:     ${total_stocks_bonds:,.2f}\")"
   ]
  },
  {
   "cell_type": "code",
   "execution_count": 22,
   "metadata": {},
   "outputs": [
    {
     "name": "stdout",
     "output_type": "stream",
     "text": [
      "Total value of the entire Portfolio (Stocks/Bonds & Crypto):     $111,740.28\n"
     ]
    }
   ],
   "source": [
    "# Calculate the total value of the member's entire savings portfolio\n",
    "# Add the value of the cryptocurrency walled to the value of the total stocks and bonds\n",
    "total_portfolio = total_crypto_wallet + total_stocks_bonds\n",
    "\n",
    "# Print current cryptocurrency wallet balance\n",
    "print(f\"Total value of the entire Portfolio (Stocks/Bonds & Crypto):     ${total_portfolio:,.2f}\")"
   ]
  },
  {
   "cell_type": "markdown",
   "metadata": {},
   "source": [
    "### Evaluate the Emergency Fund\n",
    "\n",
    "In this section, you’ll use the valuations for the cryptocurrency wallet and for the stock and bond portions of the portfolio to determine if the credit union member has enough savings to build an emergency fund into their financial plan. To do this, complete the following steps:\n",
    "\n",
    "1. Create a Python list named `savings_data` that has two elements. The first element contains the total value of the cryptocurrency wallet. The second element contains the total value of the stock and bond portions of the portfolio.\n",
    "\n",
    "2. Use the `savings_data` list to create a Pandas DataFrame named `savings_df`, and then display this DataFrame. The function to create the DataFrame should take the following three parameters:\n",
    "\n",
    "    - `savings_data`: Use the list that you just created.\n",
    "\n",
    "    - `columns`: Set this parameter equal to a Python list with a single value called `amount`.\n",
    "\n",
    "    - `index`: Set this parameter equal to a Python list with the values of `crypto` and `stock/bond`.\n",
    "\n",
    "3. Use the `savings_df` DataFrame to plot a pie chart that visualizes the composition of the member’s portfolio. The y-axis of the pie chart uses `amount`. Be sure to add a title.\n",
    "\n",
    "4. Using Python, determine if the current portfolio has enough to create an emergency fund as part of the member’s financial plan. Ideally, an emergency fund should equal to three times the member’s monthly income. To do this, implement the following steps:\n",
    "\n",
    "    1. Create a variable named `emergency_fund_value`, and set it equal to three times the value of the member’s `monthly_income` of $12000. (You set this earlier in Part 1).\n",
    "\n",
    "    2. Create a series of three if statements to determine if the member’s total portfolio is large enough to fund the emergency portfolio:\n",
    "\n",
    "        1. If the total portfolio value is greater than the emergency fund value, display a message congratulating the member for having enough money in this fund.\n",
    "\n",
    "        2. Else if the total portfolio value is equal to the emergency fund value, display a message congratulating the member on reaching this important financial goal.\n",
    "\n",
    "        3. Else the total portfolio is less than the emergency fund value, so display a message showing how many dollars away the member is from reaching the goal. (Subtract the total portfolio value from the emergency fund value.)\n"
   ]
  },
  {
   "cell_type": "markdown",
   "metadata": {},
   "source": [
    "#### Step 1: Create a Python list named `savings_data` that has two elements. The first element contains the total value of the cryptocurrency wallet. The second element contains the total value of the stock and bond portions of the portfolio."
   ]
  },
  {
   "cell_type": "code",
   "execution_count": 23,
   "metadata": {},
   "outputs": [
    {
     "data": {
      "text/plain": [
       "['Crypto', 'Stock/Bond']"
      ]
     },
     "execution_count": 23,
     "metadata": {},
     "output_type": "execute_result"
    }
   ],
   "source": [
    "# Consolidate financial assets data into a Python list\n",
    "savings_data = [\"Crypto\", \"Stock/Bond\"] \n",
    "\n",
    "# Review the Python list savings_data\n",
    "savings_data  "
   ]
  },
  {
   "cell_type": "markdown",
   "metadata": {},
   "source": [
    "#### Step 2: Use the `savings_data` list to create a Pandas DataFrame named `savings_df`, and then display this DataFrame. The function to create the DataFrame should take the following three parameters:\n",
    "\n",
    "- `savings_data`: Use the list that you just created.\n",
    "\n",
    "- `columns`: Set this parameter equal to a Python list with a single value called `amount`.\n",
    "\n",
    "- `index`: Set this parameter equal to a Python list with the values of `crypto` and `stock/bond`.\n"
   ]
  },
  {
   "cell_type": "code",
   "execution_count": 24,
   "metadata": {},
   "outputs": [
    {
     "data": {
      "text/html": [
       "<div>\n",
       "<style scoped>\n",
       "    .dataframe tbody tr th:only-of-type {\n",
       "        vertical-align: middle;\n",
       "    }\n",
       "\n",
       "    .dataframe tbody tr th {\n",
       "        vertical-align: top;\n",
       "    }\n",
       "\n",
       "    .dataframe thead th {\n",
       "        text-align: right;\n",
       "    }\n",
       "</style>\n",
       "<table border=\"1\" class=\"dataframe\">\n",
       "  <thead>\n",
       "    <tr style=\"text-align: right;\">\n",
       "      <th></th>\n",
       "      <th>Amount</th>\n",
       "    </tr>\n",
       "  </thead>\n",
       "  <tbody>\n",
       "    <tr>\n",
       "      <th>Crypto</th>\n",
       "      <td>47555.384</td>\n",
       "    </tr>\n",
       "    <tr>\n",
       "      <th>Stock/Bond</th>\n",
       "      <td>64184.900</td>\n",
       "    </tr>\n",
       "  </tbody>\n",
       "</table>\n",
       "</div>"
      ],
      "text/plain": [
       "               Amount\n",
       "Crypto      47555.384\n",
       "Stock/Bond  64184.900"
      ]
     },
     "execution_count": 24,
     "metadata": {},
     "output_type": "execute_result"
    }
   ],
   "source": [
    "# Create a Pandas DataFrame called savings_df \n",
    "savings_df = pd.DataFrame(\n",
    "    {'Amount':[total_crypto_wallet, total_stocks_bonds]},\n",
    "    index=savings_data\n",
    ")\n",
    "# Display the savings_df DataFrame\n",
    "savings_df"
   ]
  },
  {
   "cell_type": "markdown",
   "metadata": {},
   "source": [
    "#### Step 3: Use the `savings_df` DataFrame to plot a pie chart that visualizes the composition of the member’s portfolio. The y-axis of the pie chart uses `amount`. Be sure to add a title."
   ]
  },
  {
   "cell_type": "code",
   "execution_count": 25,
   "metadata": {},
   "outputs": [
    {
     "data": {
      "text/plain": [
       "<AxesSubplot:title={'center':'Crypto v. Stock/Bond Holdings'}, ylabel='Amount'>"
      ]
     },
     "execution_count": 25,
     "metadata": {},
     "output_type": "execute_result"
    },
    {
     "data": {
      "image/png": "[encoded data removed]",
      "text/plain": [
       "<Figure size 432x288 with 1 Axes>"
      ]
     },
     "metadata": {},
     "output_type": "display_data"
    }
   ],
   "source": [
    "# Plot the total value of the member's portfolio (crypto and stock/bond) in a pie chart\n",
    "savings_df.plot.pie(y='Amount', title='Crypto v. Stock/Bond Holdings')"
   ]
  },
  {
   "cell_type": "markdown",
   "metadata": {},
   "source": [
    "#### Step 4: Using Python, determine if the current portfolio has enough to create an emergency fund as part of the member’s financial plan. Ideally, an emergency fund should equal to three times the member’s monthly income. To do this, implement the following steps:\n",
    "\n",
    "Step 1. Create a variable named `emergency_fund_value`, and set it equal to three times the value of the member’s `monthly_income` of 12000. (You set this earlier in Part 1).\n",
    "\n",
    "Step 2. Create a series of three if statements to determine if the member’s total portfolio is large enough to fund the emergency portfolio:\n",
    "\n",
    "* If the total portfolio value is greater than the emergency fund value, display a message congratulating the member for having enough money in this fund.\n",
    "\n",
    "* Else if the total portfolio value is equal to the emergency fund value, display a message congratulating the member on reaching this important financial goal.\n",
    "\n",
    "* Else the total portfolio is less than the emergency fund value, so display a message showing how many dollars away the member is from reaching the goal. (Subtract the total portfolio value from the emergency fund value.)\n"
   ]
  },
  {
   "cell_type": "markdown",
   "metadata": {},
   "source": [
    "##### Step 4-1: Create a variable named `emergency_fund_value`, and set it equal to three times the value of the member’s `monthly_income` of 12000. (You set this earlier in Part 1)."
   ]
  },
  {
   "cell_type": "code",
   "execution_count": 26,
   "metadata": {},
   "outputs": [
    {
     "data": {
      "text/plain": [
       "36000"
      ]
     },
     "execution_count": 26,
     "metadata": {},
     "output_type": "execute_result"
    }
   ],
   "source": [
    "reserve_months = 3\n",
    "\n",
    "# Create a variable named emergency_fund_value\n",
    "emergency_fund_value = monthly_income * reserve_months\n",
    "\n",
    "emergency_fund_value"
   ]
  },
  {
   "cell_type": "markdown",
   "metadata": {},
   "source": [
    "##### Step 4-2: Create a series of three if statements to determine if the member’s total portfolio is large enough to fund the emergency portfolio:\n",
    "\n",
    "* If the total portfolio value is greater than the emergency fund value, display a message congratulating the member for having enough money in this fund.\n",
    "\n",
    "* Else if the total portfolio value is equal to the emergency fund value, display a message congratulating the member on reaching this important financial goal.\n",
    "\n",
    "* Else the total portfolio is less than the emergency fund value, so display a message showing how many dollars away the member is from reaching the goal. (Subtract the total portfolio value from the emergency fund value.)"
   ]
  },
  {
   "cell_type": "code",
   "execution_count": 27,
   "metadata": {},
   "outputs": [
    {
     "name": "stdout",
     "output_type": "stream",
     "text": [
      "We have a winner!!! You've reached your goal of a 3 month reserve, plus an additional 6.31 months.\n"
     ]
    }
   ],
   "source": [
    "# Evaluate the possibility of creating an emergency fund with 3 conditions:\n",
    "if total_portfolio > emergency_fund_value:\n",
    "    print(f\"We have a winner!!! You've reached your goal of a {reserve_months} month reserve, plus an additional {((total_portfolio / monthly_income) - reserve_months):,.2f} months.\")\n",
    "if total_portfolio == emergency_fund_value: \n",
    "    print(f\"Nicely Done!!! You've managed to save enough for up to a {reserve_months} month reserve.\")\n",
    "if total_portfolio < emergency_fund_value:\n",
    "    print(f\"Almost there!!! You're only ${(emergency_fund_value - total_portfolio):,.2f} away from reaching your goal of having {reserve_months} months' expenses for your emergency fund.\")"
   ]
  },
  {
   "cell_type": "markdown",
   "metadata": {},
   "source": [
    "## Part 2: Create a Financial Planner for Retirement"
   ]
  },
  {
   "cell_type": "markdown",
   "metadata": {},
   "source": [
    "### Create the Monte Carlo Simulation\n",
    "\n",
    "In this section, you’ll use the MCForecastTools library to create a Monte Carlo simulation for the member’s savings portfolio. To do this, complete the following steps:\n",
    "\n",
    "1. Make an API call via the Alpaca SDK to get 10 years of historical closing prices for a traditional 60/40 portfolio split: 60% stocks (SPY) and 40% bonds (AGG).\n",
    "\n",
    "2. Run a Monte Carlo simulation of 500 samples and 30 years for the 60/40 portfolio, and then plot the results.The following image shows the overlay line plot resulting from a simulation with these characteristics. However, because a random number generator is used to run each live Monte Carlo simulation, your image will differ slightly from this exact image:\n",
    "\n",
    "![A screenshot depicts the resulting plot.](Images/5-4-monte-carlo-line-plot.png)\n",
    "\n",
    "3. Plot the probability distribution of the Monte Carlo simulation. Plot the probability distribution of the Monte Carlo simulation. The following image shows the histogram plot resulting from a simulation with these characteristics. However, because a random number generator is used to run each live Monte Carlo simulation, your image will differ slightly from this exact image:\n",
    "\n",
    "![A screenshot depicts the histogram plot.](Images/5-4-monte-carlo-histogram.png)\n",
    "\n",
    "4. Generate the summary statistics for the Monte Carlo simulation.\n",
    "\n"
   ]
  },
  {
   "cell_type": "markdown",
   "metadata": {},
   "source": [
    "#### Step 1: Make an API call via the Alpaca SDK to get 10 years of historical closing prices for a traditional 60/40 portfolio split: 60% stocks (SPY) and 40% bonds (AGG)."
   ]
  },
  {
   "cell_type": "code",
   "execution_count": 28,
   "metadata": {},
   "outputs": [],
   "source": [
    "# Set start and end dates of 10 years back from your current date\n",
    "# Alternatively, you can use an end date of 2020-08-07 and work 10 years back from that date \n",
    "start_date = pd.Timestamp(\"2011-01-29\", tz=\"America/New_York\").isoformat()\n",
    "end_date = pd.Timestamp(\"2021-01-29\", tz=\"America/New_York\").isoformat()"
   ]
  },
  {
   "cell_type": "code",
   "execution_count": 32,
   "metadata": {},
   "outputs": [
    {
     "data": {
      "text/html": [
       "<div>\n",
       "<style scoped>\n",
       "    .dataframe tbody tr th:only-of-type {\n",
       "        vertical-align: middle;\n",
       "    }\n",
       "\n",
       "    .dataframe tbody tr th {\n",
       "        vertical-align: top;\n",
       "    }\n",
       "\n",
       "    .dataframe thead tr th {\n",
       "        text-align: left;\n",
       "    }\n",
       "\n",
       "    .dataframe thead tr:last-of-type th {\n",
       "        text-align: right;\n",
       "    }\n",
       "</style>\n",
       "<table border=\"1\" class=\"dataframe\">\n",
       "  <thead>\n",
       "    <tr>\n",
       "      <th></th>\n",
       "      <th colspan=\"5\" halign=\"left\">AGG</th>\n",
       "      <th colspan=\"5\" halign=\"left\">SPY</th>\n",
       "    </tr>\n",
       "    <tr>\n",
       "      <th></th>\n",
       "      <th>open</th>\n",
       "      <th>high</th>\n",
       "      <th>low</th>\n",
       "      <th>close</th>\n",
       "      <th>volume</th>\n",
       "      <th>open</th>\n",
       "      <th>high</th>\n",
       "      <th>low</th>\n",
       "      <th>close</th>\n",
       "      <th>volume</th>\n",
       "    </tr>\n",
       "    <tr>\n",
       "      <th>time</th>\n",
       "      <th></th>\n",
       "      <th></th>\n",
       "      <th></th>\n",
       "      <th></th>\n",
       "      <th></th>\n",
       "      <th></th>\n",
       "      <th></th>\n",
       "      <th></th>\n",
       "      <th></th>\n",
       "      <th></th>\n",
       "    </tr>\n",
       "  </thead>\n",
       "  <tbody>\n",
       "    <tr>\n",
       "      <th>2011-01-31 00:00:00-05:00</th>\n",
       "      <td>105.85</td>\n",
       "      <td>105.940</td>\n",
       "      <td>105.59</td>\n",
       "      <td>105.67</td>\n",
       "      <td>1514824</td>\n",
       "      <td>128.07</td>\n",
       "      <td>128.78</td>\n",
       "      <td>127.7500</td>\n",
       "      <td>128.67</td>\n",
       "      <td>125255715</td>\n",
       "    </tr>\n",
       "    <tr>\n",
       "      <th>2011-02-01 00:00:00-05:00</th>\n",
       "      <td>105.26</td>\n",
       "      <td>105.260</td>\n",
       "      <td>105.03</td>\n",
       "      <td>105.12</td>\n",
       "      <td>629903</td>\n",
       "      <td>129.46</td>\n",
       "      <td>130.97</td>\n",
       "      <td>129.3801</td>\n",
       "      <td>130.75</td>\n",
       "      <td>134943648</td>\n",
       "    </tr>\n",
       "    <tr>\n",
       "      <th>2011-02-02 00:00:00-05:00</th>\n",
       "      <td>105.15</td>\n",
       "      <td>105.230</td>\n",
       "      <td>104.88</td>\n",
       "      <td>105.00</td>\n",
       "      <td>473272</td>\n",
       "      <td>130.40</td>\n",
       "      <td>130.84</td>\n",
       "      <td>130.3300</td>\n",
       "      <td>130.47</td>\n",
       "      <td>97820942</td>\n",
       "    </tr>\n",
       "    <tr>\n",
       "      <th>2011-02-03 00:00:00-05:00</th>\n",
       "      <td>104.79</td>\n",
       "      <td>104.871</td>\n",
       "      <td>104.61</td>\n",
       "      <td>104.62</td>\n",
       "      <td>838703</td>\n",
       "      <td>130.26</td>\n",
       "      <td>130.98</td>\n",
       "      <td>129.5700</td>\n",
       "      <td>130.78</td>\n",
       "      <td>122274669</td>\n",
       "    </tr>\n",
       "    <tr>\n",
       "      <th>2011-02-04 00:00:00-05:00</th>\n",
       "      <td>104.51</td>\n",
       "      <td>104.630</td>\n",
       "      <td>104.20</td>\n",
       "      <td>104.25</td>\n",
       "      <td>1090269</td>\n",
       "      <td>130.83</td>\n",
       "      <td>131.20</td>\n",
       "      <td>130.2300</td>\n",
       "      <td>131.15</td>\n",
       "      <td>103598208</td>\n",
       "    </tr>\n",
       "  </tbody>\n",
       "</table>\n",
       "</div>"
      ],
      "text/plain": [
       "                              AGG                                       SPY  \\\n",
       "                             open     high     low   close   volume    open   \n",
       "time                                                                          \n",
       "2011-01-31 00:00:00-05:00  105.85  105.940  105.59  105.67  1514824  128.07   \n",
       "2011-02-01 00:00:00-05:00  105.26  105.260  105.03  105.12   629903  129.46   \n",
       "2011-02-02 00:00:00-05:00  105.15  105.230  104.88  105.00   473272  130.40   \n",
       "2011-02-03 00:00:00-05:00  104.79  104.871  104.61  104.62   838703  130.26   \n",
       "2011-02-04 00:00:00-05:00  104.51  104.630  104.20  104.25  1090269  130.83   \n",
       "\n",
       "                                                                \n",
       "                             high       low   close     volume  \n",
       "time                                                            \n",
       "2011-01-31 00:00:00-05:00  128.78  127.7500  128.67  125255715  \n",
       "2011-02-01 00:00:00-05:00  130.97  129.3801  130.75  134943648  \n",
       "2011-02-02 00:00:00-05:00  130.84  130.3300  130.47   97820942  \n",
       "2011-02-03 00:00:00-05:00  130.98  129.5700  130.78  122274669  \n",
       "2011-02-04 00:00:00-05:00  131.20  130.2300  131.15  103598208  "
      ]
     },
     "metadata": {},
     "output_type": "display_data"
    },
    {
     "data": {
      "text/html": [
       "<div>\n",
       "<style scoped>\n",
       "    .dataframe tbody tr th:only-of-type {\n",
       "        vertical-align: middle;\n",
       "    }\n",
       "\n",
       "    .dataframe tbody tr th {\n",
       "        vertical-align: top;\n",
       "    }\n",
       "\n",
       "    .dataframe thead tr th {\n",
       "        text-align: left;\n",
       "    }\n",
       "\n",
       "    .dataframe thead tr:last-of-type th {\n",
       "        text-align: right;\n",
       "    }\n",
       "</style>\n",
       "<table border=\"1\" class=\"dataframe\">\n",
       "  <thead>\n",
       "    <tr>\n",
       "      <th></th>\n",
       "      <th colspan=\"5\" halign=\"left\">AGG</th>\n",
       "      <th colspan=\"5\" halign=\"left\">SPY</th>\n",
       "    </tr>\n",
       "    <tr>\n",
       "      <th></th>\n",
       "      <th>open</th>\n",
       "      <th>high</th>\n",
       "      <th>low</th>\n",
       "      <th>close</th>\n",
       "      <th>volume</th>\n",
       "      <th>open</th>\n",
       "      <th>high</th>\n",
       "      <th>low</th>\n",
       "      <th>close</th>\n",
       "      <th>volume</th>\n",
       "    </tr>\n",
       "    <tr>\n",
       "      <th>time</th>\n",
       "      <th></th>\n",
       "      <th></th>\n",
       "      <th></th>\n",
       "      <th></th>\n",
       "      <th></th>\n",
       "      <th></th>\n",
       "      <th></th>\n",
       "      <th></th>\n",
       "      <th></th>\n",
       "      <th></th>\n",
       "    </tr>\n",
       "  </thead>\n",
       "  <tbody>\n",
       "    <tr>\n",
       "      <th>2021-01-25 00:00:00-05:00</th>\n",
       "      <td>117.3900</td>\n",
       "      <td>117.560</td>\n",
       "      <td>117.3600</td>\n",
       "      <td>117.54</td>\n",
       "      <td>3977366</td>\n",
       "      <td>383.67</td>\n",
       "      <td>384.77</td>\n",
       "      <td>378.46</td>\n",
       "      <td>384.40</td>\n",
       "      <td>61090775</td>\n",
       "    </tr>\n",
       "    <tr>\n",
       "      <th>2021-01-26 00:00:00-05:00</th>\n",
       "      <td>117.4600</td>\n",
       "      <td>117.585</td>\n",
       "      <td>117.4255</td>\n",
       "      <td>117.51</td>\n",
       "      <td>3451493</td>\n",
       "      <td>385.41</td>\n",
       "      <td>385.85</td>\n",
       "      <td>383.54</td>\n",
       "      <td>383.83</td>\n",
       "      <td>36871235</td>\n",
       "    </tr>\n",
       "    <tr>\n",
       "      <th>2021-01-27 00:00:00-05:00</th>\n",
       "      <td>117.6100</td>\n",
       "      <td>117.670</td>\n",
       "      <td>117.0400</td>\n",
       "      <td>117.52</td>\n",
       "      <td>3509666</td>\n",
       "      <td>380.22</td>\n",
       "      <td>380.32</td>\n",
       "      <td>372.01</td>\n",
       "      <td>374.44</td>\n",
       "      <td>99246554</td>\n",
       "    </tr>\n",
       "    <tr>\n",
       "      <th>2021-01-28 00:00:00-05:00</th>\n",
       "      <td>117.4800</td>\n",
       "      <td>117.490</td>\n",
       "      <td>117.2900</td>\n",
       "      <td>117.43</td>\n",
       "      <td>4440895</td>\n",
       "      <td>376.36</td>\n",
       "      <td>381.93</td>\n",
       "      <td>375.89</td>\n",
       "      <td>377.60</td>\n",
       "      <td>75229306</td>\n",
       "    </tr>\n",
       "    <tr>\n",
       "      <th>2021-01-29 00:00:00-05:00</th>\n",
       "      <td>117.1563</td>\n",
       "      <td>117.400</td>\n",
       "      <td>116.5625</td>\n",
       "      <td>117.32</td>\n",
       "      <td>7119889</td>\n",
       "      <td>375.63</td>\n",
       "      <td>376.67</td>\n",
       "      <td>368.27</td>\n",
       "      <td>370.19</td>\n",
       "      <td>106397082</td>\n",
       "    </tr>\n",
       "  </tbody>\n",
       "</table>\n",
       "</div>"
      ],
      "text/plain": [
       "                                AGG                                      \\\n",
       "                               open     high       low   close   volume   \n",
       "time                                                                      \n",
       "2021-01-25 00:00:00-05:00  117.3900  117.560  117.3600  117.54  3977366   \n",
       "2021-01-26 00:00:00-05:00  117.4600  117.585  117.4255  117.51  3451493   \n",
       "2021-01-27 00:00:00-05:00  117.6100  117.670  117.0400  117.52  3509666   \n",
       "2021-01-28 00:00:00-05:00  117.4800  117.490  117.2900  117.43  4440895   \n",
       "2021-01-29 00:00:00-05:00  117.1563  117.400  116.5625  117.32  7119889   \n",
       "\n",
       "                              SPY                                     \n",
       "                             open    high     low   close     volume  \n",
       "time                                                                  \n",
       "2021-01-25 00:00:00-05:00  383.67  384.77  378.46  384.40   61090775  \n",
       "2021-01-26 00:00:00-05:00  385.41  385.85  383.54  383.83   36871235  \n",
       "2021-01-27 00:00:00-05:00  380.22  380.32  372.01  374.44   99246554  \n",
       "2021-01-28 00:00:00-05:00  376.36  381.93  375.89  377.60   75229306  \n",
       "2021-01-29 00:00:00-05:00  375.63  376.67  368.27  370.19  106397082  "
      ]
     },
     "execution_count": 32,
     "metadata": {},
     "output_type": "execute_result"
    }
   ],
   "source": [
    "# Use the Alpaca get_barset function to make the API call to get the 10 years worth of pricing data\n",
    "# The tickers and timeframe parameters should have been set in Part 1 of this activity \n",
    "# The start and end dates should be updated with the information set above\n",
    "# Remember to add the df property to the end of the call so the response is returned as a DataFrame\n",
    "prices_df = alpaca.get_barset(\n",
    "    tickers,\n",
    "    timeframe,\n",
    "    start=start_date,\n",
    "    end=end_date\n",
    ").df\n",
    "\n",
    "# Display both the first and last five rows of the DataFrame\n",
    "display(prices_df.head())\n",
    "prices_df.tail()"
   ]
  },
  {
   "cell_type": "markdown",
   "metadata": {},
   "source": [
    "#### Step 2: Run a Monte Carlo simulation of 500 samples and 30 years for the 60/40 portfolio, and then plot the results."
   ]
  },
  {
   "cell_type": "code",
   "execution_count": 33,
   "metadata": {},
   "outputs": [
    {
     "data": {
      "text/html": [
       "<div>\n",
       "<style scoped>\n",
       "    .dataframe tbody tr th:only-of-type {\n",
       "        vertical-align: middle;\n",
       "    }\n",
       "\n",
       "    .dataframe tbody tr th {\n",
       "        vertical-align: top;\n",
       "    }\n",
       "\n",
       "    .dataframe thead tr th {\n",
       "        text-align: left;\n",
       "    }\n",
       "\n",
       "    .dataframe thead tr:last-of-type th {\n",
       "        text-align: right;\n",
       "    }\n",
       "</style>\n",
       "<table border=\"1\" class=\"dataframe\">\n",
       "  <thead>\n",
       "    <tr>\n",
       "      <th></th>\n",
       "      <th colspan=\"6\" halign=\"left\">AGG</th>\n",
       "      <th colspan=\"6\" halign=\"left\">SPY</th>\n",
       "    </tr>\n",
       "    <tr>\n",
       "      <th></th>\n",
       "      <th>open</th>\n",
       "      <th>high</th>\n",
       "      <th>low</th>\n",
       "      <th>close</th>\n",
       "      <th>volume</th>\n",
       "      <th>daily_return</th>\n",
       "      <th>open</th>\n",
       "      <th>high</th>\n",
       "      <th>low</th>\n",
       "      <th>close</th>\n",
       "      <th>volume</th>\n",
       "      <th>daily_return</th>\n",
       "    </tr>\n",
       "    <tr>\n",
       "      <th>time</th>\n",
       "      <th></th>\n",
       "      <th></th>\n",
       "      <th></th>\n",
       "      <th></th>\n",
       "      <th></th>\n",
       "      <th></th>\n",
       "      <th></th>\n",
       "      <th></th>\n",
       "      <th></th>\n",
       "      <th></th>\n",
       "      <th></th>\n",
       "      <th></th>\n",
       "    </tr>\n",
       "  </thead>\n",
       "  <tbody>\n",
       "    <tr>\n",
       "      <th>2011-01-31 00:00:00-05:00</th>\n",
       "      <td>105.85</td>\n",
       "      <td>105.940</td>\n",
       "      <td>105.59</td>\n",
       "      <td>105.67</td>\n",
       "      <td>1514824</td>\n",
       "      <td>NaN</td>\n",
       "      <td>128.07</td>\n",
       "      <td>128.78</td>\n",
       "      <td>127.7500</td>\n",
       "      <td>128.67</td>\n",
       "      <td>125255715</td>\n",
       "      <td>NaN</td>\n",
       "    </tr>\n",
       "    <tr>\n",
       "      <th>2011-02-01 00:00:00-05:00</th>\n",
       "      <td>105.26</td>\n",
       "      <td>105.260</td>\n",
       "      <td>105.03</td>\n",
       "      <td>105.12</td>\n",
       "      <td>629903</td>\n",
       "      <td>-0.005205</td>\n",
       "      <td>129.46</td>\n",
       "      <td>130.97</td>\n",
       "      <td>129.3801</td>\n",
       "      <td>130.75</td>\n",
       "      <td>134943648</td>\n",
       "      <td>0.016165</td>\n",
       "    </tr>\n",
       "    <tr>\n",
       "      <th>2011-02-02 00:00:00-05:00</th>\n",
       "      <td>105.15</td>\n",
       "      <td>105.230</td>\n",
       "      <td>104.88</td>\n",
       "      <td>105.00</td>\n",
       "      <td>473272</td>\n",
       "      <td>-0.001142</td>\n",
       "      <td>130.40</td>\n",
       "      <td>130.84</td>\n",
       "      <td>130.3300</td>\n",
       "      <td>130.47</td>\n",
       "      <td>97820942</td>\n",
       "      <td>-0.002141</td>\n",
       "    </tr>\n",
       "    <tr>\n",
       "      <th>2011-02-03 00:00:00-05:00</th>\n",
       "      <td>104.79</td>\n",
       "      <td>104.871</td>\n",
       "      <td>104.61</td>\n",
       "      <td>104.62</td>\n",
       "      <td>838703</td>\n",
       "      <td>-0.003619</td>\n",
       "      <td>130.26</td>\n",
       "      <td>130.98</td>\n",
       "      <td>129.5700</td>\n",
       "      <td>130.78</td>\n",
       "      <td>122274669</td>\n",
       "      <td>0.002376</td>\n",
       "    </tr>\n",
       "    <tr>\n",
       "      <th>2011-02-04 00:00:00-05:00</th>\n",
       "      <td>104.51</td>\n",
       "      <td>104.630</td>\n",
       "      <td>104.20</td>\n",
       "      <td>104.25</td>\n",
       "      <td>1090269</td>\n",
       "      <td>-0.003537</td>\n",
       "      <td>130.83</td>\n",
       "      <td>131.20</td>\n",
       "      <td>130.2300</td>\n",
       "      <td>131.15</td>\n",
       "      <td>103598208</td>\n",
       "      <td>0.002829</td>\n",
       "    </tr>\n",
       "  </tbody>\n",
       "</table>\n",
       "</div>"
      ],
      "text/plain": [
       "                              AGG                                    \\\n",
       "                             open     high     low   close   volume   \n",
       "time                                                                  \n",
       "2011-01-31 00:00:00-05:00  105.85  105.940  105.59  105.67  1514824   \n",
       "2011-02-01 00:00:00-05:00  105.26  105.260  105.03  105.12   629903   \n",
       "2011-02-02 00:00:00-05:00  105.15  105.230  104.88  105.00   473272   \n",
       "2011-02-03 00:00:00-05:00  104.79  104.871  104.61  104.62   838703   \n",
       "2011-02-04 00:00:00-05:00  104.51  104.630  104.20  104.25  1090269   \n",
       "\n",
       "                                           SPY                            \\\n",
       "                          daily_return    open    high       low   close   \n",
       "time                                                                       \n",
       "2011-01-31 00:00:00-05:00          NaN  128.07  128.78  127.7500  128.67   \n",
       "2011-02-01 00:00:00-05:00    -0.005205  129.46  130.97  129.3801  130.75   \n",
       "2011-02-02 00:00:00-05:00    -0.001142  130.40  130.84  130.3300  130.47   \n",
       "2011-02-03 00:00:00-05:00    -0.003619  130.26  130.98  129.5700  130.78   \n",
       "2011-02-04 00:00:00-05:00    -0.003537  130.83  131.20  130.2300  131.15   \n",
       "\n",
       "                                                   \n",
       "                              volume daily_return  \n",
       "time                                               \n",
       "2011-01-31 00:00:00-05:00  125255715          NaN  \n",
       "2011-02-01 00:00:00-05:00  134943648     0.016165  \n",
       "2011-02-02 00:00:00-05:00   97820942    -0.002141  \n",
       "2011-02-03 00:00:00-05:00  122274669     0.002376  \n",
       "2011-02-04 00:00:00-05:00  103598208     0.002829  "
      ]
     },
     "execution_count": 33,
     "metadata": {},
     "output_type": "execute_result"
    }
   ],
   "source": [
    "# Configure the Monte Carlo simulation to forecast 30 years cumulative returns\n",
    "# The weights should be split 40% to AGG and 60% to SPY.\n",
    "# Run 500 samples.\n",
    "MC_trad_weight = MCSimulation(\n",
    "    portfolio_data = prices_df,\n",
    "    weights = [.60,.40],\n",
    "    num_simulation = 500,\n",
    "    num_trading_days = 252*30\n",
    ")\n",
    "\n",
    "# Review the simulation input data\n",
    "MC_trad_weight.portfolio_data.head()"
   ]
  },
  {
   "cell_type": "code",
   "execution_count": 34,
   "metadata": {},
   "outputs": [
    {
     "name": "stdout",
     "output_type": "stream",
     "text": [
      "Running Monte Carlo simulation number 0.\n",
      "Running Monte Carlo simulation number 10.\n",
      "Running Monte Carlo simulation number 20.\n",
      "Running Monte Carlo simulation number 30.\n",
      "Running Monte Carlo simulation number 40.\n",
      "Running Monte Carlo simulation number 50.\n",
      "Running Monte Carlo simulation number 60.\n",
      "Running Monte Carlo simulation number 70.\n",
      "Running Monte Carlo simulation number 80.\n",
      "Running Monte Carlo simulation number 90.\n",
      "Running Monte Carlo simulation number 100.\n",
      "Running Monte Carlo simulation number 110.\n",
      "Running Monte Carlo simulation number 120.\n",
      "Running Monte Carlo simulation number 130.\n",
      "Running Monte Carlo simulation number 140.\n",
      "Running Monte Carlo simulation number 150.\n",
      "Running Monte Carlo simulation number 160.\n",
      "Running Monte Carlo simulation number 170.\n",
      "Running Monte Carlo simulation number 180.\n",
      "Running Monte Carlo simulation number 190.\n",
      "Running Monte Carlo simulation number 200.\n",
      "Running Monte Carlo simulation number 210.\n",
      "Running Monte Carlo simulation number 220.\n",
      "Running Monte Carlo simulation number 230.\n",
      "Running Monte Carlo simulation number 240.\n",
      "Running Monte Carlo simulation number 250.\n",
      "Running Monte Carlo simulation number 260.\n",
      "Running Monte Carlo simulation number 270.\n",
      "Running Monte Carlo simulation number 280.\n",
      "Running Monte Carlo simulation number 290.\n",
      "Running Monte Carlo simulation number 300.\n",
      "Running Monte Carlo simulation number 310.\n",
      "Running Monte Carlo simulation number 320.\n",
      "Running Monte Carlo simulation number 330.\n",
      "Running Monte Carlo simulation number 340.\n",
      "Running Monte Carlo simulation number 350.\n",
      "Running Monte Carlo simulation number 360.\n",
      "Running Monte Carlo simulation number 370.\n",
      "Running Monte Carlo simulation number 380.\n",
      "Running Monte Carlo simulation number 390.\n",
      "Running Monte Carlo simulation number 400.\n",
      "Running Monte Carlo simulation number 410.\n",
      "Running Monte Carlo simulation number 420.\n",
      "Running Monte Carlo simulation number 430.\n",
      "Running Monte Carlo simulation number 440.\n",
      "Running Monte Carlo simulation number 450.\n",
      "Running Monte Carlo simulation number 460.\n",
      "Running Monte Carlo simulation number 470.\n",
      "Running Monte Carlo simulation number 480.\n",
      "Running Monte Carlo simulation number 490.\n"
     ]
    },
    {
     "data": {
      "text/html": [
       "<div>\n",
       "<style scoped>\n",
       "    .dataframe tbody tr th:only-of-type {\n",
       "        vertical-align: middle;\n",
       "    }\n",
       "\n",
       "    .dataframe tbody tr th {\n",
       "        vertical-align: top;\n",
       "    }\n",
       "\n",
       "    .dataframe thead th {\n",
       "        text-align: right;\n",
       "    }\n",
       "</style>\n",
       "<table border=\"1\" class=\"dataframe\">\n",
       "  <thead>\n",
       "    <tr style=\"text-align: right;\">\n",
       "      <th></th>\n",
       "      <th>0</th>\n",
       "      <th>1</th>\n",
       "      <th>2</th>\n",
       "      <th>3</th>\n",
       "      <th>4</th>\n",
       "      <th>5</th>\n",
       "      <th>6</th>\n",
       "      <th>7</th>\n",
       "      <th>8</th>\n",
       "      <th>9</th>\n",
       "      <th>...</th>\n",
       "      <th>490</th>\n",
       "      <th>491</th>\n",
       "      <th>492</th>\n",
       "      <th>493</th>\n",
       "      <th>494</th>\n",
       "      <th>495</th>\n",
       "      <th>496</th>\n",
       "      <th>497</th>\n",
       "      <th>498</th>\n",
       "      <th>499</th>\n",
       "    </tr>\n",
       "  </thead>\n",
       "  <tbody>\n",
       "    <tr>\n",
       "      <th>0</th>\n",
       "      <td>1.000000</td>\n",
       "      <td>1.000000</td>\n",
       "      <td>1.000000</td>\n",
       "      <td>1.000000</td>\n",
       "      <td>1.000000</td>\n",
       "      <td>1.000000</td>\n",
       "      <td>1.000000</td>\n",
       "      <td>1.000000</td>\n",
       "      <td>1.000000</td>\n",
       "      <td>1.000000</td>\n",
       "      <td>...</td>\n",
       "      <td>1.000000</td>\n",
       "      <td>1.000000</td>\n",
       "      <td>1.000000</td>\n",
       "      <td>1.000000</td>\n",
       "      <td>1.000000</td>\n",
       "      <td>1.000000</td>\n",
       "      <td>1.000000</td>\n",
       "      <td>1.000000</td>\n",
       "      <td>1.000000</td>\n",
       "      <td>1.000000</td>\n",
       "    </tr>\n",
       "    <tr>\n",
       "      <th>1</th>\n",
       "      <td>1.002602</td>\n",
       "      <td>1.003750</td>\n",
       "      <td>0.997539</td>\n",
       "      <td>1.000762</td>\n",
       "      <td>1.007415</td>\n",
       "      <td>1.005826</td>\n",
       "      <td>1.002964</td>\n",
       "      <td>0.997714</td>\n",
       "      <td>0.999034</td>\n",
       "      <td>0.997207</td>\n",
       "      <td>...</td>\n",
       "      <td>0.997014</td>\n",
       "      <td>0.997662</td>\n",
       "      <td>1.002361</td>\n",
       "      <td>1.011884</td>\n",
       "      <td>0.995433</td>\n",
       "      <td>1.001551</td>\n",
       "      <td>0.989621</td>\n",
       "      <td>1.005063</td>\n",
       "      <td>1.002325</td>\n",
       "      <td>0.995436</td>\n",
       "    </tr>\n",
       "    <tr>\n",
       "      <th>2</th>\n",
       "      <td>0.995774</td>\n",
       "      <td>1.001690</td>\n",
       "      <td>1.002561</td>\n",
       "      <td>0.999077</td>\n",
       "      <td>0.999542</td>\n",
       "      <td>1.000517</td>\n",
       "      <td>0.999855</td>\n",
       "      <td>1.003593</td>\n",
       "      <td>1.005772</td>\n",
       "      <td>0.990688</td>\n",
       "      <td>...</td>\n",
       "      <td>0.997848</td>\n",
       "      <td>1.001330</td>\n",
       "      <td>1.007977</td>\n",
       "      <td>1.011532</td>\n",
       "      <td>0.997462</td>\n",
       "      <td>1.002899</td>\n",
       "      <td>0.990069</td>\n",
       "      <td>1.007675</td>\n",
       "      <td>0.996063</td>\n",
       "      <td>0.989170</td>\n",
       "    </tr>\n",
       "    <tr>\n",
       "      <th>3</th>\n",
       "      <td>0.995958</td>\n",
       "      <td>1.000756</td>\n",
       "      <td>1.002285</td>\n",
       "      <td>0.995157</td>\n",
       "      <td>0.998980</td>\n",
       "      <td>1.003467</td>\n",
       "      <td>0.996693</td>\n",
       "      <td>1.004735</td>\n",
       "      <td>1.000334</td>\n",
       "      <td>0.987778</td>\n",
       "      <td>...</td>\n",
       "      <td>1.001807</td>\n",
       "      <td>0.999167</td>\n",
       "      <td>1.009532</td>\n",
       "      <td>1.008328</td>\n",
       "      <td>0.996799</td>\n",
       "      <td>1.000172</td>\n",
       "      <td>0.987230</td>\n",
       "      <td>1.006547</td>\n",
       "      <td>0.998144</td>\n",
       "      <td>0.993142</td>\n",
       "    </tr>\n",
       "    <tr>\n",
       "      <th>4</th>\n",
       "      <td>0.991522</td>\n",
       "      <td>1.003903</td>\n",
       "      <td>1.013193</td>\n",
       "      <td>0.992462</td>\n",
       "      <td>0.999862</td>\n",
       "      <td>1.004997</td>\n",
       "      <td>0.997000</td>\n",
       "      <td>1.010226</td>\n",
       "      <td>0.999517</td>\n",
       "      <td>0.984665</td>\n",
       "      <td>...</td>\n",
       "      <td>1.001325</td>\n",
       "      <td>1.000758</td>\n",
       "      <td>1.011704</td>\n",
       "      <td>1.010305</td>\n",
       "      <td>0.997192</td>\n",
       "      <td>1.001109</td>\n",
       "      <td>0.992030</td>\n",
       "      <td>1.011297</td>\n",
       "      <td>0.996788</td>\n",
       "      <td>0.990499</td>\n",
       "    </tr>\n",
       "    <tr>\n",
       "      <th>...</th>\n",
       "      <td>...</td>\n",
       "      <td>...</td>\n",
       "      <td>...</td>\n",
       "      <td>...</td>\n",
       "      <td>...</td>\n",
       "      <td>...</td>\n",
       "      <td>...</td>\n",
       "      <td>...</td>\n",
       "      <td>...</td>\n",
       "      <td>...</td>\n",
       "      <td>...</td>\n",
       "      <td>...</td>\n",
       "      <td>...</td>\n",
       "      <td>...</td>\n",
       "      <td>...</td>\n",
       "      <td>...</td>\n",
       "      <td>...</td>\n",
       "      <td>...</td>\n",
       "      <td>...</td>\n",
       "      <td>...</td>\n",
       "      <td>...</td>\n",
       "    </tr>\n",
       "    <tr>\n",
       "      <th>7556</th>\n",
       "      <td>8.209440</td>\n",
       "      <td>3.291761</td>\n",
       "      <td>6.747086</td>\n",
       "      <td>15.130651</td>\n",
       "      <td>4.515629</td>\n",
       "      <td>6.511578</td>\n",
       "      <td>3.514785</td>\n",
       "      <td>4.910067</td>\n",
       "      <td>6.985795</td>\n",
       "      <td>3.955094</td>\n",
       "      <td>...</td>\n",
       "      <td>5.156032</td>\n",
       "      <td>3.428418</td>\n",
       "      <td>2.854797</td>\n",
       "      <td>3.872710</td>\n",
       "      <td>4.173481</td>\n",
       "      <td>3.889815</td>\n",
       "      <td>5.177725</td>\n",
       "      <td>4.526743</td>\n",
       "      <td>3.872770</td>\n",
       "      <td>4.337732</td>\n",
       "    </tr>\n",
       "    <tr>\n",
       "      <th>7557</th>\n",
       "      <td>8.243655</td>\n",
       "      <td>3.300467</td>\n",
       "      <td>6.751700</td>\n",
       "      <td>15.076409</td>\n",
       "      <td>4.552500</td>\n",
       "      <td>6.515723</td>\n",
       "      <td>3.512195</td>\n",
       "      <td>4.908192</td>\n",
       "      <td>7.022788</td>\n",
       "      <td>3.958544</td>\n",
       "      <td>...</td>\n",
       "      <td>5.206621</td>\n",
       "      <td>3.415411</td>\n",
       "      <td>2.860123</td>\n",
       "      <td>3.877571</td>\n",
       "      <td>4.203175</td>\n",
       "      <td>3.912558</td>\n",
       "      <td>5.170612</td>\n",
       "      <td>4.493246</td>\n",
       "      <td>3.877093</td>\n",
       "      <td>4.363363</td>\n",
       "    </tr>\n",
       "    <tr>\n",
       "      <th>7558</th>\n",
       "      <td>8.276080</td>\n",
       "      <td>3.313162</td>\n",
       "      <td>6.748015</td>\n",
       "      <td>15.017175</td>\n",
       "      <td>4.543963</td>\n",
       "      <td>6.484801</td>\n",
       "      <td>3.540506</td>\n",
       "      <td>4.876150</td>\n",
       "      <td>7.025696</td>\n",
       "      <td>3.933698</td>\n",
       "      <td>...</td>\n",
       "      <td>5.221255</td>\n",
       "      <td>3.417018</td>\n",
       "      <td>2.877083</td>\n",
       "      <td>3.884111</td>\n",
       "      <td>4.239596</td>\n",
       "      <td>3.905596</td>\n",
       "      <td>5.140235</td>\n",
       "      <td>4.501714</td>\n",
       "      <td>3.891440</td>\n",
       "      <td>4.375456</td>\n",
       "    </tr>\n",
       "    <tr>\n",
       "      <th>7559</th>\n",
       "      <td>8.332660</td>\n",
       "      <td>3.285382</td>\n",
       "      <td>6.726569</td>\n",
       "      <td>15.093950</td>\n",
       "      <td>4.545042</td>\n",
       "      <td>6.499543</td>\n",
       "      <td>3.576779</td>\n",
       "      <td>4.855788</td>\n",
       "      <td>7.027246</td>\n",
       "      <td>3.898474</td>\n",
       "      <td>...</td>\n",
       "      <td>5.239732</td>\n",
       "      <td>3.432632</td>\n",
       "      <td>2.901843</td>\n",
       "      <td>3.925108</td>\n",
       "      <td>4.247943</td>\n",
       "      <td>3.915079</td>\n",
       "      <td>5.137213</td>\n",
       "      <td>4.491043</td>\n",
       "      <td>3.910181</td>\n",
       "      <td>4.409391</td>\n",
       "    </tr>\n",
       "    <tr>\n",
       "      <th>7560</th>\n",
       "      <td>8.352829</td>\n",
       "      <td>3.293954</td>\n",
       "      <td>6.655407</td>\n",
       "      <td>15.038125</td>\n",
       "      <td>4.586317</td>\n",
       "      <td>6.534912</td>\n",
       "      <td>3.596902</td>\n",
       "      <td>4.888028</td>\n",
       "      <td>6.990732</td>\n",
       "      <td>3.917303</td>\n",
       "      <td>...</td>\n",
       "      <td>5.253101</td>\n",
       "      <td>3.413816</td>\n",
       "      <td>2.903512</td>\n",
       "      <td>3.942995</td>\n",
       "      <td>4.233771</td>\n",
       "      <td>3.919129</td>\n",
       "      <td>5.129639</td>\n",
       "      <td>4.519208</td>\n",
       "      <td>3.913746</td>\n",
       "      <td>4.417915</td>\n",
       "    </tr>\n",
       "  </tbody>\n",
       "</table>\n",
       "<p>7561 rows × 500 columns</p>\n",
       "</div>"
      ],
      "text/plain": [
       "           0         1         2          3         4         5         6    \\\n",
       "0     1.000000  1.000000  1.000000   1.000000  1.000000  1.000000  1.000000   \n",
       "1     1.002602  1.003750  0.997539   1.000762  1.007415  1.005826  1.002964   \n",
       "2     0.995774  1.001690  1.002561   0.999077  0.999542  1.000517  0.999855   \n",
       "3     0.995958  1.000756  1.002285   0.995157  0.998980  1.003467  0.996693   \n",
       "4     0.991522  1.003903  1.013193   0.992462  0.999862  1.004997  0.997000   \n",
       "...        ...       ...       ...        ...       ...       ...       ...   \n",
       "7556  8.209440  3.291761  6.747086  15.130651  4.515629  6.511578  3.514785   \n",
       "7557  8.243655  3.300467  6.751700  15.076409  4.552500  6.515723  3.512195   \n",
       "7558  8.276080  3.313162  6.748015  15.017175  4.543963  6.484801  3.540506   \n",
       "7559  8.332660  3.285382  6.726569  15.093950  4.545042  6.499543  3.576779   \n",
       "7560  8.352829  3.293954  6.655407  15.038125  4.586317  6.534912  3.596902   \n",
       "\n",
       "           7         8         9    ...       490       491       492  \\\n",
       "0     1.000000  1.000000  1.000000  ...  1.000000  1.000000  1.000000   \n",
       "1     0.997714  0.999034  0.997207  ...  0.997014  0.997662  1.002361   \n",
       "2     1.003593  1.005772  0.990688  ...  0.997848  1.001330  1.007977   \n",
       "3     1.004735  1.000334  0.987778  ...  1.001807  0.999167  1.009532   \n",
       "4     1.010226  0.999517  0.984665  ...  1.001325  1.000758  1.011704   \n",
       "...        ...       ...       ...  ...       ...       ...       ...   \n",
       "7556  4.910067  6.985795  3.955094  ...  5.156032  3.428418  2.854797   \n",
       "7557  4.908192  7.022788  3.958544  ...  5.206621  3.415411  2.860123   \n",
       "7558  4.876150  7.025696  3.933698  ...  5.221255  3.417018  2.877083   \n",
       "7559  4.855788  7.027246  3.898474  ...  5.239732  3.432632  2.901843   \n",
       "7560  4.888028  6.990732  3.917303  ...  5.253101  3.413816  2.903512   \n",
       "\n",
       "           493       494       495       496       497       498       499  \n",
       "0     1.000000  1.000000  1.000000  1.000000  1.000000  1.000000  1.000000  \n",
       "1     1.011884  0.995433  1.001551  0.989621  1.005063  1.002325  0.995436  \n",
       "2     1.011532  0.997462  1.002899  0.990069  1.007675  0.996063  0.989170  \n",
       "3     1.008328  0.996799  1.000172  0.987230  1.006547  0.998144  0.993142  \n",
       "4     1.010305  0.997192  1.001109  0.992030  1.011297  0.996788  0.990499  \n",
       "...        ...       ...       ...       ...       ...       ...       ...  \n",
       "7556  3.872710  4.173481  3.889815  5.177725  4.526743  3.872770  4.337732  \n",
       "7557  3.877571  4.203175  3.912558  5.170612  4.493246  3.877093  4.363363  \n",
       "7558  3.884111  4.239596  3.905596  5.140235  4.501714  3.891440  4.375456  \n",
       "7559  3.925108  4.247943  3.915079  5.137213  4.491043  3.910181  4.409391  \n",
       "7560  3.942995  4.233771  3.919129  5.129639  4.519208  3.913746  4.417915  \n",
       "\n",
       "[7561 rows x 500 columns]"
      ]
     },
     "execution_count": 34,
     "metadata": {},
     "output_type": "execute_result"
    }
   ],
   "source": [
    "# Run the Monte Carlo simulation to forecast 30 years cumulative returns\n",
    "MC_trad_weight.calc_cumulative_return()"
   ]
  },
  {
   "cell_type": "code",
   "execution_count": 35,
   "metadata": {},
   "outputs": [
    {
     "data": {
      "image/png": "[encoded data removed]",
      "text/plain": [
       "<Figure size 432x288 with 1 Axes>"
      ]
     },
     "metadata": {
      "needs_background": "light"
     },
     "output_type": "display_data"
    }
   ],
   "source": [
    "# Visualize the 30-year Monte Carlo simulation by creating an overlay line plot\n",
    "trad_weight_line_plot = MC_trad_weight.plot_simulation()\n",
    "\n",
    "# Save the plot for future use\n",
    "trad_weight_line_plot.get_figure().savefig(\"MC_trad_weight_line_plot.png\", bbox_inches=\"tight\")"
   ]
  },
  {
   "cell_type": "markdown",
   "metadata": {},
   "source": [
    "#### Step 3: Plot the probability distribution of the Monte Carlo simulation."
   ]
  },
  {
   "cell_type": "code",
   "execution_count": 36,
   "metadata": {},
   "outputs": [
    {
     "data": {
      "image/png": "[encoded data removed]",
      "text/plain": [
       "<Figure size 432x288 with 1 Axes>"
      ]
     },
     "metadata": {
      "needs_background": "light"
     },
     "output_type": "display_data"
    }
   ],
   "source": [
    "# Visualize the probability distribution of the 30-year Monte Carlo simulation \n",
    "# by plotting a histogram\n",
    "trad_weight_distribution_plot = MC_trad_weight.plot_distribution()\n",
    "\n",
    "# Save the plot for future use\n",
    "trad_weight_distribution_plot.get_figure().savefig('MC_trad_weight_dist_plot.png',bbox_inches='tight')\n"
   ]
  },
  {
   "cell_type": "markdown",
   "metadata": {},
   "source": [
    "#### Step 4: Generate the summary statistics for the Monte Carlo simulation."
   ]
  },
  {
   "cell_type": "code",
   "execution_count": 37,
   "metadata": {},
   "outputs": [
    {
     "name": "stdout",
     "output_type": "stream",
     "text": [
      "count           500.000000\n",
      "mean              5.379194\n",
      "std               2.209450\n",
      "min               1.235628\n",
      "25%               3.906481\n",
      "50%               4.924086\n",
      "75%               6.408988\n",
      "max              15.500921\n",
      "95% CI Lower      2.400480\n",
      "95% CI Upper     10.600922\n",
      "Name: 7560, dtype: float64\n"
     ]
    }
   ],
   "source": [
    "# Generate summary statistics from the 30-year Monte Carlo simulation results\n",
    "# Save the results as a variable\n",
    "trad_weight_table = MC_trad_weight.summarize_cumulative_return()\n",
    "\n",
    "# Review the 30-year Monte Carlo summary statistics\n",
    "print(trad_weight_table)"
   ]
  },
  {
   "cell_type": "markdown",
   "metadata": {},
   "source": [
    "### Analyze the Retirement Portfolio Forecasts\n",
    "\n",
    "Using the current value of only the stock and bond portion of the member's portfolio and the summary statistics that you generated from the Monte Carlo simulation, answer the following question in your Jupyter notebook:\n",
    "\n",
    "-  What are the lower and upper bounds for the expected value of the portfolio with a 95% confidence interval?\n"
   ]
  },
  {
   "cell_type": "code",
   "execution_count": 38,
   "metadata": {},
   "outputs": [
    {
     "name": "stdout",
     "output_type": "stream",
     "text": [
      "Total Current Value of the Stock/Bond portion of the Portfolio:     $64,184.90\n"
     ]
    }
   ],
   "source": [
    "# Print the current balance of the stock and bond portion of the members portfolio\n",
    "print(f\"Total Current Value of the Stock/Bond portion of the Portfolio:     ${total_stocks_bonds:,.2f}\")"
   ]
  },
  {
   "cell_type": "code",
   "execution_count": 39,
   "metadata": {},
   "outputs": [
    {
     "name": "stdout",
     "output_type": "stream",
     "text": [
      "There's a 95% chance that investing the Stock/Bond portion of the portfolio (current value $64,184.90) in a 60/40 weight distribution over the next 30 years will result in a value within the range of $154,074.58 and $680,419.11.\n"
     ]
    }
   ],
   "source": [
    "# Use the lower and upper `95%` confidence intervals to calculate the range of the possible outcomes for the current stock/bond portfolio\n",
    "ci_lower_thirty_cumulative_return = trad_weight_table[8] * total_stocks_bonds\n",
    "ci_upper_thirty_cumulative_return = trad_weight_table[9] * total_stocks_bonds\n",
    "\n",
    "# Print the result of your calculations\n",
    "print(f\"There's a 95% chance that investing the Stock/Bond portion of the portfolio (current value ${total_stocks_bonds:,.2f}) in\"\n",
    "      f\" a 60/40 weight distribution over the next 30 years will result in a value within the range of\"\n",
    "      f\" ${ci_lower_thirty_cumulative_return:,.2f} and ${ci_upper_thirty_cumulative_return:,.2f}.\")"
   ]
  },
  {
   "cell_type": "markdown",
   "metadata": {},
   "source": [
    "### Forecast Cumulative Returns in 10 Years\n",
    "\n",
    "The CTO of the credit union is impressed with your work on these planning tools but wonders if 30 years is a long time to wait until retirement. So, your next task is to adjust the retirement portfolio and run a new Monte Carlo simulation to find out if the changes will allow members to retire earlier.\n",
    "\n",
    "For this new Monte Carlo simulation, do the following: \n",
    "\n",
    "- Forecast the cumulative returns for 10 years from now. Because of the shortened investment horizon (30 years to 10 years), the portfolio needs to invest more heavily in the riskier asset&mdash;that is, stock&mdash;to help accumulate wealth for retirement. \n",
    "\n",
    "- Adjust the weights of the retirement portfolio so that the composition for the Monte Carlo simulation consists of 20% bonds and 80% stocks. \n",
    "\n",
    "- Run the simulation over 500 samples, and use the same data that the API call to Alpaca generated.\n",
    "\n",
    "- Based on the new Monte Carlo simulation, answer the following questions in your Jupyter notebook:\n",
    "\n",
    "    - Using the current value of only the stock and bond portion of the member's portfolio and the summary statistics that you generated from the new Monte Carlo simulation, what are the lower and upper bounds for the expected value of the portfolio (with the new weights) with a 95% confidence interval?\n",
    "\n",
    "    - Will weighting the portfolio more heavily toward stocks allow the credit union members to retire after only 10 years?\n"
   ]
  },
  {
   "cell_type": "code",
   "execution_count": 40,
   "metadata": {},
   "outputs": [
    {
     "data": {
      "text/html": [
       "<div>\n",
       "<style scoped>\n",
       "    .dataframe tbody tr th:only-of-type {\n",
       "        vertical-align: middle;\n",
       "    }\n",
       "\n",
       "    .dataframe tbody tr th {\n",
       "        vertical-align: top;\n",
       "    }\n",
       "\n",
       "    .dataframe thead tr th {\n",
       "        text-align: left;\n",
       "    }\n",
       "\n",
       "    .dataframe thead tr:last-of-type th {\n",
       "        text-align: right;\n",
       "    }\n",
       "</style>\n",
       "<table border=\"1\" class=\"dataframe\">\n",
       "  <thead>\n",
       "    <tr>\n",
       "      <th></th>\n",
       "      <th colspan=\"6\" halign=\"left\">AGG</th>\n",
       "      <th colspan=\"6\" halign=\"left\">SPY</th>\n",
       "    </tr>\n",
       "    <tr>\n",
       "      <th></th>\n",
       "      <th>open</th>\n",
       "      <th>high</th>\n",
       "      <th>low</th>\n",
       "      <th>close</th>\n",
       "      <th>volume</th>\n",
       "      <th>daily_return</th>\n",
       "      <th>open</th>\n",
       "      <th>high</th>\n",
       "      <th>low</th>\n",
       "      <th>close</th>\n",
       "      <th>volume</th>\n",
       "      <th>daily_return</th>\n",
       "    </tr>\n",
       "    <tr>\n",
       "      <th>time</th>\n",
       "      <th></th>\n",
       "      <th></th>\n",
       "      <th></th>\n",
       "      <th></th>\n",
       "      <th></th>\n",
       "      <th></th>\n",
       "      <th></th>\n",
       "      <th></th>\n",
       "      <th></th>\n",
       "      <th></th>\n",
       "      <th></th>\n",
       "      <th></th>\n",
       "    </tr>\n",
       "  </thead>\n",
       "  <tbody>\n",
       "    <tr>\n",
       "      <th>2011-01-31 00:00:00-05:00</th>\n",
       "      <td>105.85</td>\n",
       "      <td>105.940</td>\n",
       "      <td>105.59</td>\n",
       "      <td>105.67</td>\n",
       "      <td>1514824</td>\n",
       "      <td>NaN</td>\n",
       "      <td>128.07</td>\n",
       "      <td>128.78</td>\n",
       "      <td>127.7500</td>\n",
       "      <td>128.67</td>\n",
       "      <td>125255715</td>\n",
       "      <td>NaN</td>\n",
       "    </tr>\n",
       "    <tr>\n",
       "      <th>2011-02-01 00:00:00-05:00</th>\n",
       "      <td>105.26</td>\n",
       "      <td>105.260</td>\n",
       "      <td>105.03</td>\n",
       "      <td>105.12</td>\n",
       "      <td>629903</td>\n",
       "      <td>-0.005205</td>\n",
       "      <td>129.46</td>\n",
       "      <td>130.97</td>\n",
       "      <td>129.3801</td>\n",
       "      <td>130.75</td>\n",
       "      <td>134943648</td>\n",
       "      <td>0.016165</td>\n",
       "    </tr>\n",
       "    <tr>\n",
       "      <th>2011-02-02 00:00:00-05:00</th>\n",
       "      <td>105.15</td>\n",
       "      <td>105.230</td>\n",
       "      <td>104.88</td>\n",
       "      <td>105.00</td>\n",
       "      <td>473272</td>\n",
       "      <td>-0.001142</td>\n",
       "      <td>130.40</td>\n",
       "      <td>130.84</td>\n",
       "      <td>130.3300</td>\n",
       "      <td>130.47</td>\n",
       "      <td>97820942</td>\n",
       "      <td>-0.002141</td>\n",
       "    </tr>\n",
       "    <tr>\n",
       "      <th>2011-02-03 00:00:00-05:00</th>\n",
       "      <td>104.79</td>\n",
       "      <td>104.871</td>\n",
       "      <td>104.61</td>\n",
       "      <td>104.62</td>\n",
       "      <td>838703</td>\n",
       "      <td>-0.003619</td>\n",
       "      <td>130.26</td>\n",
       "      <td>130.98</td>\n",
       "      <td>129.5700</td>\n",
       "      <td>130.78</td>\n",
       "      <td>122274669</td>\n",
       "      <td>0.002376</td>\n",
       "    </tr>\n",
       "    <tr>\n",
       "      <th>2011-02-04 00:00:00-05:00</th>\n",
       "      <td>104.51</td>\n",
       "      <td>104.630</td>\n",
       "      <td>104.20</td>\n",
       "      <td>104.25</td>\n",
       "      <td>1090269</td>\n",
       "      <td>-0.003537</td>\n",
       "      <td>130.83</td>\n",
       "      <td>131.20</td>\n",
       "      <td>130.2300</td>\n",
       "      <td>131.15</td>\n",
       "      <td>103598208</td>\n",
       "      <td>0.002829</td>\n",
       "    </tr>\n",
       "  </tbody>\n",
       "</table>\n",
       "</div>"
      ],
      "text/plain": [
       "                              AGG                                    \\\n",
       "                             open     high     low   close   volume   \n",
       "time                                                                  \n",
       "2011-01-31 00:00:00-05:00  105.85  105.940  105.59  105.67  1514824   \n",
       "2011-02-01 00:00:00-05:00  105.26  105.260  105.03  105.12   629903   \n",
       "2011-02-02 00:00:00-05:00  105.15  105.230  104.88  105.00   473272   \n",
       "2011-02-03 00:00:00-05:00  104.79  104.871  104.61  104.62   838703   \n",
       "2011-02-04 00:00:00-05:00  104.51  104.630  104.20  104.25  1090269   \n",
       "\n",
       "                                           SPY                            \\\n",
       "                          daily_return    open    high       low   close   \n",
       "time                                                                       \n",
       "2011-01-31 00:00:00-05:00          NaN  128.07  128.78  127.7500  128.67   \n",
       "2011-02-01 00:00:00-05:00    -0.005205  129.46  130.97  129.3801  130.75   \n",
       "2011-02-02 00:00:00-05:00    -0.001142  130.40  130.84  130.3300  130.47   \n",
       "2011-02-03 00:00:00-05:00    -0.003619  130.26  130.98  129.5700  130.78   \n",
       "2011-02-04 00:00:00-05:00    -0.003537  130.83  131.20  130.2300  131.15   \n",
       "\n",
       "                                                   \n",
       "                              volume daily_return  \n",
       "time                                               \n",
       "2011-01-31 00:00:00-05:00  125255715          NaN  \n",
       "2011-02-01 00:00:00-05:00  134943648     0.016165  \n",
       "2011-02-02 00:00:00-05:00   97820942    -0.002141  \n",
       "2011-02-03 00:00:00-05:00  122274669     0.002376  \n",
       "2011-02-04 00:00:00-05:00  103598208     0.002829  "
      ]
     },
     "execution_count": 40,
     "metadata": {},
     "output_type": "execute_result"
    }
   ],
   "source": [
    "# Configure a Monte Carlo simulation to forecast 10 years cumulative returns\n",
    "# The weights should be split 20% to AGG and 80% to SPY.\n",
    "# Run 500 samples.\n",
    "MC_spy80_weight = MCSimulation(\n",
    "    portfolio_data = prices_df,\n",
    "    weights = [.80,.20],\n",
    "    num_simulation = 500,\n",
    "    num_trading_days = 252*10\n",
    ")\n",
    "\n",
    "# Review the simulation input data\n",
    "MC_spy80_weight.portfolio_data.head()"
   ]
  },
  {
   "cell_type": "code",
   "execution_count": 41,
   "metadata": {},
   "outputs": [
    {
     "name": "stdout",
     "output_type": "stream",
     "text": [
      "Running Monte Carlo simulation number 0.\n",
      "Running Monte Carlo simulation number 10.\n",
      "Running Monte Carlo simulation number 20.\n",
      "Running Monte Carlo simulation number 30.\n",
      "Running Monte Carlo simulation number 40.\n",
      "Running Monte Carlo simulation number 50.\n",
      "Running Monte Carlo simulation number 60.\n",
      "Running Monte Carlo simulation number 70.\n",
      "Running Monte Carlo simulation number 80.\n",
      "Running Monte Carlo simulation number 90.\n",
      "Running Monte Carlo simulation number 100.\n",
      "Running Monte Carlo simulation number 110.\n",
      "Running Monte Carlo simulation number 120.\n",
      "Running Monte Carlo simulation number 130.\n",
      "Running Monte Carlo simulation number 140.\n",
      "Running Monte Carlo simulation number 150.\n",
      "Running Monte Carlo simulation number 160.\n",
      "Running Monte Carlo simulation number 170.\n",
      "Running Monte Carlo simulation number 180.\n",
      "Running Monte Carlo simulation number 190.\n",
      "Running Monte Carlo simulation number 200.\n",
      "Running Monte Carlo simulation number 210.\n",
      "Running Monte Carlo simulation number 220.\n",
      "Running Monte Carlo simulation number 230.\n",
      "Running Monte Carlo simulation number 240.\n",
      "Running Monte Carlo simulation number 250.\n",
      "Running Monte Carlo simulation number 260.\n",
      "Running Monte Carlo simulation number 270.\n",
      "Running Monte Carlo simulation number 280.\n",
      "Running Monte Carlo simulation number 290.\n",
      "Running Monte Carlo simulation number 300.\n",
      "Running Monte Carlo simulation number 310.\n",
      "Running Monte Carlo simulation number 320.\n",
      "Running Monte Carlo simulation number 330.\n",
      "Running Monte Carlo simulation number 340.\n",
      "Running Monte Carlo simulation number 350.\n",
      "Running Monte Carlo simulation number 360.\n",
      "Running Monte Carlo simulation number 370.\n",
      "Running Monte Carlo simulation number 380.\n",
      "Running Monte Carlo simulation number 390.\n",
      "Running Monte Carlo simulation number 400.\n",
      "Running Monte Carlo simulation number 410.\n",
      "Running Monte Carlo simulation number 420.\n",
      "Running Monte Carlo simulation number 430.\n",
      "Running Monte Carlo simulation number 440.\n",
      "Running Monte Carlo simulation number 450.\n",
      "Running Monte Carlo simulation number 460.\n",
      "Running Monte Carlo simulation number 470.\n",
      "Running Monte Carlo simulation number 480.\n",
      "Running Monte Carlo simulation number 490.\n"
     ]
    },
    {
     "data": {
      "text/html": [
       "<div>\n",
       "<style scoped>\n",
       "    .dataframe tbody tr th:only-of-type {\n",
       "        vertical-align: middle;\n",
       "    }\n",
       "\n",
       "    .dataframe tbody tr th {\n",
       "        vertical-align: top;\n",
       "    }\n",
       "\n",
       "    .dataframe thead th {\n",
       "        text-align: right;\n",
       "    }\n",
       "</style>\n",
       "<table border=\"1\" class=\"dataframe\">\n",
       "  <thead>\n",
       "    <tr style=\"text-align: right;\">\n",
       "      <th></th>\n",
       "      <th>0</th>\n",
       "      <th>1</th>\n",
       "      <th>2</th>\n",
       "      <th>3</th>\n",
       "      <th>4</th>\n",
       "      <th>5</th>\n",
       "      <th>6</th>\n",
       "      <th>7</th>\n",
       "      <th>8</th>\n",
       "      <th>9</th>\n",
       "      <th>...</th>\n",
       "      <th>490</th>\n",
       "      <th>491</th>\n",
       "      <th>492</th>\n",
       "      <th>493</th>\n",
       "      <th>494</th>\n",
       "      <th>495</th>\n",
       "      <th>496</th>\n",
       "      <th>497</th>\n",
       "      <th>498</th>\n",
       "      <th>499</th>\n",
       "    </tr>\n",
       "  </thead>\n",
       "  <tbody>\n",
       "    <tr>\n",
       "      <th>0</th>\n",
       "      <td>1.000000</td>\n",
       "      <td>1.000000</td>\n",
       "      <td>1.000000</td>\n",
       "      <td>1.000000</td>\n",
       "      <td>1.000000</td>\n",
       "      <td>1.000000</td>\n",
       "      <td>1.000000</td>\n",
       "      <td>1.000000</td>\n",
       "      <td>1.000000</td>\n",
       "      <td>1.000000</td>\n",
       "      <td>...</td>\n",
       "      <td>1.000000</td>\n",
       "      <td>1.000000</td>\n",
       "      <td>1.000000</td>\n",
       "      <td>1.000000</td>\n",
       "      <td>1.000000</td>\n",
       "      <td>1.000000</td>\n",
       "      <td>1.000000</td>\n",
       "      <td>1.000000</td>\n",
       "      <td>1.000000</td>\n",
       "      <td>1.000000</td>\n",
       "    </tr>\n",
       "    <tr>\n",
       "      <th>1</th>\n",
       "      <td>1.005223</td>\n",
       "      <td>1.002269</td>\n",
       "      <td>0.999772</td>\n",
       "      <td>1.004322</td>\n",
       "      <td>0.998509</td>\n",
       "      <td>0.996886</td>\n",
       "      <td>1.000591</td>\n",
       "      <td>1.001627</td>\n",
       "      <td>0.998700</td>\n",
       "      <td>1.000901</td>\n",
       "      <td>...</td>\n",
       "      <td>0.996318</td>\n",
       "      <td>0.994011</td>\n",
       "      <td>0.998641</td>\n",
       "      <td>1.004532</td>\n",
       "      <td>1.009240</td>\n",
       "      <td>0.999478</td>\n",
       "      <td>0.998777</td>\n",
       "      <td>1.000741</td>\n",
       "      <td>1.002830</td>\n",
       "      <td>0.998018</td>\n",
       "    </tr>\n",
       "    <tr>\n",
       "      <th>2</th>\n",
       "      <td>1.001495</td>\n",
       "      <td>1.004838</td>\n",
       "      <td>1.002133</td>\n",
       "      <td>1.000508</td>\n",
       "      <td>1.003487</td>\n",
       "      <td>0.996104</td>\n",
       "      <td>1.000188</td>\n",
       "      <td>1.001386</td>\n",
       "      <td>1.005387</td>\n",
       "      <td>0.998462</td>\n",
       "      <td>...</td>\n",
       "      <td>1.000247</td>\n",
       "      <td>0.993174</td>\n",
       "      <td>1.002992</td>\n",
       "      <td>1.004037</td>\n",
       "      <td>1.007890</td>\n",
       "      <td>0.998396</td>\n",
       "      <td>0.998433</td>\n",
       "      <td>0.998345</td>\n",
       "      <td>1.006830</td>\n",
       "      <td>0.998903</td>\n",
       "    </tr>\n",
       "    <tr>\n",
       "      <th>3</th>\n",
       "      <td>1.001148</td>\n",
       "      <td>0.998617</td>\n",
       "      <td>1.001314</td>\n",
       "      <td>1.000414</td>\n",
       "      <td>1.002811</td>\n",
       "      <td>0.994633</td>\n",
       "      <td>1.002179</td>\n",
       "      <td>1.001131</td>\n",
       "      <td>1.000644</td>\n",
       "      <td>0.997754</td>\n",
       "      <td>...</td>\n",
       "      <td>1.002197</td>\n",
       "      <td>0.994163</td>\n",
       "      <td>0.998024</td>\n",
       "      <td>0.999532</td>\n",
       "      <td>1.006638</td>\n",
       "      <td>1.001237</td>\n",
       "      <td>0.999343</td>\n",
       "      <td>1.001713</td>\n",
       "      <td>1.006309</td>\n",
       "      <td>0.994038</td>\n",
       "    </tr>\n",
       "    <tr>\n",
       "      <th>4</th>\n",
       "      <td>0.997364</td>\n",
       "      <td>1.001734</td>\n",
       "      <td>0.999866</td>\n",
       "      <td>1.003133</td>\n",
       "      <td>1.006552</td>\n",
       "      <td>0.991507</td>\n",
       "      <td>1.000931</td>\n",
       "      <td>1.004578</td>\n",
       "      <td>0.998217</td>\n",
       "      <td>1.000490</td>\n",
       "      <td>...</td>\n",
       "      <td>1.002369</td>\n",
       "      <td>0.994784</td>\n",
       "      <td>1.002127</td>\n",
       "      <td>0.999123</td>\n",
       "      <td>1.003074</td>\n",
       "      <td>0.998758</td>\n",
       "      <td>0.998614</td>\n",
       "      <td>1.003331</td>\n",
       "      <td>1.006458</td>\n",
       "      <td>0.992993</td>\n",
       "    </tr>\n",
       "    <tr>\n",
       "      <th>...</th>\n",
       "      <td>...</td>\n",
       "      <td>...</td>\n",
       "      <td>...</td>\n",
       "      <td>...</td>\n",
       "      <td>...</td>\n",
       "      <td>...</td>\n",
       "      <td>...</td>\n",
       "      <td>...</td>\n",
       "      <td>...</td>\n",
       "      <td>...</td>\n",
       "      <td>...</td>\n",
       "      <td>...</td>\n",
       "      <td>...</td>\n",
       "      <td>...</td>\n",
       "      <td>...</td>\n",
       "      <td>...</td>\n",
       "      <td>...</td>\n",
       "      <td>...</td>\n",
       "      <td>...</td>\n",
       "      <td>...</td>\n",
       "      <td>...</td>\n",
       "    </tr>\n",
       "    <tr>\n",
       "      <th>2516</th>\n",
       "      <td>1.271526</td>\n",
       "      <td>1.291158</td>\n",
       "      <td>1.243464</td>\n",
       "      <td>1.179083</td>\n",
       "      <td>1.961277</td>\n",
       "      <td>1.299714</td>\n",
       "      <td>1.565948</td>\n",
       "      <td>0.935829</td>\n",
       "      <td>1.502181</td>\n",
       "      <td>1.663508</td>\n",
       "      <td>...</td>\n",
       "      <td>1.480330</td>\n",
       "      <td>1.516668</td>\n",
       "      <td>1.052084</td>\n",
       "      <td>1.961885</td>\n",
       "      <td>1.374499</td>\n",
       "      <td>1.667997</td>\n",
       "      <td>1.547002</td>\n",
       "      <td>1.504444</td>\n",
       "      <td>1.136398</td>\n",
       "      <td>1.376810</td>\n",
       "    </tr>\n",
       "    <tr>\n",
       "      <th>2517</th>\n",
       "      <td>1.264904</td>\n",
       "      <td>1.290043</td>\n",
       "      <td>1.237875</td>\n",
       "      <td>1.184838</td>\n",
       "      <td>1.961170</td>\n",
       "      <td>1.305863</td>\n",
       "      <td>1.570161</td>\n",
       "      <td>0.940810</td>\n",
       "      <td>1.496614</td>\n",
       "      <td>1.662621</td>\n",
       "      <td>...</td>\n",
       "      <td>1.483035</td>\n",
       "      <td>1.517886</td>\n",
       "      <td>1.053749</td>\n",
       "      <td>1.964478</td>\n",
       "      <td>1.377355</td>\n",
       "      <td>1.664533</td>\n",
       "      <td>1.546635</td>\n",
       "      <td>1.505661</td>\n",
       "      <td>1.135312</td>\n",
       "      <td>1.375857</td>\n",
       "    </tr>\n",
       "    <tr>\n",
       "      <th>2518</th>\n",
       "      <td>1.261065</td>\n",
       "      <td>1.292405</td>\n",
       "      <td>1.238646</td>\n",
       "      <td>1.186999</td>\n",
       "      <td>1.958191</td>\n",
       "      <td>1.317747</td>\n",
       "      <td>1.565419</td>\n",
       "      <td>0.940442</td>\n",
       "      <td>1.493391</td>\n",
       "      <td>1.667096</td>\n",
       "      <td>...</td>\n",
       "      <td>1.488440</td>\n",
       "      <td>1.513370</td>\n",
       "      <td>1.046036</td>\n",
       "      <td>1.956391</td>\n",
       "      <td>1.374791</td>\n",
       "      <td>1.654876</td>\n",
       "      <td>1.546234</td>\n",
       "      <td>1.503654</td>\n",
       "      <td>1.136412</td>\n",
       "      <td>1.379201</td>\n",
       "    </tr>\n",
       "    <tr>\n",
       "      <th>2519</th>\n",
       "      <td>1.263890</td>\n",
       "      <td>1.288357</td>\n",
       "      <td>1.245345</td>\n",
       "      <td>1.195087</td>\n",
       "      <td>1.956746</td>\n",
       "      <td>1.316028</td>\n",
       "      <td>1.567076</td>\n",
       "      <td>0.944342</td>\n",
       "      <td>1.495368</td>\n",
       "      <td>1.660301</td>\n",
       "      <td>...</td>\n",
       "      <td>1.493194</td>\n",
       "      <td>1.512690</td>\n",
       "      <td>1.046173</td>\n",
       "      <td>1.952352</td>\n",
       "      <td>1.379614</td>\n",
       "      <td>1.656619</td>\n",
       "      <td>1.544293</td>\n",
       "      <td>1.502270</td>\n",
       "      <td>1.134644</td>\n",
       "      <td>1.388793</td>\n",
       "    </tr>\n",
       "    <tr>\n",
       "      <th>2520</th>\n",
       "      <td>1.266880</td>\n",
       "      <td>1.285204</td>\n",
       "      <td>1.246720</td>\n",
       "      <td>1.198389</td>\n",
       "      <td>1.946957</td>\n",
       "      <td>1.306352</td>\n",
       "      <td>1.563435</td>\n",
       "      <td>0.945307</td>\n",
       "      <td>1.492801</td>\n",
       "      <td>1.658948</td>\n",
       "      <td>...</td>\n",
       "      <td>1.487393</td>\n",
       "      <td>1.510470</td>\n",
       "      <td>1.047653</td>\n",
       "      <td>1.953454</td>\n",
       "      <td>1.372215</td>\n",
       "      <td>1.663393</td>\n",
       "      <td>1.545131</td>\n",
       "      <td>1.498671</td>\n",
       "      <td>1.133356</td>\n",
       "      <td>1.392364</td>\n",
       "    </tr>\n",
       "  </tbody>\n",
       "</table>\n",
       "<p>2521 rows × 500 columns</p>\n",
       "</div>"
      ],
      "text/plain": [
       "           0         1         2         3         4         5         6    \\\n",
       "0     1.000000  1.000000  1.000000  1.000000  1.000000  1.000000  1.000000   \n",
       "1     1.005223  1.002269  0.999772  1.004322  0.998509  0.996886  1.000591   \n",
       "2     1.001495  1.004838  1.002133  1.000508  1.003487  0.996104  1.000188   \n",
       "3     1.001148  0.998617  1.001314  1.000414  1.002811  0.994633  1.002179   \n",
       "4     0.997364  1.001734  0.999866  1.003133  1.006552  0.991507  1.000931   \n",
       "...        ...       ...       ...       ...       ...       ...       ...   \n",
       "2516  1.271526  1.291158  1.243464  1.179083  1.961277  1.299714  1.565948   \n",
       "2517  1.264904  1.290043  1.237875  1.184838  1.961170  1.305863  1.570161   \n",
       "2518  1.261065  1.292405  1.238646  1.186999  1.958191  1.317747  1.565419   \n",
       "2519  1.263890  1.288357  1.245345  1.195087  1.956746  1.316028  1.567076   \n",
       "2520  1.266880  1.285204  1.246720  1.198389  1.946957  1.306352  1.563435   \n",
       "\n",
       "           7         8         9    ...       490       491       492  \\\n",
       "0     1.000000  1.000000  1.000000  ...  1.000000  1.000000  1.000000   \n",
       "1     1.001627  0.998700  1.000901  ...  0.996318  0.994011  0.998641   \n",
       "2     1.001386  1.005387  0.998462  ...  1.000247  0.993174  1.002992   \n",
       "3     1.001131  1.000644  0.997754  ...  1.002197  0.994163  0.998024   \n",
       "4     1.004578  0.998217  1.000490  ...  1.002369  0.994784  1.002127   \n",
       "...        ...       ...       ...  ...       ...       ...       ...   \n",
       "2516  0.935829  1.502181  1.663508  ...  1.480330  1.516668  1.052084   \n",
       "2517  0.940810  1.496614  1.662621  ...  1.483035  1.517886  1.053749   \n",
       "2518  0.940442  1.493391  1.667096  ...  1.488440  1.513370  1.046036   \n",
       "2519  0.944342  1.495368  1.660301  ...  1.493194  1.512690  1.046173   \n",
       "2520  0.945307  1.492801  1.658948  ...  1.487393  1.510470  1.047653   \n",
       "\n",
       "           493       494       495       496       497       498       499  \n",
       "0     1.000000  1.000000  1.000000  1.000000  1.000000  1.000000  1.000000  \n",
       "1     1.004532  1.009240  0.999478  0.998777  1.000741  1.002830  0.998018  \n",
       "2     1.004037  1.007890  0.998396  0.998433  0.998345  1.006830  0.998903  \n",
       "3     0.999532  1.006638  1.001237  0.999343  1.001713  1.006309  0.994038  \n",
       "4     0.999123  1.003074  0.998758  0.998614  1.003331  1.006458  0.992993  \n",
       "...        ...       ...       ...       ...       ...       ...       ...  \n",
       "2516  1.961885  1.374499  1.667997  1.547002  1.504444  1.136398  1.376810  \n",
       "2517  1.964478  1.377355  1.664533  1.546635  1.505661  1.135312  1.375857  \n",
       "2518  1.956391  1.374791  1.654876  1.546234  1.503654  1.136412  1.379201  \n",
       "2519  1.952352  1.379614  1.656619  1.544293  1.502270  1.134644  1.388793  \n",
       "2520  1.953454  1.372215  1.663393  1.545131  1.498671  1.133356  1.392364  \n",
       "\n",
       "[2521 rows x 500 columns]"
      ]
     },
     "execution_count": 41,
     "metadata": {},
     "output_type": "execute_result"
    }
   ],
   "source": [
    "# Run the Monte Carlo simulation to forecast 10 years cumulative returns\n",
    "MC_spy80_weight.calc_cumulative_return()"
   ]
  },
  {
   "cell_type": "code",
   "execution_count": 42,
   "metadata": {},
   "outputs": [
    {
     "data": {
      "image/png": "[encoded data removed]",
      "text/plain": [
       "<Figure size 432x288 with 1 Axes>"
      ]
     },
     "metadata": {
      "needs_background": "light"
     },
     "output_type": "display_data"
    }
   ],
   "source": [
    "# Visualize the 10-year Monte Carlo simulation by creating an\n",
    "# overlay line plot\n",
    "spy80_weight_line_plot = MC_spy80_weight.plot_simulation()\n",
    "\n",
    "# Save the plot for future use\n",
    "spy80_weight_line_plot.get_figure().savefig(\"MC_spy80_weight_line_plot.png\", bbox_inches=\"tight\")"
   ]
  },
  {
   "cell_type": "code",
   "execution_count": 43,
   "metadata": {},
   "outputs": [
    {
     "data": {
      "image/png": "[encoded data removed]",
      "text/plain": [
       "<Figure size 432x288 with 1 Axes>"
      ]
     },
     "metadata": {
      "needs_background": "light"
     },
     "output_type": "display_data"
    }
   ],
   "source": [
    "# Visualize the probability distribution of the 10-year Monte Carlo simulation \n",
    "# by plotting a histogram\n",
    "spy80_weight_distribution_plot = MC_spy80_weight.plot_distribution()\n",
    "\n",
    "# Save the plot for future use\n",
    "spy80_weight_distribution_plot.get_figure().savefig('MC_spy80_weight_dist_plot.png',bbox_inches='tight')"
   ]
  },
  {
   "cell_type": "code",
   "execution_count": 44,
   "metadata": {},
   "outputs": [
    {
     "name": "stdout",
     "output_type": "stream",
     "text": [
      "count           500.000000\n",
      "mean              1.398248\n",
      "std               0.211534\n",
      "min               0.914605\n",
      "25%               1.246271\n",
      "50%               1.384371\n",
      "75%               1.516291\n",
      "max               2.100679\n",
      "95% CI Lower      1.040162\n",
      "95% CI Upper      1.872343\n",
      "Name: 2520, dtype: float64\n"
     ]
    }
   ],
   "source": [
    "# Generate summary statistics from the 10-year Monte Carlo simulation results\n",
    "# Save the results as a variable\n",
    "spy80_weight_table = MC_spy80_weight.summarize_cumulative_return()\n",
    "\n",
    "# Review the 10-year Monte Carlo summary statistics\n",
    "print(spy80_weight_table)"
   ]
  },
  {
   "cell_type": "markdown",
   "metadata": {},
   "source": [
    "### Answer the following questions:"
   ]
  },
  {
   "cell_type": "markdown",
   "metadata": {},
   "source": [
    "#### Question: Using the current value of only the stock and bond portion of the member's portfolio and the summary statistics that you generated from the new Monte Carlo simulation, what are the lower and upper bounds for the expected value of the portfolio (with the new weights) with a 95% confidence interval?"
   ]
  },
  {
   "cell_type": "code",
   "execution_count": 53,
   "metadata": {},
   "outputs": [
    {
     "name": "stdout",
     "output_type": "stream",
     "text": [
      "Total Current Value of the Stock/Bond portion of the Portfolio:     $64,184.90\n"
     ]
    }
   ],
   "source": [
    "# Print the current balance of the stock and bond portion of the members portfolio\n",
    "print(f\"Total Current Value of the Stock/Bond portion of the Portfolio:     ${total_stocks_bonds:,.2f}\")\n"
   ]
  },
  {
   "cell_type": "code",
   "execution_count": 54,
   "metadata": {},
   "outputs": [
    {
     "name": "stdout",
     "output_type": "stream",
     "text": [
      "There's a 95% chance, if a more aggressive 80/20 weight distribution over the next 10 years is taken, the Stock/Bond portion (current value: $64,184.90) could range between $65,036.85 and $118,005.05 in value.\n"
     ]
    }
   ],
   "source": [
    "# Use the lower and upper `95%` confidence intervals to calculate the range of the possible outcomes for the current stock/bond portfolio\n",
    "ci_lower_ten_cumulative_return = spy80_weight_table[8] * total_stocks_bonds\n",
    "ci_upper_ten_cumulative_return = spy80_weight_table[9] * total_stocks_bonds\n",
    "\n",
    "# Print the result of your calculations\n",
    "print(f\"There's a 95% chance, if a more aggressive 80/20 weight distribution over the next 10 years is taken, the Stock/Bond portion \"\n",
    "      f\"(current value: ${total_stocks_bonds:,.2f}) could range between ${ci_lower_ten_cumulative_return:,.2f} and ${ci_upper_ten_cumulative_return:,.2f} in value.\")\n",
    "    \n"
   ]
  },
  {
   "cell_type": "markdown",
   "metadata": {},
   "source": [
    "#### Question: Will weighting the portfolio more heavily to stocks allow the credit union members to retire after only 10 years?"
   ]
  },
  {
   "cell_type": "raw",
   "metadata": {},
   "source": [
    "In my opinion, we would need to know more about each of the members and their risk profile before making a full recommendation.  For someone that is ok with more risk then they would be fine to invest in a portfolio weighted more heavily to stocks.  For those who are more risk averse and looking to preserve their capital over the potential of a higher-than-average return, then there are less riskier ways to weight their portfolio."
   ]
  }
 ],
 "metadata": {
  "kernelspec": {
   "display_name": "Python 3",
   "language": "python",
   "name": "python3"
  },
  "language_info": {
   "codemirror_mode": {
    "name": "ipython",
    "version": 3
   },
   "file_extension": ".py",
   "mimetype": "text/x-python",
   "name": "python",
   "nbconvert_exporter": "python",
   "pygments_lexer": "ipython3",
   "version": "3.8.5"
  }
 },
 "nbformat": 4,
 "nbformat_minor": 4
}
